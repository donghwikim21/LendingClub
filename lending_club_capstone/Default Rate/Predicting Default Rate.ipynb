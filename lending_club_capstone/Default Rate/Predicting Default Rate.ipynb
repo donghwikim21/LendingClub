{
 "cells": [
  {
   "cell_type": "markdown",
   "metadata": {},
   "source": [
    "# Project Idea 5: Survival Time Analysis\n",
    "- A loan which gets repaid within a few months has no value to the investor.\n",
    "- It is negative to the investors beacause of the **opportunity cost** of investing.\n",
    "- A loan which defaults quickly after issuance is even worse. It often induces\n",
    "a larger loss.\n",
    "- Thus it is very important for the loan investor to have an accurate expectation on \n",
    "the loan-performance (in terms of duration or net PnL).\n",
    "It is even more important when the loan is sold by the original investor to\n",
    "the secondary market, a correct expectation on the remaining term of the loan and\n",
    "the default rate is crucial for a correct pricing of the loan.\n",
    "https://www.lendingclub.com/investing/investor-education/are-lendingclub-notes-liquid\n",
    "- Build models to predict loan duration (last_payment_date - issuance_date)\n",
    "for charged off/default loans and for good loans which terminate with 'fully paid' status.\n",
    "- Build models to predict total profits/losses (or total principal/interest)\n",
    "\n",
    "- Show evidences to link the loan-duration and the PnL, which may justify\n",
    "training a joint model predicting multi-regression-targets.\n",
    "\n",
    "- Modeling the survival of loans is a very important topic across different domains.\n",
    "In health care/health insurance it is usually called survival analysis.\n",
    "In modeling product life expectancy, engineers use a different term reliability analysis.\n",
    "The same type of thought can be used on financial instrument default or marketing/customer retention.\n",
    "- Note that there is an add-on survival analysis package 'scikit-survival' on top of **sklearn**.\n",
    "There are a ton of packages in R dedicated to survival analysis, visit\n",
    "https://cran.r-project.org/web/views/Survival.html for a survey.\n",
    "- You can either start from scratch or adapt the traditional approach of\n",
    "survival/hazard analysis. In the latter approach, you need to read research papers effectively."
   ]
  },
  {
   "cell_type": "markdown",
   "metadata": {},
   "source": [
    "## 1. Importing Data\n"
   ]
  },
  {
   "cell_type": "code",
   "execution_count": 4,
   "metadata": {},
   "outputs": [],
   "source": [
    "import pandas as pd\n",
    "import seaborn as sns\n",
    "import numpy as np\n",
    "import matplotlib.pyplot as plt\n",
    "from lifelines import KaplanMeierFitter\n",
    "from datetime import datetime as dt\n",
    "from datetime import timedelta"
   ]
  },
  {
   "cell_type": "code",
   "execution_count": 7,
   "metadata": {
    "scrolled": true
   },
   "outputs": [
    {
     "name": "stderr",
     "output_type": "stream",
     "text": [
      "/Users/jameskim/opt/anaconda3/lib/python3.7/site-packages/IPython/core/interactiveshell.py:3058: DtypeWarning: Columns (0,19,49,59,118,129,130,131,134,135,136,139,145,146,147) have mixed types. Specify dtype option on import or set low_memory=False.\n",
      "  interactivity=interactivity, compiler=compiler, result=result)\n"
     ]
    }
   ],
   "source": [
    "accepted = pd.read_csv('accepted_2007_to_2018Q4.csv')\n"
   ]
  },
  {
   "cell_type": "code",
   "execution_count": 8,
   "metadata": {},
   "outputs": [
    {
     "data": {
      "text/plain": [
       "(2260701, 151)"
      ]
     },
     "execution_count": 8,
     "metadata": {},
     "output_type": "execute_result"
    }
   ],
   "source": [
    "accepted.shape"
   ]
  },
  {
   "cell_type": "code",
   "execution_count": 4,
   "metadata": {
    "scrolled": false
   },
   "outputs": [
    {
     "data": {
      "text/html": [
       "<div>\n",
       "<style scoped>\n",
       "    .dataframe tbody tr th:only-of-type {\n",
       "        vertical-align: middle;\n",
       "    }\n",
       "\n",
       "    .dataframe tbody tr th {\n",
       "        vertical-align: top;\n",
       "    }\n",
       "\n",
       "    .dataframe thead th {\n",
       "        text-align: right;\n",
       "    }\n",
       "</style>\n",
       "<table border=\"1\" class=\"dataframe\">\n",
       "  <thead>\n",
       "    <tr style=\"text-align: right;\">\n",
       "      <th></th>\n",
       "      <th>id</th>\n",
       "      <th>member_id</th>\n",
       "      <th>loan_amnt</th>\n",
       "      <th>funded_amnt</th>\n",
       "      <th>funded_amnt_inv</th>\n",
       "      <th>term</th>\n",
       "      <th>int_rate</th>\n",
       "      <th>installment</th>\n",
       "      <th>grade</th>\n",
       "      <th>sub_grade</th>\n",
       "      <th>...</th>\n",
       "      <th>hardship_payoff_balance_amount</th>\n",
       "      <th>hardship_last_payment_amount</th>\n",
       "      <th>disbursement_method</th>\n",
       "      <th>debt_settlement_flag</th>\n",
       "      <th>debt_settlement_flag_date</th>\n",
       "      <th>settlement_status</th>\n",
       "      <th>settlement_date</th>\n",
       "      <th>settlement_amount</th>\n",
       "      <th>settlement_percentage</th>\n",
       "      <th>settlement_term</th>\n",
       "    </tr>\n",
       "  </thead>\n",
       "  <tbody>\n",
       "    <tr>\n",
       "      <td>2075242</td>\n",
       "      <td>125146955</td>\n",
       "      <td>NaN</td>\n",
       "      <td>12000.0</td>\n",
       "      <td>12000.0</td>\n",
       "      <td>12000.0</td>\n",
       "      <td>60 months</td>\n",
       "      <td>17.09</td>\n",
       "      <td>298.82</td>\n",
       "      <td>D</td>\n",
       "      <td>D1</td>\n",
       "      <td>...</td>\n",
       "      <td>NaN</td>\n",
       "      <td>NaN</td>\n",
       "      <td>Cash</td>\n",
       "      <td>N</td>\n",
       "      <td>NaN</td>\n",
       "      <td>NaN</td>\n",
       "      <td>NaN</td>\n",
       "      <td>NaN</td>\n",
       "      <td>NaN</td>\n",
       "      <td>NaN</td>\n",
       "    </tr>\n",
       "    <tr>\n",
       "      <td>293359</td>\n",
       "      <td>47979335</td>\n",
       "      <td>NaN</td>\n",
       "      <td>10725.0</td>\n",
       "      <td>10725.0</td>\n",
       "      <td>10725.0</td>\n",
       "      <td>36 months</td>\n",
       "      <td>21.67</td>\n",
       "      <td>407.77</td>\n",
       "      <td>E</td>\n",
       "      <td>E5</td>\n",
       "      <td>...</td>\n",
       "      <td>NaN</td>\n",
       "      <td>NaN</td>\n",
       "      <td>Cash</td>\n",
       "      <td>N</td>\n",
       "      <td>NaN</td>\n",
       "      <td>NaN</td>\n",
       "      <td>NaN</td>\n",
       "      <td>NaN</td>\n",
       "      <td>NaN</td>\n",
       "      <td>NaN</td>\n",
       "    </tr>\n",
       "    <tr>\n",
       "      <td>1456992</td>\n",
       "      <td>141407246</td>\n",
       "      <td>NaN</td>\n",
       "      <td>35000.0</td>\n",
       "      <td>35000.0</td>\n",
       "      <td>35000.0</td>\n",
       "      <td>36 months</td>\n",
       "      <td>17.97</td>\n",
       "      <td>1264.81</td>\n",
       "      <td>D</td>\n",
       "      <td>D1</td>\n",
       "      <td>...</td>\n",
       "      <td>NaN</td>\n",
       "      <td>NaN</td>\n",
       "      <td>Cash</td>\n",
       "      <td>N</td>\n",
       "      <td>NaN</td>\n",
       "      <td>NaN</td>\n",
       "      <td>NaN</td>\n",
       "      <td>NaN</td>\n",
       "      <td>NaN</td>\n",
       "      <td>NaN</td>\n",
       "    </tr>\n",
       "    <tr>\n",
       "      <td>1067063</td>\n",
       "      <td>70845968</td>\n",
       "      <td>NaN</td>\n",
       "      <td>12000.0</td>\n",
       "      <td>12000.0</td>\n",
       "      <td>12000.0</td>\n",
       "      <td>36 months</td>\n",
       "      <td>7.39</td>\n",
       "      <td>372.67</td>\n",
       "      <td>A</td>\n",
       "      <td>A4</td>\n",
       "      <td>...</td>\n",
       "      <td>NaN</td>\n",
       "      <td>NaN</td>\n",
       "      <td>Cash</td>\n",
       "      <td>N</td>\n",
       "      <td>NaN</td>\n",
       "      <td>NaN</td>\n",
       "      <td>NaN</td>\n",
       "      <td>NaN</td>\n",
       "      <td>NaN</td>\n",
       "      <td>NaN</td>\n",
       "    </tr>\n",
       "    <tr>\n",
       "      <td>2188552</td>\n",
       "      <td>92848268</td>\n",
       "      <td>NaN</td>\n",
       "      <td>12000.0</td>\n",
       "      <td>12000.0</td>\n",
       "      <td>12000.0</td>\n",
       "      <td>60 months</td>\n",
       "      <td>12.74</td>\n",
       "      <td>271.45</td>\n",
       "      <td>C</td>\n",
       "      <td>C1</td>\n",
       "      <td>...</td>\n",
       "      <td>NaN</td>\n",
       "      <td>NaN</td>\n",
       "      <td>Cash</td>\n",
       "      <td>N</td>\n",
       "      <td>NaN</td>\n",
       "      <td>NaN</td>\n",
       "      <td>NaN</td>\n",
       "      <td>NaN</td>\n",
       "      <td>NaN</td>\n",
       "      <td>NaN</td>\n",
       "    </tr>\n",
       "  </tbody>\n",
       "</table>\n",
       "<p>5 rows × 151 columns</p>\n",
       "</div>"
      ],
      "text/plain": [
       "                id  member_id  loan_amnt  funded_amnt  funded_amnt_inv  \\\n",
       "2075242  125146955        NaN    12000.0      12000.0          12000.0   \n",
       "293359    47979335        NaN    10725.0      10725.0          10725.0   \n",
       "1456992  141407246        NaN    35000.0      35000.0          35000.0   \n",
       "1067063   70845968        NaN    12000.0      12000.0          12000.0   \n",
       "2188552   92848268        NaN    12000.0      12000.0          12000.0   \n",
       "\n",
       "               term  int_rate  installment grade sub_grade  ...  \\\n",
       "2075242   60 months     17.09       298.82     D        D1  ...   \n",
       "293359    36 months     21.67       407.77     E        E5  ...   \n",
       "1456992   36 months     17.97      1264.81     D        D1  ...   \n",
       "1067063   36 months      7.39       372.67     A        A4  ...   \n",
       "2188552   60 months     12.74       271.45     C        C1  ...   \n",
       "\n",
       "        hardship_payoff_balance_amount hardship_last_payment_amount  \\\n",
       "2075242                            NaN                          NaN   \n",
       "293359                             NaN                          NaN   \n",
       "1456992                            NaN                          NaN   \n",
       "1067063                            NaN                          NaN   \n",
       "2188552                            NaN                          NaN   \n",
       "\n",
       "        disbursement_method  debt_settlement_flag debt_settlement_flag_date  \\\n",
       "2075242                Cash                     N                       NaN   \n",
       "293359                 Cash                     N                       NaN   \n",
       "1456992                Cash                     N                       NaN   \n",
       "1067063                Cash                     N                       NaN   \n",
       "2188552                Cash                     N                       NaN   \n",
       "\n",
       "        settlement_status settlement_date settlement_amount  \\\n",
       "2075242               NaN             NaN               NaN   \n",
       "293359                NaN             NaN               NaN   \n",
       "1456992               NaN             NaN               NaN   \n",
       "1067063               NaN             NaN               NaN   \n",
       "2188552               NaN             NaN               NaN   \n",
       "\n",
       "        settlement_percentage settlement_term  \n",
       "2075242                   NaN             NaN  \n",
       "293359                    NaN             NaN  \n",
       "1456992                   NaN             NaN  \n",
       "1067063                   NaN             NaN  \n",
       "2188552                   NaN             NaN  \n",
       "\n",
       "[5 rows x 151 columns]"
      ]
     },
     "execution_count": 4,
     "metadata": {},
     "output_type": "execute_result"
    }
   ],
   "source": [
    "accepted.sample(5)"
   ]
  },
  {
   "cell_type": "markdown",
   "metadata": {},
   "source": [
    "## 2. Data Pre-Processing\n"
   ]
  },
  {
   "cell_type": "code",
   "execution_count": 5,
   "metadata": {},
   "outputs": [],
   "source": [
    "accepted['issue_date'] = pd.to_datetime(accepted['issue_d'])\n",
    "accepted['issue_d'] = accepted['issue_date'].apply(lambda x: str(x)[:7])\n",
    "accepted['last_pymnt_date'] = pd.to_datetime(accepted['last_pymnt_d'])\n",
    "accepted['paid_months'] = (accepted['last_pymnt_date'].dt.year - accepted['issue_date'].dt.year) * 12 + accepted['last_pymnt_date'].dt.month - accepted['issue_date'].dt.month\n"
   ]
  },
  {
   "cell_type": "code",
   "execution_count": 6,
   "metadata": {},
   "outputs": [
    {
     "data": {
      "text/html": [
       "<div>\n",
       "<style scoped>\n",
       "    .dataframe tbody tr th:only-of-type {\n",
       "        vertical-align: middle;\n",
       "    }\n",
       "\n",
       "    .dataframe tbody tr th {\n",
       "        vertical-align: top;\n",
       "    }\n",
       "\n",
       "    .dataframe thead th {\n",
       "        text-align: right;\n",
       "    }\n",
       "</style>\n",
       "<table border=\"1\" class=\"dataframe\">\n",
       "  <thead>\n",
       "    <tr style=\"text-align: right;\">\n",
       "      <th></th>\n",
       "      <th>issue_date</th>\n",
       "      <th>loan_status</th>\n",
       "      <th>paid_months</th>\n",
       "      <th>last_pymnt_date</th>\n",
       "    </tr>\n",
       "  </thead>\n",
       "  <tbody>\n",
       "    <tr>\n",
       "      <td>1231509</td>\n",
       "      <td>2014-07-01</td>\n",
       "      <td>Charged Off</td>\n",
       "      <td>29.0</td>\n",
       "      <td>2016-12-01</td>\n",
       "    </tr>\n",
       "    <tr>\n",
       "      <td>736550</td>\n",
       "      <td>2016-04-01</td>\n",
       "      <td>Fully Paid</td>\n",
       "      <td>34.0</td>\n",
       "      <td>2019-02-01</td>\n",
       "    </tr>\n",
       "    <tr>\n",
       "      <td>2054571</td>\n",
       "      <td>2017-12-01</td>\n",
       "      <td>Current</td>\n",
       "      <td>15.0</td>\n",
       "      <td>2019-03-01</td>\n",
       "    </tr>\n",
       "    <tr>\n",
       "      <td>54619</td>\n",
       "      <td>2015-11-01</td>\n",
       "      <td>Fully Paid</td>\n",
       "      <td>36.0</td>\n",
       "      <td>2018-11-01</td>\n",
       "    </tr>\n",
       "    <tr>\n",
       "      <td>666313</td>\n",
       "      <td>2016-06-01</td>\n",
       "      <td>Fully Paid</td>\n",
       "      <td>16.0</td>\n",
       "      <td>2017-10-01</td>\n",
       "    </tr>\n",
       "    <tr>\n",
       "      <td>239294</td>\n",
       "      <td>2015-07-01</td>\n",
       "      <td>Fully Paid</td>\n",
       "      <td>21.0</td>\n",
       "      <td>2017-04-01</td>\n",
       "    </tr>\n",
       "    <tr>\n",
       "      <td>1173490</td>\n",
       "      <td>2014-10-01</td>\n",
       "      <td>Fully Paid</td>\n",
       "      <td>36.0</td>\n",
       "      <td>2017-10-01</td>\n",
       "    </tr>\n",
       "    <tr>\n",
       "      <td>588165</td>\n",
       "      <td>2017-08-01</td>\n",
       "      <td>Current</td>\n",
       "      <td>19.0</td>\n",
       "      <td>2019-03-01</td>\n",
       "    </tr>\n",
       "    <tr>\n",
       "      <td>128363</td>\n",
       "      <td>2015-10-01</td>\n",
       "      <td>Fully Paid</td>\n",
       "      <td>39.0</td>\n",
       "      <td>2019-01-01</td>\n",
       "    </tr>\n",
       "    <tr>\n",
       "      <td>1494931</td>\n",
       "      <td>2018-06-01</td>\n",
       "      <td>Current</td>\n",
       "      <td>9.0</td>\n",
       "      <td>2019-03-01</td>\n",
       "    </tr>\n",
       "  </tbody>\n",
       "</table>\n",
       "</div>"
      ],
      "text/plain": [
       "        issue_date  loan_status  paid_months last_pymnt_date\n",
       "1231509 2014-07-01  Charged Off         29.0      2016-12-01\n",
       "736550  2016-04-01   Fully Paid         34.0      2019-02-01\n",
       "2054571 2017-12-01      Current         15.0      2019-03-01\n",
       "54619   2015-11-01   Fully Paid         36.0      2018-11-01\n",
       "666313  2016-06-01   Fully Paid         16.0      2017-10-01\n",
       "239294  2015-07-01   Fully Paid         21.0      2017-04-01\n",
       "1173490 2014-10-01   Fully Paid         36.0      2017-10-01\n",
       "588165  2017-08-01      Current         19.0      2019-03-01\n",
       "128363  2015-10-01   Fully Paid         39.0      2019-01-01\n",
       "1494931 2018-06-01      Current          9.0      2019-03-01"
      ]
     },
     "execution_count": 6,
     "metadata": {},
     "output_type": "execute_result"
    }
   ],
   "source": [
    "accepted[['issue_date','loan_status','paid_months','last_pymnt_date']].sample(10)"
   ]
  },
  {
   "cell_type": "code",
   "execution_count": 7,
   "metadata": {},
   "outputs": [
    {
     "data": {
      "text/plain": [
       "id                             0\n",
       "member_id                2260701\n",
       "loan_amnt                     33\n",
       "funded_amnt                   33\n",
       "funded_amnt_inv               33\n",
       "                          ...   \n",
       "settlement_percentage    2226455\n",
       "settlement_term          2226455\n",
       "issue_date                    33\n",
       "last_pymnt_date             2460\n",
       "paid_months                 2460\n",
       "Length: 154, dtype: int64"
      ]
     },
     "execution_count": 7,
     "metadata": {},
     "output_type": "execute_result"
    }
   ],
   "source": [
    "accepted.isna().sum()"
   ]
  },
  {
   "cell_type": "code",
   "execution_count": 8,
   "metadata": {},
   "outputs": [
    {
     "data": {
      "text/plain": [
       "Fully Paid                                             1076751\n",
       "Current                                                 878317\n",
       "Charged Off                                             268559\n",
       "Late (31-120 days)                                       21467\n",
       "In Grace Period                                           8436\n",
       "Late (16-30 days)                                         4349\n",
       "Does not meet the credit policy. Status:Fully Paid        1988\n",
       "Does not meet the credit policy. Status:Charged Off        761\n",
       "Default                                                     40\n",
       "NaN                                                         33\n",
       "Name: loan_status, dtype: int64"
      ]
     },
     "execution_count": 8,
     "metadata": {},
     "output_type": "execute_result"
    }
   ],
   "source": [
    "accepted['loan_status'].value_counts(dropna=False)"
   ]
  },
  {
   "cell_type": "code",
   "execution_count": 9,
   "metadata": {},
   "outputs": [],
   "source": [
    "loans = accepted.loc[accepted['loan_status'].isin(['Fully Paid', 'Charged Off', 'Default'])]\n"
   ]
  },
  {
   "cell_type": "code",
   "execution_count": 10,
   "metadata": {},
   "outputs": [
    {
     "data": {
      "text/plain": [
       "(1345350, 154)"
      ]
     },
     "execution_count": 10,
     "metadata": {},
     "output_type": "execute_result"
    }
   ],
   "source": [
    "loans.shape"
   ]
  },
  {
   "cell_type": "code",
   "execution_count": 11,
   "metadata": {},
   "outputs": [
    {
     "data": {
      "text/plain": [
       "Fully Paid     0.80035\n",
       "Charged Off    0.19962\n",
       "Default        0.00003\n",
       "Name: loan_status, dtype: float64"
      ]
     },
     "execution_count": 11,
     "metadata": {},
     "output_type": "execute_result"
    }
   ],
   "source": [
    "loans['loan_status'].value_counts(normalize=True,dropna=False)"
   ]
  },
  {
   "cell_type": "code",
   "execution_count": 12,
   "metadata": {},
   "outputs": [],
   "source": [
    "missing_fractions = loans.isnull().mean().sort_values(ascending=False)\n"
   ]
  },
  {
   "cell_type": "code",
   "execution_count": 13,
   "metadata": {},
   "outputs": [
    {
     "data": {
      "text/plain": [
       "member_id                                     1.000000\n",
       "next_pymnt_d                                  0.999970\n",
       "orig_projected_additional_accrued_interest    0.997204\n",
       "hardship_type                                 0.995722\n",
       "hardship_reason                               0.995722\n",
       "dtype: float64"
      ]
     },
     "execution_count": 13,
     "metadata": {},
     "output_type": "execute_result"
    }
   ],
   "source": [
    "missing_fractions.head()"
   ]
  },
  {
   "cell_type": "code",
   "execution_count": 14,
   "metadata": {},
   "outputs": [],
   "source": [
    "keep_list = ['addr_state', 'annual_inc', 'application_type', 'dti', 'earliest_cr_line', 'emp_length', 'emp_title',\n",
    "             'fico_range_high', 'fico_range_low', 'grade', 'home_ownership', 'id', 'initial_list_status', \n",
    "             'installment', 'int_rate', 'issue_d', 'loan_amnt', 'loan_status', 'mort_acc', 'open_acc', 'pub_rec', \n",
    "             'pub_rec_bankruptcies', 'purpose', 'revol_bal', 'revol_util', 'sub_grade', 'term', 'title', 'total_acc',\n",
    "             'verification_status', 'zip_code','paid_months']"
   ]
  },
  {
   "cell_type": "code",
   "execution_count": 15,
   "metadata": {},
   "outputs": [],
   "source": [
    "loans = loans[keep_list]"
   ]
  },
  {
   "cell_type": "code",
   "execution_count": 16,
   "metadata": {},
   "outputs": [
    {
     "data": {
      "text/plain": [
       "(1345350, 32)"
      ]
     },
     "execution_count": 16,
     "metadata": {},
     "output_type": "execute_result"
    }
   ],
   "source": [
    "loans.shape"
   ]
  },
  {
   "cell_type": "code",
   "execution_count": 17,
   "metadata": {
    "scrolled": true
   },
   "outputs": [
    {
     "data": {
      "text/plain": [
       "addr_state                  0\n",
       "annual_inc                  0\n",
       "application_type            0\n",
       "dti                       374\n",
       "earliest_cr_line            0\n",
       "emp_length              78516\n",
       "emp_title               85791\n",
       "fico_range_high             0\n",
       "fico_range_low              0\n",
       "grade                       0\n",
       "home_ownership              0\n",
       "id                          0\n",
       "initial_list_status         0\n",
       "installment                 0\n",
       "int_rate                    0\n",
       "issue_d                     0\n",
       "loan_amnt                   0\n",
       "loan_status                 0\n",
       "mort_acc                47281\n",
       "open_acc                    0\n",
       "pub_rec                     0\n",
       "pub_rec_bankruptcies      697\n",
       "purpose                     0\n",
       "revol_bal                   0\n",
       "revol_util                857\n",
       "sub_grade                   0\n",
       "term                        0\n",
       "title                   16659\n",
       "total_acc                   0\n",
       "verification_status         0\n",
       "zip_code                    1\n",
       "paid_months              2313\n",
       "dtype: int64"
      ]
     },
     "execution_count": 17,
     "metadata": {},
     "output_type": "execute_result"
    }
   ],
   "source": [
    "loans.isna().sum()"
   ]
  },
  {
   "cell_type": "code",
   "execution_count": 18,
   "metadata": {},
   "outputs": [],
   "source": [
    "#dropping rows with na for paid_months and zipcode\n",
    "loans.dropna(axis=0, subset=['paid_months'],inplace=True)\n",
    "loans.dropna(axis=0, subset=['zip_code'],inplace=True)\n"
   ]
  },
  {
   "cell_type": "code",
   "execution_count": 19,
   "metadata": {},
   "outputs": [],
   "source": [
    "loans.drop('id', axis=1, inplace=True)"
   ]
  },
  {
   "cell_type": "code",
   "execution_count": 20,
   "metadata": {},
   "outputs": [],
   "source": [
    "loans.drop('grade', axis=1, inplace=True)"
   ]
  },
  {
   "cell_type": "code",
   "execution_count": 21,
   "metadata": {},
   "outputs": [
    {
     "data": {
      "text/plain": [
       "(1343036, 30)"
      ]
     },
     "execution_count": 21,
     "metadata": {},
     "output_type": "execute_result"
    }
   ],
   "source": [
    "loans.shape"
   ]
  },
  {
   "cell_type": "code",
   "execution_count": 22,
   "metadata": {},
   "outputs": [
    {
     "data": {
      "text/plain": [
       "count     1257498\n",
       "unique     377868\n",
       "top       Teacher\n",
       "freq        21236\n",
       "Name: emp_title, dtype: object"
      ]
     },
     "execution_count": 22,
     "metadata": {},
     "output_type": "execute_result"
    }
   ],
   "source": [
    "loans['emp_title'].describe()"
   ]
  },
  {
   "cell_type": "code",
   "execution_count": 23,
   "metadata": {},
   "outputs": [],
   "source": [
    "loans.drop('emp_title', axis=1, inplace=True)"
   ]
  },
  {
   "cell_type": "code",
   "execution_count": 24,
   "metadata": {},
   "outputs": [],
   "source": [
    "loans['emp_length'].replace(to_replace='10+ years', value='10 years', inplace=True)\n"
   ]
  },
  {
   "cell_type": "code",
   "execution_count": 25,
   "metadata": {},
   "outputs": [],
   "source": [
    "loans['emp_length'].replace('< 1 year', '0 years', inplace=True)\n"
   ]
  },
  {
   "cell_type": "code",
   "execution_count": 26,
   "metadata": {},
   "outputs": [],
   "source": [
    "def emp_length_to_int(s):\n",
    "    if pd.isnull(s):\n",
    "        return s\n",
    "    else:\n",
    "        return np.int8(s.split()[0])"
   ]
  },
  {
   "cell_type": "code",
   "execution_count": 27,
   "metadata": {},
   "outputs": [],
   "source": [
    "loans['emp_length'] = loans['emp_length'].apply(emp_length_to_int)\n"
   ]
  },
  {
   "cell_type": "code",
   "execution_count": 28,
   "metadata": {},
   "outputs": [
    {
     "data": {
      "text/plain": [
       "0.0     107868\n",
       "1.0      88345\n",
       "2.0     121536\n",
       "3.0     107403\n",
       "4.0      80387\n",
       "5.0      83980\n",
       "6.0      62615\n",
       "7.0      59523\n",
       "8.0      60594\n",
       "9.0      50857\n",
       "10.0    441647\n",
       "NaN      78281\n",
       "Name: emp_length, dtype: int64"
      ]
     },
     "execution_count": 28,
     "metadata": {},
     "output_type": "execute_result"
    }
   ],
   "source": [
    "loans['emp_length'].value_counts(dropna=False).sort_index()\n"
   ]
  },
  {
   "cell_type": "code",
   "execution_count": 29,
   "metadata": {},
   "outputs": [],
   "source": [
    "loans.drop('zip_code', axis=1, inplace=True)"
   ]
  },
  {
   "cell_type": "code",
   "execution_count": 30,
   "metadata": {},
   "outputs": [
    {
     "data": {
      "text/plain": [
       "addr_state\n",
       "DC    0.130836\n",
       "ME    0.137148\n",
       "VT    0.138543\n",
       "IA    0.142857\n",
       "OR    0.143031\n",
       "NH    0.144831\n",
       "WV    0.154320\n",
       "CO    0.154557\n",
       "WA    0.156230\n",
       "SC    0.161133\n",
       "KS    0.166385\n",
       "WY    0.166838\n",
       "MT    0.167627\n",
       "UT    0.169676\n",
       "CT    0.172622\n",
       "RI    0.177524\n",
       "IL    0.179870\n",
       "WI    0.182357\n",
       "GA    0.182664\n",
       "ID    0.187796\n",
       "MA    0.189220\n",
       "CA    0.194341\n",
       "AZ    0.195106\n",
       "AK    0.195543\n",
       "DE    0.195548\n",
       "MN    0.195987\n",
       "TX    0.196830\n",
       "VA    0.198030\n",
       "HI    0.200919\n",
       "MI    0.201825\n",
       "ND    0.203252\n",
       "OH    0.204275\n",
       "NC    0.206237\n",
       "PA    0.206658\n",
       "KY    0.208597\n",
       "NJ    0.210017\n",
       "MD    0.211462\n",
       "MO    0.211702\n",
       "SD    0.211803\n",
       "NM    0.212381\n",
       "TN    0.212805\n",
       "FL    0.213047\n",
       "IN    0.213249\n",
       "NV    0.217215\n",
       "NY    0.219013\n",
       "LA    0.230580\n",
       "OK    0.232942\n",
       "AL    0.235046\n",
       "AR    0.239581\n",
       "NE    0.249930\n",
       "MS    0.259428\n",
       "Name: loan_status, dtype: float64"
      ]
     },
     "execution_count": 30,
     "metadata": {},
     "output_type": "execute_result"
    }
   ],
   "source": [
    "loans.groupby('addr_state')['loan_status'].value_counts(normalize=True).loc[:,'Charged Off'].sort_values()"
   ]
  },
  {
   "cell_type": "code",
   "execution_count": 31,
   "metadata": {},
   "outputs": [
    {
     "data": {
      "text/plain": [
       "Index(['addr_state', 'annual_inc', 'application_type', 'dti',\n",
       "       'earliest_cr_line', 'emp_length', 'fico_range_high', 'fico_range_low',\n",
       "       'home_ownership', 'initial_list_status', 'installment', 'int_rate',\n",
       "       'issue_d', 'loan_amnt', 'loan_status', 'mort_acc', 'open_acc',\n",
       "       'pub_rec', 'pub_rec_bankruptcies', 'purpose', 'revol_bal', 'revol_util',\n",
       "       'sub_grade', 'term', 'title', 'total_acc', 'verification_status',\n",
       "       'paid_months'],\n",
       "      dtype='object')"
      ]
     },
     "execution_count": 31,
     "metadata": {},
     "output_type": "execute_result"
    }
   ],
   "source": [
    "loans.columns"
   ]
  },
  {
   "cell_type": "code",
   "execution_count": 32,
   "metadata": {},
   "outputs": [],
   "source": [
    "loans.drop('revol_bal',axis=1,inplace=True)"
   ]
  },
  {
   "cell_type": "code",
   "execution_count": 33,
   "metadata": {},
   "outputs": [],
   "source": [
    "loans['fico_score'] = 0.5*loans['fico_range_low'] + 0.5*loans['fico_range_high']\n"
   ]
  },
  {
   "cell_type": "code",
   "execution_count": 34,
   "metadata": {},
   "outputs": [],
   "source": [
    "loans.drop(['fico_range_high', 'fico_range_low'], axis=1, inplace=True)\n"
   ]
  },
  {
   "cell_type": "code",
   "execution_count": 35,
   "metadata": {},
   "outputs": [],
   "source": [
    "loans.drop('title',axis=1,inplace=True)"
   ]
  },
  {
   "cell_type": "code",
   "execution_count": 36,
   "metadata": {},
   "outputs": [
    {
     "data": {
      "text/plain": [
       "(1343036, 25)"
      ]
     },
     "execution_count": 36,
     "metadata": {},
     "output_type": "execute_result"
    }
   ],
   "source": [
    "loans.shape"
   ]
  },
  {
   "cell_type": "code",
   "execution_count": 37,
   "metadata": {},
   "outputs": [],
   "source": [
    "# loans = pd.get_dummies(loans, columns=['sub_grade', 'home_ownership', 'verification_status', 'purpose', 'addr_state', 'initial_list_status', 'application_type'], drop_first=True)\n"
   ]
  },
  {
   "cell_type": "code",
   "execution_count": 38,
   "metadata": {},
   "outputs": [
    {
     "data": {
      "text/plain": [
       "(1343036, 25)"
      ]
     },
     "execution_count": 38,
     "metadata": {},
     "output_type": "execute_result"
    }
   ],
   "source": [
    "loans.shape"
   ]
  },
  {
   "cell_type": "code",
   "execution_count": 39,
   "metadata": {},
   "outputs": [],
   "source": [
    "loans['term'] = loans['term'].apply(lambda s: np.int8(s.split()[0]))\n"
   ]
  },
  {
   "cell_type": "code",
   "execution_count": 40,
   "metadata": {},
   "outputs": [
    {
     "data": {
      "text/plain": [
       "addr_state                  0\n",
       "annual_inc                  0\n",
       "application_type            0\n",
       "dti                       370\n",
       "earliest_cr_line            0\n",
       "emp_length              78281\n",
       "home_ownership              0\n",
       "initial_list_status         0\n",
       "installment                 0\n",
       "int_rate                    0\n",
       "issue_d                     0\n",
       "loan_amnt                   0\n",
       "loan_status                 0\n",
       "mort_acc                47194\n",
       "open_acc                    0\n",
       "pub_rec                     0\n",
       "pub_rec_bankruptcies      697\n",
       "purpose                     0\n",
       "revol_util                847\n",
       "sub_grade                   0\n",
       "term                        0\n",
       "total_acc                   0\n",
       "verification_status         0\n",
       "paid_months                 0\n",
       "fico_score                  0\n",
       "dtype: int64"
      ]
     },
     "execution_count": 40,
     "metadata": {},
     "output_type": "execute_result"
    }
   ],
   "source": [
    "loans.isna().sum()"
   ]
  },
  {
   "cell_type": "code",
   "execution_count": 41,
   "metadata": {},
   "outputs": [],
   "source": [
    "loans['earliest_cr_line'] = loans['earliest_cr_line'].apply(lambda s: int(s[-4:]))\n"
   ]
  },
  {
   "cell_type": "code",
   "execution_count": 42,
   "metadata": {},
   "outputs": [],
   "source": [
    "loans['issue_d'] = pd.to_datetime(loans['issue_d'])\n"
   ]
  },
  {
   "cell_type": "code",
   "execution_count": 43,
   "metadata": {},
   "outputs": [],
   "source": [
    "loans.drop('issue_d', axis=1, inplace =True)"
   ]
  },
  {
   "cell_type": "code",
   "execution_count": 44,
   "metadata": {},
   "outputs": [
    {
     "data": {
      "text/plain": [
       "addr_state                  0\n",
       "annual_inc                  0\n",
       "application_type            0\n",
       "dti                       370\n",
       "earliest_cr_line            0\n",
       "emp_length              78281\n",
       "home_ownership              0\n",
       "initial_list_status         0\n",
       "installment                 0\n",
       "int_rate                    0\n",
       "loan_amnt                   0\n",
       "loan_status                 0\n",
       "mort_acc                47194\n",
       "open_acc                    0\n",
       "pub_rec                     0\n",
       "pub_rec_bankruptcies      697\n",
       "purpose                     0\n",
       "revol_util                847\n",
       "sub_grade                   0\n",
       "term                        0\n",
       "total_acc                   0\n",
       "verification_status         0\n",
       "paid_months                 0\n",
       "fico_score                  0\n",
       "dtype: int64"
      ]
     },
     "execution_count": 44,
     "metadata": {},
     "output_type": "execute_result"
    }
   ],
   "source": [
    "loans.isna().sum()"
   ]
  },
  {
   "cell_type": "code",
   "execution_count": 45,
   "metadata": {},
   "outputs": [],
   "source": [
    "def acc_paid (row):\n",
    "    if row['loan_status']=='Fully Paid':\n",
    "        return 1\n",
    "    if row['loan_status'] != 'Fully Paid':\n",
    "        return 0"
   ]
  },
  {
   "cell_type": "code",
   "execution_count": 46,
   "metadata": {},
   "outputs": [],
   "source": [
    "loans['loan_status'] = loans.apply (lambda row: acc_paid(row), axis=1)\n"
   ]
  },
  {
   "cell_type": "code",
   "execution_count": 47,
   "metadata": {},
   "outputs": [],
   "source": [
    "loans.emp_length.fillna(5, inplace=True)"
   ]
  },
  {
   "cell_type": "code",
   "execution_count": 48,
   "metadata": {
    "scrolled": true
   },
   "outputs": [
    {
     "data": {
      "text/plain": [
       "addr_state                  0\n",
       "annual_inc                  0\n",
       "application_type            0\n",
       "dti                       370\n",
       "earliest_cr_line            0\n",
       "emp_length                  0\n",
       "home_ownership              0\n",
       "initial_list_status         0\n",
       "installment                 0\n",
       "int_rate                    0\n",
       "loan_amnt                   0\n",
       "loan_status                 0\n",
       "mort_acc                47194\n",
       "open_acc                    0\n",
       "pub_rec                     0\n",
       "pub_rec_bankruptcies      697\n",
       "purpose                     0\n",
       "revol_util                847\n",
       "sub_grade                   0\n",
       "term                        0\n",
       "total_acc                   0\n",
       "verification_status         0\n",
       "paid_months                 0\n",
       "fico_score                  0\n",
       "dtype: int64"
      ]
     },
     "execution_count": 48,
     "metadata": {},
     "output_type": "execute_result"
    }
   ],
   "source": [
    "loans.isna().sum()"
   ]
  },
  {
   "cell_type": "code",
   "execution_count": 49,
   "metadata": {},
   "outputs": [
    {
     "data": {
      "text/plain": [
       "count    1.295842e+06\n",
       "mean     1.671687e+00\n",
       "std      2.000871e+00\n",
       "min      0.000000e+00\n",
       "25%      0.000000e+00\n",
       "50%      1.000000e+00\n",
       "75%      3.000000e+00\n",
       "max      5.100000e+01\n",
       "Name: mort_acc, dtype: float64"
      ]
     },
     "execution_count": 49,
     "metadata": {},
     "output_type": "execute_result"
    }
   ],
   "source": [
    "loans.mort_acc.describe()"
   ]
  },
  {
   "cell_type": "code",
   "execution_count": 50,
   "metadata": {},
   "outputs": [],
   "source": [
    "loans.mort_acc.fillna(1.6, inplace=True)"
   ]
  },
  {
   "cell_type": "code",
   "execution_count": 51,
   "metadata": {},
   "outputs": [
    {
     "data": {
      "text/plain": [
       "addr_state                0\n",
       "annual_inc                0\n",
       "application_type          0\n",
       "dti                     370\n",
       "earliest_cr_line          0\n",
       "emp_length                0\n",
       "home_ownership            0\n",
       "initial_list_status       0\n",
       "installment               0\n",
       "int_rate                  0\n",
       "loan_amnt                 0\n",
       "loan_status               0\n",
       "mort_acc                  0\n",
       "open_acc                  0\n",
       "pub_rec                   0\n",
       "pub_rec_bankruptcies    697\n",
       "purpose                   0\n",
       "revol_util              847\n",
       "sub_grade                 0\n",
       "term                      0\n",
       "total_acc                 0\n",
       "verification_status       0\n",
       "paid_months               0\n",
       "fico_score                0\n",
       "dtype: int64"
      ]
     },
     "execution_count": 51,
     "metadata": {},
     "output_type": "execute_result"
    }
   ],
   "source": [
    "loans.isna().sum()"
   ]
  },
  {
   "cell_type": "code",
   "execution_count": 52,
   "metadata": {},
   "outputs": [],
   "source": [
    "loans = loans.dropna()"
   ]
  },
  {
   "cell_type": "code",
   "execution_count": null,
   "metadata": {},
   "outputs": [],
   "source": []
  },
  {
   "cell_type": "markdown",
   "metadata": {},
   "source": [
    "## What the accuracy of current loans are"
   ]
  },
  {
   "cell_type": "code",
   "execution_count": 87,
   "metadata": {
    "scrolled": true
   },
   "outputs": [
    {
     "data": {
      "text/html": [
       "<div>\n",
       "<style scoped>\n",
       "    .dataframe tbody tr th:only-of-type {\n",
       "        vertical-align: middle;\n",
       "    }\n",
       "\n",
       "    .dataframe tbody tr th {\n",
       "        vertical-align: top;\n",
       "    }\n",
       "\n",
       "    .dataframe thead th {\n",
       "        text-align: right;\n",
       "    }\n",
       "</style>\n",
       "<table border=\"1\" class=\"dataframe\">\n",
       "  <thead>\n",
       "    <tr style=\"text-align: right;\">\n",
       "      <th></th>\n",
       "      <th>annual_inc</th>\n",
       "      <th>dti</th>\n",
       "      <th>earliest_cr_line</th>\n",
       "      <th>emp_length</th>\n",
       "      <th>installment</th>\n",
       "      <th>int_rate</th>\n",
       "      <th>loan_amnt</th>\n",
       "      <th>mort_acc</th>\n",
       "      <th>open_acc</th>\n",
       "      <th>pub_rec</th>\n",
       "      <th>...</th>\n",
       "      <th>addr_state_TX</th>\n",
       "      <th>addr_state_UT</th>\n",
       "      <th>addr_state_VA</th>\n",
       "      <th>addr_state_VT</th>\n",
       "      <th>addr_state_WA</th>\n",
       "      <th>addr_state_WI</th>\n",
       "      <th>addr_state_WV</th>\n",
       "      <th>addr_state_WY</th>\n",
       "      <th>initial_list_status_w</th>\n",
       "      <th>application_type_Joint App</th>\n",
       "    </tr>\n",
       "    <tr>\n",
       "      <th>loan_status</th>\n",
       "      <th></th>\n",
       "      <th></th>\n",
       "      <th></th>\n",
       "      <th></th>\n",
       "      <th></th>\n",
       "      <th></th>\n",
       "      <th></th>\n",
       "      <th></th>\n",
       "      <th></th>\n",
       "      <th></th>\n",
       "      <th></th>\n",
       "      <th></th>\n",
       "      <th></th>\n",
       "      <th></th>\n",
       "      <th></th>\n",
       "      <th></th>\n",
       "      <th></th>\n",
       "      <th></th>\n",
       "      <th></th>\n",
       "      <th></th>\n",
       "      <th></th>\n",
       "    </tr>\n",
       "  </thead>\n",
       "  <tbody>\n",
       "    <tr>\n",
       "      <td>0</td>\n",
       "      <td>265931</td>\n",
       "      <td>265931</td>\n",
       "      <td>265931</td>\n",
       "      <td>265931</td>\n",
       "      <td>265931</td>\n",
       "      <td>265931</td>\n",
       "      <td>265931</td>\n",
       "      <td>265931</td>\n",
       "      <td>265931</td>\n",
       "      <td>265931</td>\n",
       "      <td>...</td>\n",
       "      <td>265931</td>\n",
       "      <td>265931</td>\n",
       "      <td>265931</td>\n",
       "      <td>265931</td>\n",
       "      <td>265931</td>\n",
       "      <td>265931</td>\n",
       "      <td>265931</td>\n",
       "      <td>265931</td>\n",
       "      <td>265931</td>\n",
       "      <td>265931</td>\n",
       "    </tr>\n",
       "    <tr>\n",
       "      <td>1</td>\n",
       "      <td>1075192</td>\n",
       "      <td>1075192</td>\n",
       "      <td>1075192</td>\n",
       "      <td>1075192</td>\n",
       "      <td>1075192</td>\n",
       "      <td>1075192</td>\n",
       "      <td>1075192</td>\n",
       "      <td>1075192</td>\n",
       "      <td>1075192</td>\n",
       "      <td>1075192</td>\n",
       "      <td>...</td>\n",
       "      <td>1075192</td>\n",
       "      <td>1075192</td>\n",
       "      <td>1075192</td>\n",
       "      <td>1075192</td>\n",
       "      <td>1075192</td>\n",
       "      <td>1075192</td>\n",
       "      <td>1075192</td>\n",
       "      <td>1075192</td>\n",
       "      <td>1075192</td>\n",
       "      <td>1075192</td>\n",
       "    </tr>\n",
       "  </tbody>\n",
       "</table>\n",
       "<p>2 rows × 122 columns</p>\n",
       "</div>"
      ],
      "text/plain": [
       "             annual_inc      dti  earliest_cr_line  emp_length  installment  \\\n",
       "loan_status                                                                   \n",
       "0                265931   265931            265931      265931       265931   \n",
       "1               1075192  1075192           1075192     1075192      1075192   \n",
       "\n",
       "             int_rate  loan_amnt  mort_acc  open_acc  pub_rec  ...  \\\n",
       "loan_status                                                    ...   \n",
       "0              265931     265931    265931    265931   265931  ...   \n",
       "1             1075192    1075192   1075192   1075192  1075192  ...   \n",
       "\n",
       "             addr_state_TX  addr_state_UT  addr_state_VA  addr_state_VT  \\\n",
       "loan_status                                                               \n",
       "0                   265931         265931         265931         265931   \n",
       "1                  1075192        1075192        1075192        1075192   \n",
       "\n",
       "             addr_state_WA  addr_state_WI  addr_state_WV  addr_state_WY  \\\n",
       "loan_status                                                               \n",
       "0                   265931         265931         265931         265931   \n",
       "1                  1075192        1075192        1075192        1075192   \n",
       "\n",
       "             initial_list_status_w  application_type_Joint App  \n",
       "loan_status                                                     \n",
       "0                           265931                      265931  \n",
       "1                          1075192                     1075192  \n",
       "\n",
       "[2 rows x 122 columns]"
      ]
     },
     "execution_count": 87,
     "metadata": {},
     "output_type": "execute_result"
    }
   ],
   "source": [
    "loans.groupby('loan_status').count()"
   ]
  },
  {
   "cell_type": "code",
   "execution_count": null,
   "metadata": {},
   "outputs": [],
   "source": [
    "#1341123"
   ]
  },
  {
   "cell_type": "markdown",
   "metadata": {},
   "source": [
    "## 3. Creating Dummy Variables"
   ]
  },
  {
   "cell_type": "code",
   "execution_count": 53,
   "metadata": {},
   "outputs": [],
   "source": [
    "loans = pd.get_dummies(loans, columns=['sub_grade', 'home_ownership', 'verification_status',\n",
    "                                       'purpose', 'addr_state', 'initial_list_status', 'application_type'],\n",
    "                       drop_first=True)"
   ]
  },
  {
   "cell_type": "code",
   "execution_count": 54,
   "metadata": {
    "scrolled": false
   },
   "outputs": [
    {
     "data": {
      "text/plain": [
       "(1341123, 123)"
      ]
     },
     "execution_count": 54,
     "metadata": {},
     "output_type": "execute_result"
    }
   ],
   "source": [
    "loans.shape"
   ]
  },
  {
   "cell_type": "markdown",
   "metadata": {},
   "source": [
    "## 4. Train/Test Split"
   ]
  },
  {
   "cell_type": "code",
   "execution_count": 55,
   "metadata": {},
   "outputs": [],
   "source": [
    "#running random forest before dummifying categorical columns\n",
    "from sklearn.model_selection import train_test_split\n",
    "from sklearn.ensemble import RandomForestClassifier\n",
    "from sklearn import metrics\n"
   ]
  },
  {
   "cell_type": "code",
   "execution_count": 56,
   "metadata": {},
   "outputs": [],
   "source": [
    "X = loans.drop('loan_status', axis=1)\n",
    "Y = loans['loan_status']"
   ]
  },
  {
   "cell_type": "code",
   "execution_count": 57,
   "metadata": {},
   "outputs": [],
   "source": [
    "X_train, X_test, y_train, y_test = train_test_split(X, Y, test_size=0.3, random_state=42)"
   ]
  },
  {
   "cell_type": "code",
   "execution_count": 55,
   "metadata": {},
   "outputs": [],
   "source": [
    "# from imblearn.over_sampling import SMOTE\n",
    "# sm = SMOTE(random_state = 2) \n",
    "# X_train_res, Y_train_res = sm.fit_sample(X_train, Y_train.ravel())"
   ]
  },
  {
   "cell_type": "markdown",
   "metadata": {},
   "source": [
    "## Random Forest Classifier"
   ]
  },
  {
   "cell_type": "code",
   "execution_count": 58,
   "metadata": {
    "scrolled": true
   },
   "outputs": [
    {
     "data": {
      "text/plain": [
       "RandomForestClassifier(bootstrap=True, ccp_alpha=0.0, class_weight='balanced',\n",
       "                       criterion='gini', max_depth=2, max_features='auto',\n",
       "                       max_leaf_nodes=None, max_samples=None,\n",
       "                       min_impurity_decrease=0.0, min_impurity_split=None,\n",
       "                       min_samples_leaf=1, min_samples_split=2,\n",
       "                       min_weight_fraction_leaf=0.0, n_estimators=100,\n",
       "                       n_jobs=None, oob_score=False, random_state=0, verbose=0,\n",
       "                       warm_start=False)"
      ]
     },
     "execution_count": 58,
     "metadata": {},
     "output_type": "execute_result"
    }
   ],
   "source": [
    "clf = RandomForestClassifier(max_depth=2, random_state=0, class_weight='balanced')\n",
    "clf.fit(X_train, y_train)\n"
   ]
  },
  {
   "cell_type": "code",
   "execution_count": 59,
   "metadata": {},
   "outputs": [],
   "source": [
    "y_pred=clf.predict(X_test)"
   ]
  },
  {
   "cell_type": "code",
   "execution_count": 60,
   "metadata": {},
   "outputs": [
    {
     "data": {
      "text/plain": [
       "0.6577398896021032"
      ]
     },
     "execution_count": 60,
     "metadata": {},
     "output_type": "execute_result"
    }
   ],
   "source": [
    "clf.score(X_train, y_train)"
   ]
  },
  {
   "cell_type": "code",
   "execution_count": 62,
   "metadata": {},
   "outputs": [
    {
     "name": "stdout",
     "output_type": "stream",
     "text": [
      "Accuracy: 0.6589799098765463\n",
      "Precision: 0.9025290213786838\n"
     ]
    }
   ],
   "source": [
    "print(\"Accuracy:\",metrics.accuracy_score(y_test, y_pred))\n",
    "print(\"Precision:\",metrics.precision_score(y_test, y_pred))\n"
   ]
  },
  {
   "cell_type": "code",
   "execution_count": 63,
   "metadata": {},
   "outputs": [
    {
     "name": "stdout",
     "output_type": "stream",
     "text": [
      "[[ 57470  22427]\n",
      " [114778 207662]]\n"
     ]
    }
   ],
   "source": [
    "from sklearn.metrics import confusion_matrix\n",
    "confusion_matrix = confusion_matrix(y_test, y_pred)\n",
    "print(confusion_matrix)\n",
    "#89% precision"
   ]
  },
  {
   "cell_type": "code",
   "execution_count": 58,
   "metadata": {},
   "outputs": [],
   "source": [
    "rf_clf = RandomForestClassifier(n_estimators=500,\n",
    "                                max_features=0.25,\n",
    "                                criterion=\"entropy\",\n",
    "                                class_weight=\"balanced\")"
   ]
  },
  {
   "cell_type": "code",
   "execution_count": 59,
   "metadata": {
    "scrolled": true
   },
   "outputs": [
    {
     "ename": "KeyboardInterrupt",
     "evalue": "",
     "output_type": "error",
     "traceback": [
      "\u001b[0;31m---------------------------------------------------------------------------\u001b[0m",
      "\u001b[0;31mKeyboardInterrupt\u001b[0m                         Traceback (most recent call last)",
      "\u001b[0;32m<ipython-input-59-152d25007fe9>\u001b[0m in \u001b[0;36m<module>\u001b[0;34m\u001b[0m\n\u001b[0;32m----> 1\u001b[0;31m \u001b[0mrf_clf\u001b[0m\u001b[0;34m.\u001b[0m\u001b[0mfit\u001b[0m\u001b[0;34m(\u001b[0m\u001b[0mX_train\u001b[0m\u001b[0;34m,\u001b[0m \u001b[0my_train\u001b[0m\u001b[0;34m)\u001b[0m\u001b[0;34m\u001b[0m\u001b[0;34m\u001b[0m\u001b[0m\n\u001b[0m",
      "\u001b[0;32m~/opt/anaconda3/lib/python3.7/site-packages/sklearn/ensemble/_forest.py\u001b[0m in \u001b[0;36mfit\u001b[0;34m(self, X, y, sample_weight)\u001b[0m\n\u001b[1;32m    381\u001b[0m                     \u001b[0mverbose\u001b[0m\u001b[0;34m=\u001b[0m\u001b[0mself\u001b[0m\u001b[0;34m.\u001b[0m\u001b[0mverbose\u001b[0m\u001b[0;34m,\u001b[0m \u001b[0mclass_weight\u001b[0m\u001b[0;34m=\u001b[0m\u001b[0mself\u001b[0m\u001b[0;34m.\u001b[0m\u001b[0mclass_weight\u001b[0m\u001b[0;34m,\u001b[0m\u001b[0;34m\u001b[0m\u001b[0;34m\u001b[0m\u001b[0m\n\u001b[1;32m    382\u001b[0m                     n_samples_bootstrap=n_samples_bootstrap)\n\u001b[0;32m--> 383\u001b[0;31m                 for i, t in enumerate(trees))\n\u001b[0m\u001b[1;32m    384\u001b[0m \u001b[0;34m\u001b[0m\u001b[0m\n\u001b[1;32m    385\u001b[0m             \u001b[0;31m# Collect newly grown trees\u001b[0m\u001b[0;34m\u001b[0m\u001b[0;34m\u001b[0m\u001b[0;34m\u001b[0m\u001b[0m\n",
      "\u001b[0;32m~/opt/anaconda3/lib/python3.7/site-packages/joblib/parallel.py\u001b[0m in \u001b[0;36m__call__\u001b[0;34m(self, iterable)\u001b[0m\n\u001b[1;32m    922\u001b[0m                 \u001b[0mself\u001b[0m\u001b[0;34m.\u001b[0m\u001b[0m_iterating\u001b[0m \u001b[0;34m=\u001b[0m \u001b[0mself\u001b[0m\u001b[0;34m.\u001b[0m\u001b[0m_original_iterator\u001b[0m \u001b[0;32mis\u001b[0m \u001b[0;32mnot\u001b[0m \u001b[0;32mNone\u001b[0m\u001b[0;34m\u001b[0m\u001b[0;34m\u001b[0m\u001b[0m\n\u001b[1;32m    923\u001b[0m \u001b[0;34m\u001b[0m\u001b[0m\n\u001b[0;32m--> 924\u001b[0;31m             \u001b[0;32mwhile\u001b[0m \u001b[0mself\u001b[0m\u001b[0;34m.\u001b[0m\u001b[0mdispatch_one_batch\u001b[0m\u001b[0;34m(\u001b[0m\u001b[0miterator\u001b[0m\u001b[0;34m)\u001b[0m\u001b[0;34m:\u001b[0m\u001b[0;34m\u001b[0m\u001b[0;34m\u001b[0m\u001b[0m\n\u001b[0m\u001b[1;32m    925\u001b[0m                 \u001b[0;32mpass\u001b[0m\u001b[0;34m\u001b[0m\u001b[0;34m\u001b[0m\u001b[0m\n\u001b[1;32m    926\u001b[0m \u001b[0;34m\u001b[0m\u001b[0m\n",
      "\u001b[0;32m~/opt/anaconda3/lib/python3.7/site-packages/joblib/parallel.py\u001b[0m in \u001b[0;36mdispatch_one_batch\u001b[0;34m(self, iterator)\u001b[0m\n\u001b[1;32m    757\u001b[0m                 \u001b[0;32mreturn\u001b[0m \u001b[0;32mFalse\u001b[0m\u001b[0;34m\u001b[0m\u001b[0;34m\u001b[0m\u001b[0m\n\u001b[1;32m    758\u001b[0m             \u001b[0;32melse\u001b[0m\u001b[0;34m:\u001b[0m\u001b[0;34m\u001b[0m\u001b[0;34m\u001b[0m\u001b[0m\n\u001b[0;32m--> 759\u001b[0;31m                 \u001b[0mself\u001b[0m\u001b[0;34m.\u001b[0m\u001b[0m_dispatch\u001b[0m\u001b[0;34m(\u001b[0m\u001b[0mtasks\u001b[0m\u001b[0;34m)\u001b[0m\u001b[0;34m\u001b[0m\u001b[0;34m\u001b[0m\u001b[0m\n\u001b[0m\u001b[1;32m    760\u001b[0m                 \u001b[0;32mreturn\u001b[0m \u001b[0;32mTrue\u001b[0m\u001b[0;34m\u001b[0m\u001b[0;34m\u001b[0m\u001b[0m\n\u001b[1;32m    761\u001b[0m \u001b[0;34m\u001b[0m\u001b[0m\n",
      "\u001b[0;32m~/opt/anaconda3/lib/python3.7/site-packages/joblib/parallel.py\u001b[0m in \u001b[0;36m_dispatch\u001b[0;34m(self, batch)\u001b[0m\n\u001b[1;32m    714\u001b[0m         \u001b[0;32mwith\u001b[0m \u001b[0mself\u001b[0m\u001b[0;34m.\u001b[0m\u001b[0m_lock\u001b[0m\u001b[0;34m:\u001b[0m\u001b[0;34m\u001b[0m\u001b[0;34m\u001b[0m\u001b[0m\n\u001b[1;32m    715\u001b[0m             \u001b[0mjob_idx\u001b[0m \u001b[0;34m=\u001b[0m \u001b[0mlen\u001b[0m\u001b[0;34m(\u001b[0m\u001b[0mself\u001b[0m\u001b[0;34m.\u001b[0m\u001b[0m_jobs\u001b[0m\u001b[0;34m)\u001b[0m\u001b[0;34m\u001b[0m\u001b[0;34m\u001b[0m\u001b[0m\n\u001b[0;32m--> 716\u001b[0;31m             \u001b[0mjob\u001b[0m \u001b[0;34m=\u001b[0m \u001b[0mself\u001b[0m\u001b[0;34m.\u001b[0m\u001b[0m_backend\u001b[0m\u001b[0;34m.\u001b[0m\u001b[0mapply_async\u001b[0m\u001b[0;34m(\u001b[0m\u001b[0mbatch\u001b[0m\u001b[0;34m,\u001b[0m \u001b[0mcallback\u001b[0m\u001b[0;34m=\u001b[0m\u001b[0mcb\u001b[0m\u001b[0;34m)\u001b[0m\u001b[0;34m\u001b[0m\u001b[0;34m\u001b[0m\u001b[0m\n\u001b[0m\u001b[1;32m    717\u001b[0m             \u001b[0;31m# A job can complete so quickly than its callback is\u001b[0m\u001b[0;34m\u001b[0m\u001b[0;34m\u001b[0m\u001b[0;34m\u001b[0m\u001b[0m\n\u001b[1;32m    718\u001b[0m             \u001b[0;31m# called before we get here, causing self._jobs to\u001b[0m\u001b[0;34m\u001b[0m\u001b[0;34m\u001b[0m\u001b[0;34m\u001b[0m\u001b[0m\n",
      "\u001b[0;32m~/opt/anaconda3/lib/python3.7/site-packages/joblib/_parallel_backends.py\u001b[0m in \u001b[0;36mapply_async\u001b[0;34m(self, func, callback)\u001b[0m\n\u001b[1;32m    180\u001b[0m     \u001b[0;32mdef\u001b[0m \u001b[0mapply_async\u001b[0m\u001b[0;34m(\u001b[0m\u001b[0mself\u001b[0m\u001b[0;34m,\u001b[0m \u001b[0mfunc\u001b[0m\u001b[0;34m,\u001b[0m \u001b[0mcallback\u001b[0m\u001b[0;34m=\u001b[0m\u001b[0;32mNone\u001b[0m\u001b[0;34m)\u001b[0m\u001b[0;34m:\u001b[0m\u001b[0;34m\u001b[0m\u001b[0;34m\u001b[0m\u001b[0m\n\u001b[1;32m    181\u001b[0m         \u001b[0;34m\"\"\"Schedule a func to be run\"\"\"\u001b[0m\u001b[0;34m\u001b[0m\u001b[0;34m\u001b[0m\u001b[0m\n\u001b[0;32m--> 182\u001b[0;31m         \u001b[0mresult\u001b[0m \u001b[0;34m=\u001b[0m \u001b[0mImmediateResult\u001b[0m\u001b[0;34m(\u001b[0m\u001b[0mfunc\u001b[0m\u001b[0;34m)\u001b[0m\u001b[0;34m\u001b[0m\u001b[0;34m\u001b[0m\u001b[0m\n\u001b[0m\u001b[1;32m    183\u001b[0m         \u001b[0;32mif\u001b[0m \u001b[0mcallback\u001b[0m\u001b[0;34m:\u001b[0m\u001b[0;34m\u001b[0m\u001b[0;34m\u001b[0m\u001b[0m\n\u001b[1;32m    184\u001b[0m             \u001b[0mcallback\u001b[0m\u001b[0;34m(\u001b[0m\u001b[0mresult\u001b[0m\u001b[0;34m)\u001b[0m\u001b[0;34m\u001b[0m\u001b[0;34m\u001b[0m\u001b[0m\n",
      "\u001b[0;32m~/opt/anaconda3/lib/python3.7/site-packages/joblib/_parallel_backends.py\u001b[0m in \u001b[0;36m__init__\u001b[0;34m(self, batch)\u001b[0m\n\u001b[1;32m    547\u001b[0m         \u001b[0;31m# Don't delay the application, to avoid keeping the input\u001b[0m\u001b[0;34m\u001b[0m\u001b[0;34m\u001b[0m\u001b[0;34m\u001b[0m\u001b[0m\n\u001b[1;32m    548\u001b[0m         \u001b[0;31m# arguments in memory\u001b[0m\u001b[0;34m\u001b[0m\u001b[0;34m\u001b[0m\u001b[0;34m\u001b[0m\u001b[0m\n\u001b[0;32m--> 549\u001b[0;31m         \u001b[0mself\u001b[0m\u001b[0;34m.\u001b[0m\u001b[0mresults\u001b[0m \u001b[0;34m=\u001b[0m \u001b[0mbatch\u001b[0m\u001b[0;34m(\u001b[0m\u001b[0;34m)\u001b[0m\u001b[0;34m\u001b[0m\u001b[0;34m\u001b[0m\u001b[0m\n\u001b[0m\u001b[1;32m    550\u001b[0m \u001b[0;34m\u001b[0m\u001b[0m\n\u001b[1;32m    551\u001b[0m     \u001b[0;32mdef\u001b[0m \u001b[0mget\u001b[0m\u001b[0;34m(\u001b[0m\u001b[0mself\u001b[0m\u001b[0;34m)\u001b[0m\u001b[0;34m:\u001b[0m\u001b[0;34m\u001b[0m\u001b[0;34m\u001b[0m\u001b[0m\n",
      "\u001b[0;32m~/opt/anaconda3/lib/python3.7/site-packages/joblib/parallel.py\u001b[0m in \u001b[0;36m__call__\u001b[0;34m(self)\u001b[0m\n\u001b[1;32m    223\u001b[0m         \u001b[0;32mwith\u001b[0m \u001b[0mparallel_backend\u001b[0m\u001b[0;34m(\u001b[0m\u001b[0mself\u001b[0m\u001b[0;34m.\u001b[0m\u001b[0m_backend\u001b[0m\u001b[0;34m,\u001b[0m \u001b[0mn_jobs\u001b[0m\u001b[0;34m=\u001b[0m\u001b[0mself\u001b[0m\u001b[0;34m.\u001b[0m\u001b[0m_n_jobs\u001b[0m\u001b[0;34m)\u001b[0m\u001b[0;34m:\u001b[0m\u001b[0;34m\u001b[0m\u001b[0;34m\u001b[0m\u001b[0m\n\u001b[1;32m    224\u001b[0m             return [func(*args, **kwargs)\n\u001b[0;32m--> 225\u001b[0;31m                     for func, args, kwargs in self.items]\n\u001b[0m\u001b[1;32m    226\u001b[0m \u001b[0;34m\u001b[0m\u001b[0m\n\u001b[1;32m    227\u001b[0m     \u001b[0;32mdef\u001b[0m \u001b[0m__len__\u001b[0m\u001b[0;34m(\u001b[0m\u001b[0mself\u001b[0m\u001b[0;34m)\u001b[0m\u001b[0;34m:\u001b[0m\u001b[0;34m\u001b[0m\u001b[0;34m\u001b[0m\u001b[0m\n",
      "\u001b[0;32m~/opt/anaconda3/lib/python3.7/site-packages/joblib/parallel.py\u001b[0m in \u001b[0;36m<listcomp>\u001b[0;34m(.0)\u001b[0m\n\u001b[1;32m    223\u001b[0m         \u001b[0;32mwith\u001b[0m \u001b[0mparallel_backend\u001b[0m\u001b[0;34m(\u001b[0m\u001b[0mself\u001b[0m\u001b[0;34m.\u001b[0m\u001b[0m_backend\u001b[0m\u001b[0;34m,\u001b[0m \u001b[0mn_jobs\u001b[0m\u001b[0;34m=\u001b[0m\u001b[0mself\u001b[0m\u001b[0;34m.\u001b[0m\u001b[0m_n_jobs\u001b[0m\u001b[0;34m)\u001b[0m\u001b[0;34m:\u001b[0m\u001b[0;34m\u001b[0m\u001b[0;34m\u001b[0m\u001b[0m\n\u001b[1;32m    224\u001b[0m             return [func(*args, **kwargs)\n\u001b[0;32m--> 225\u001b[0;31m                     for func, args, kwargs in self.items]\n\u001b[0m\u001b[1;32m    226\u001b[0m \u001b[0;34m\u001b[0m\u001b[0m\n\u001b[1;32m    227\u001b[0m     \u001b[0;32mdef\u001b[0m \u001b[0m__len__\u001b[0m\u001b[0;34m(\u001b[0m\u001b[0mself\u001b[0m\u001b[0;34m)\u001b[0m\u001b[0;34m:\u001b[0m\u001b[0;34m\u001b[0m\u001b[0;34m\u001b[0m\u001b[0m\n",
      "\u001b[0;32m~/opt/anaconda3/lib/python3.7/site-packages/sklearn/ensemble/_forest.py\u001b[0m in \u001b[0;36m_parallel_build_trees\u001b[0;34m(tree, forest, X, y, sample_weight, tree_idx, n_trees, verbose, class_weight, n_samples_bootstrap)\u001b[0m\n\u001b[1;32m    163\u001b[0m             \u001b[0mcurr_sample_weight\u001b[0m \u001b[0;34m*=\u001b[0m \u001b[0mcompute_sample_weight\u001b[0m\u001b[0;34m(\u001b[0m\u001b[0;34m'balanced'\u001b[0m\u001b[0;34m,\u001b[0m \u001b[0my\u001b[0m\u001b[0;34m,\u001b[0m \u001b[0mindices\u001b[0m\u001b[0;34m)\u001b[0m\u001b[0;34m\u001b[0m\u001b[0;34m\u001b[0m\u001b[0m\n\u001b[1;32m    164\u001b[0m \u001b[0;34m\u001b[0m\u001b[0m\n\u001b[0;32m--> 165\u001b[0;31m         \u001b[0mtree\u001b[0m\u001b[0;34m.\u001b[0m\u001b[0mfit\u001b[0m\u001b[0;34m(\u001b[0m\u001b[0mX\u001b[0m\u001b[0;34m,\u001b[0m \u001b[0my\u001b[0m\u001b[0;34m,\u001b[0m \u001b[0msample_weight\u001b[0m\u001b[0;34m=\u001b[0m\u001b[0mcurr_sample_weight\u001b[0m\u001b[0;34m,\u001b[0m \u001b[0mcheck_input\u001b[0m\u001b[0;34m=\u001b[0m\u001b[0;32mFalse\u001b[0m\u001b[0;34m)\u001b[0m\u001b[0;34m\u001b[0m\u001b[0;34m\u001b[0m\u001b[0m\n\u001b[0m\u001b[1;32m    166\u001b[0m     \u001b[0;32melse\u001b[0m\u001b[0;34m:\u001b[0m\u001b[0;34m\u001b[0m\u001b[0;34m\u001b[0m\u001b[0m\n\u001b[1;32m    167\u001b[0m         \u001b[0mtree\u001b[0m\u001b[0;34m.\u001b[0m\u001b[0mfit\u001b[0m\u001b[0;34m(\u001b[0m\u001b[0mX\u001b[0m\u001b[0;34m,\u001b[0m \u001b[0my\u001b[0m\u001b[0;34m,\u001b[0m \u001b[0msample_weight\u001b[0m\u001b[0;34m=\u001b[0m\u001b[0msample_weight\u001b[0m\u001b[0;34m,\u001b[0m \u001b[0mcheck_input\u001b[0m\u001b[0;34m=\u001b[0m\u001b[0;32mFalse\u001b[0m\u001b[0;34m)\u001b[0m\u001b[0;34m\u001b[0m\u001b[0;34m\u001b[0m\u001b[0m\n",
      "\u001b[0;32m~/opt/anaconda3/lib/python3.7/site-packages/sklearn/tree/_classes.py\u001b[0m in \u001b[0;36mfit\u001b[0;34m(self, X, y, sample_weight, check_input, X_idx_sorted)\u001b[0m\n\u001b[1;32m    874\u001b[0m             \u001b[0msample_weight\u001b[0m\u001b[0;34m=\u001b[0m\u001b[0msample_weight\u001b[0m\u001b[0;34m,\u001b[0m\u001b[0;34m\u001b[0m\u001b[0;34m\u001b[0m\u001b[0m\n\u001b[1;32m    875\u001b[0m             \u001b[0mcheck_input\u001b[0m\u001b[0;34m=\u001b[0m\u001b[0mcheck_input\u001b[0m\u001b[0;34m,\u001b[0m\u001b[0;34m\u001b[0m\u001b[0;34m\u001b[0m\u001b[0m\n\u001b[0;32m--> 876\u001b[0;31m             X_idx_sorted=X_idx_sorted)\n\u001b[0m\u001b[1;32m    877\u001b[0m         \u001b[0;32mreturn\u001b[0m \u001b[0mself\u001b[0m\u001b[0;34m\u001b[0m\u001b[0;34m\u001b[0m\u001b[0m\n\u001b[1;32m    878\u001b[0m \u001b[0;34m\u001b[0m\u001b[0m\n",
      "\u001b[0;32m~/opt/anaconda3/lib/python3.7/site-packages/sklearn/tree/_classes.py\u001b[0m in \u001b[0;36mfit\u001b[0;34m(self, X, y, sample_weight, check_input, X_idx_sorted)\u001b[0m\n\u001b[1;32m    365\u001b[0m                                            min_impurity_split)\n\u001b[1;32m    366\u001b[0m \u001b[0;34m\u001b[0m\u001b[0m\n\u001b[0;32m--> 367\u001b[0;31m         \u001b[0mbuilder\u001b[0m\u001b[0;34m.\u001b[0m\u001b[0mbuild\u001b[0m\u001b[0;34m(\u001b[0m\u001b[0mself\u001b[0m\u001b[0;34m.\u001b[0m\u001b[0mtree_\u001b[0m\u001b[0;34m,\u001b[0m \u001b[0mX\u001b[0m\u001b[0;34m,\u001b[0m \u001b[0my\u001b[0m\u001b[0;34m,\u001b[0m \u001b[0msample_weight\u001b[0m\u001b[0;34m,\u001b[0m \u001b[0mX_idx_sorted\u001b[0m\u001b[0;34m)\u001b[0m\u001b[0;34m\u001b[0m\u001b[0;34m\u001b[0m\u001b[0m\n\u001b[0m\u001b[1;32m    368\u001b[0m \u001b[0;34m\u001b[0m\u001b[0m\n\u001b[1;32m    369\u001b[0m         \u001b[0;32mif\u001b[0m \u001b[0mself\u001b[0m\u001b[0;34m.\u001b[0m\u001b[0mn_outputs_\u001b[0m \u001b[0;34m==\u001b[0m \u001b[0;36m1\u001b[0m \u001b[0;32mand\u001b[0m \u001b[0mis_classifier\u001b[0m\u001b[0;34m(\u001b[0m\u001b[0mself\u001b[0m\u001b[0;34m)\u001b[0m\u001b[0;34m:\u001b[0m\u001b[0;34m\u001b[0m\u001b[0;34m\u001b[0m\u001b[0m\n",
      "\u001b[0;31mKeyboardInterrupt\u001b[0m: "
     ]
    }
   ],
   "source": [
    "rf_clf.fit(X_train, y_train)\n"
   ]
  },
  {
   "cell_type": "code",
   "execution_count": null,
   "metadata": {},
   "outputs": [],
   "source": [
    "rfy_pred=rf_clf.predict(X_test)"
   ]
  },
  {
   "cell_type": "code",
   "execution_count": null,
   "metadata": {},
   "outputs": [],
   "source": [
    "print(\"Accuracy:\",metrics.accuracy_score(y_test, rfy_pred))\n",
    "print(\"Precision:\",metrics.precision_score(y_test, rfy_pred))"
   ]
  },
  {
   "cell_type": "code",
   "execution_count": null,
   "metadata": {},
   "outputs": [],
   "source": [
    "from sklearn.metrics import confusion_matrix\n",
    "confusion_matrix = confusion_matrix(y_test, rfy_pred)\n",
    "print(confusion_matrix)\n"
   ]
  },
  {
   "cell_type": "code",
   "execution_count": 444,
   "metadata": {},
   "outputs": [
    {
     "data": {
      "text/plain": [
       "(1218136, 122)"
      ]
     },
     "execution_count": 444,
     "metadata": {},
     "output_type": "execute_result"
    }
   ],
   "source": [
    "loans1.shape"
   ]
  },
  {
   "cell_type": "markdown",
   "metadata": {},
   "source": [
    "## Logistic Regression"
   ]
  },
  {
   "cell_type": "code",
   "execution_count": 88,
   "metadata": {},
   "outputs": [
    {
     "data": {
      "text/plain": [
       "(1294684, 122)"
      ]
     },
     "execution_count": 88,
     "metadata": {},
     "output_type": "execute_result"
    }
   ],
   "source": [
    "X.shape"
   ]
  },
  {
   "cell_type": "code",
   "execution_count": 68,
   "metadata": {},
   "outputs": [
    {
     "data": {
      "text/plain": [
       "0          1\n",
       "1          1\n",
       "2          1\n",
       "4          1\n",
       "5          1\n",
       "          ..\n",
       "2260688    1\n",
       "2260690    1\n",
       "2260691    0\n",
       "2260692    1\n",
       "2260697    0\n",
       "Name: loan_status, Length: 1341123, dtype: int64"
      ]
     },
     "execution_count": 68,
     "metadata": {},
     "output_type": "execute_result"
    }
   ],
   "source": [
    "Y"
   ]
  },
  {
   "cell_type": "code",
   "execution_count": 96,
   "metadata": {},
   "outputs": [],
   "source": [
    "from sklearn.feature_selection import RFE\n",
    "from sklearn.linear_model import LogisticRegression"
   ]
  },
  {
   "cell_type": "code",
   "execution_count": 70,
   "metadata": {},
   "outputs": [
    {
     "data": {
      "text/plain": [
       "{'C': 1.0,\n",
       " 'class_weight': None,\n",
       " 'dual': False,\n",
       " 'fit_intercept': True,\n",
       " 'intercept_scaling': 1,\n",
       " 'l1_ratio': None,\n",
       " 'max_iter': 100,\n",
       " 'multi_class': 'auto',\n",
       " 'n_jobs': None,\n",
       " 'penalty': 'l2',\n",
       " 'random_state': None,\n",
       " 'solver': 'lbfgs',\n",
       " 'tol': 0.0001,\n",
       " 'verbose': 0,\n",
       " 'warm_start': False}"
      ]
     },
     "execution_count": 70,
     "metadata": {},
     "output_type": "execute_result"
    }
   ],
   "source": [
    "LogisticRegression().get_params()"
   ]
  },
  {
   "cell_type": "code",
   "execution_count": 100,
   "metadata": {},
   "outputs": [
    {
     "name": "stderr",
     "output_type": "stream",
     "text": [
      "/Users/jameskim/opt/anaconda3/lib/python3.7/site-packages/sklearn/linear_model/_logistic.py:939: ConvergenceWarning: lbfgs failed to converge (status=1):\n",
      "STOP: TOTAL NO. of ITERATIONS REACHED LIMIT.\n",
      "\n",
      "Increase the number of iterations (max_iter) or scale the data as shown in:\n",
      "    https://scikit-learn.org/stable/modules/preprocessing.html.\n",
      "Please also refer to the documentation for alternative solver options:\n",
      "    https://scikit-learn.org/stable/modules/linear_model.html#logistic-regression\n",
      "  extra_warning_msg=_LOGISTIC_SOLVER_CONVERGENCE_MSG)\n"
     ]
    },
    {
     "data": {
      "text/plain": [
       "LogisticRegression(C=100, class_weight=None, dual=False, fit_intercept=True,\n",
       "                   intercept_scaling=1, l1_ratio=None, max_iter=100,\n",
       "                   multi_class='auto', n_jobs=None, penalty='l2',\n",
       "                   random_state=None, solver='lbfgs', tol=0.0001, verbose=0,\n",
       "                   warm_start=False)"
      ]
     },
     "execution_count": 100,
     "metadata": {},
     "output_type": "execute_result"
    }
   ],
   "source": [
    "X3_train, X3_test, Y3_train, Y3_test = train_test_split(X, Y, test_size=0.3, random_state=42)\n",
    "logreg = LogisticRegression(C=100)\n",
    "logreg.fit(X3_train, Y3_train)\n"
   ]
  },
  {
   "cell_type": "code",
   "execution_count": 101,
   "metadata": {},
   "outputs": [
    {
     "name": "stdout",
     "output_type": "stream",
     "text": [
      "Accuracy of logistic regression classifier on test set: 0.799\n"
     ]
    }
   ],
   "source": [
    "Y_pred = logreg.predict(X3_test)\n",
    "print('Accuracy of logistic regression classifier on test set: {:.3f}'.format(logreg.score(X3_test, Y3_test)))\n"
   ]
  },
  {
   "cell_type": "code",
   "execution_count": 105,
   "metadata": {},
   "outputs": [
    {
     "name": "stdout",
     "output_type": "stream",
     "text": [
      "Accuracy: 0.7991783007777062\n",
      "Precision: 0.8079418886198547\n"
     ]
    }
   ],
   "source": [
    "print(\"Accuracy:\",metrics.accuracy_score(Y3_test, Y_pred))\n",
    "print(\"Precision:\",metrics.precision_score(Y3_test, Y_pred))"
   ]
  },
  {
   "cell_type": "code",
   "execution_count": 106,
   "metadata": {},
   "outputs": [
    {
     "name": "stdout",
     "output_type": "stream",
     "text": [
      "[[  4543  75354]\n",
      " [  5444 316996]]\n"
     ]
    }
   ],
   "source": [
    "from sklearn.metrics import confusion_matrix\n",
    "confusion_matrix = confusion_matrix(Y3_test, Y_pred)\n",
    "print(confusion_matrix)"
   ]
  },
  {
   "cell_type": "markdown",
   "metadata": {},
   "source": [
    "## KNeighborsClassifier"
   ]
  },
  {
   "cell_type": "code",
   "execution_count": 77,
   "metadata": {},
   "outputs": [],
   "source": [
    "from sklearn.neighbors import KNeighborsClassifier\n"
   ]
  },
  {
   "cell_type": "code",
   "execution_count": 78,
   "metadata": {},
   "outputs": [],
   "source": [
    "kne = KNeighborsClassifier()"
   ]
  },
  {
   "cell_type": "code",
   "execution_count": 79,
   "metadata": {},
   "outputs": [
    {
     "data": {
      "text/plain": [
       "KNeighborsClassifier(algorithm='auto', leaf_size=30, metric='minkowski',\n",
       "                     metric_params=None, n_jobs=None, n_neighbors=5, p=2,\n",
       "                     weights='uniform')"
      ]
     },
     "execution_count": 79,
     "metadata": {},
     "output_type": "execute_result"
    }
   ],
   "source": [
    "kne.fit(X_train, y_train)"
   ]
  },
  {
   "cell_type": "code",
   "execution_count": 81,
   "metadata": {},
   "outputs": [
    {
     "data": {
      "text/plain": [
       "0.8330092888606373"
      ]
     },
     "execution_count": 81,
     "metadata": {},
     "output_type": "execute_result"
    }
   ],
   "source": [
    "kne.score(X_train,y_train)"
   ]
  },
  {
   "cell_type": "code",
   "execution_count": 82,
   "metadata": {},
   "outputs": [
    {
     "name": "stdout",
     "output_type": "stream",
     "text": [
      "Accuracy of logistic regression classifier on test set: 0.776\n"
     ]
    }
   ],
   "source": [
    "Y1_pred = kne.predict(X_test)\n",
    "print('Accuracy of logistic regression classifier on test set: {:.3f}'.format(kne.score(X_test, y_test)))"
   ]
  },
  {
   "cell_type": "code",
   "execution_count": 83,
   "metadata": {},
   "outputs": [
    {
     "name": "stdout",
     "output_type": "stream",
     "text": [
      "[[  8652  44534]\n",
      " [ 15592 199447]]\n"
     ]
    }
   ],
   "source": [
    "from sklearn.metrics import confusion_matrix\n",
    "confusion_matrix = confusion_matrix(y_test, Y1_pred)\n",
    "print(confusion_matrix)\n",
    "#81.69% precision"
   ]
  },
  {
   "cell_type": "markdown",
   "metadata": {},
   "source": [
    "## Base Models"
   ]
  },
  {
   "cell_type": "code",
   "execution_count": 118,
   "metadata": {},
   "outputs": [
    {
     "name": "stderr",
     "output_type": "stream",
     "text": [
      "Using TensorFlow backend.\n"
     ]
    }
   ],
   "source": [
    "from xgboost import XGBClassifier\n",
    "from sklearn.svm import SVC\n",
    "from sklearn.ensemble import RandomForestClassifier, VotingClassifier\n",
    "from imblearn.under_sampling import TomekLinks\n"
   ]
  },
  {
   "cell_type": "code",
   "execution_count": 119,
   "metadata": {},
   "outputs": [],
   "source": [
    "xgb_clf = XGBClassifier(objective=\"binary:logistic\",\n",
    "                            learning_rate=0.03,\n",
    "                            n_estimators=500,\n",
    "                            max_depth=1,\n",
    "                            subsample=0.4,\n",
    "                            random_state=123)\n",
    "svm_clf = SVC(gamma=0.1,\n",
    "              C=0.01,\n",
    "              kernel=\"poly\",\n",
    "              degree=3,\n",
    "              coef0=10.0,\n",
    "              probability=True)\n",
    "rf_clf = RandomForestClassifier(n_estimators=300,\n",
    "                                max_features=\"sqrt\",\n",
    "                                criterion=\"gini\",\n",
    "                                min_samples_leaf=5,\n",
    "                                class_weight=\"balanced\")"
   ]
  },
  {
   "cell_type": "code",
   "execution_count": null,
   "metadata": {},
   "outputs": [],
   "source": [
    "svm_clf.fit(X_train,y_train)"
   ]
  },
  {
   "cell_type": "code",
   "execution_count": null,
   "metadata": {},
   "outputs": [],
   "source": [
    "svmY_pred = svm_clf.predict(X_test)\n",
    "print(\"Accuracy:\",metrics.accuracy_score(y_test, svmY_pred))\n",
    "print(\"Precision:\",metrics.precision_score(y_test, svmY_pred))"
   ]
  },
  {
   "cell_type": "markdown",
   "metadata": {},
   "source": [
    "## Neural Network using Keras"
   ]
  },
  {
   "cell_type": "code",
   "execution_count": 86,
   "metadata": {},
   "outputs": [
    {
     "name": "stderr",
     "output_type": "stream",
     "text": [
      "Using TensorFlow backend.\n"
     ]
    }
   ],
   "source": [
    "from numpy import loadtxt\n",
    "from keras.models import Sequential\n",
    "from keras.layers import Dense"
   ]
  },
  {
   "cell_type": "code",
   "execution_count": 87,
   "metadata": {},
   "outputs": [],
   "source": [
    "# define the keras model\n",
    "model = Sequential()\n",
    "model.add(Dense(10, input_dim=122, activation='sigmoid'))\n",
    "model.add(Dense(10, activation='sigmoid'))\n",
    "model.add(Dense(5, activation='sigmoid'))\n",
    "model.add(Dense(3, activation='sigmoid'))\n",
    "model.add(Dense(1, activation='sigmoid'))"
   ]
  },
  {
   "cell_type": "code",
   "execution_count": 88,
   "metadata": {},
   "outputs": [],
   "source": [
    "...\n",
    "# compile the keras model\n",
    "model.compile(loss='binary_crossentropy', optimizer='adam', metrics=['accuracy'])"
   ]
  },
  {
   "cell_type": "code",
   "execution_count": 89,
   "metadata": {},
   "outputs": [
    {
     "name": "stdout",
     "output_type": "stream",
     "text": [
      "Epoch 1/10\n",
      "938786/938786 [==============================] - 10s 11us/step - loss: 0.5283 - accuracy: 0.7706\n",
      "Epoch 2/10\n",
      "938786/938786 [==============================] - 10s 11us/step - loss: 0.4979 - accuracy: 0.8018\n",
      "Epoch 3/10\n",
      "938786/938786 [==============================] - 10s 11us/step - loss: 0.4979 - accuracy: 0.8018\n",
      "Epoch 4/10\n",
      "938786/938786 [==============================] - 10s 11us/step - loss: 0.4979 - accuracy: 0.8018\n",
      "Epoch 5/10\n",
      "938786/938786 [==============================] - 10s 11us/step - loss: 0.4979 - accuracy: 0.8018\n",
      "Epoch 6/10\n",
      "938786/938786 [==============================] - 10s 11us/step - loss: 0.4979 - accuracy: 0.8018\n",
      "Epoch 7/10\n",
      "938786/938786 [==============================] - 10s 11us/step - loss: 0.4979 - accuracy: 0.8018\n",
      "Epoch 8/10\n",
      "938786/938786 [==============================] - 10s 11us/step - loss: 0.4979 - accuracy: 0.8018\n",
      "Epoch 9/10\n",
      "938786/938786 [==============================] - 10s 11us/step - loss: 0.4979 - accuracy: 0.8018\n",
      "Epoch 10/10\n",
      "938786/938786 [==============================] - 10s 11us/step - loss: 0.4979 - accuracy: 0.8018\n"
     ]
    },
    {
     "data": {
      "text/plain": [
       "<keras.callbacks.callbacks.History at 0x1a68db1a90>"
      ]
     },
     "execution_count": 89,
     "metadata": {},
     "output_type": "execute_result"
    }
   ],
   "source": [
    "# fit the keras model on the dataset\n",
    "X2_train, X2_test, y2_train, y2_test = train_test_split(X, Y, test_size=0.3, random_state=42)\n",
    "\n",
    "model.fit(X2_train, y2_train, epochs=10, batch_size=200)"
   ]
  },
  {
   "cell_type": "code",
   "execution_count": 91,
   "metadata": {},
   "outputs": [
    {
     "name": "stdout",
     "output_type": "stream",
     "text": [
      "938786/938786 [==============================] - 9s 10us/step\n",
      "Accuracy: 80.18\n"
     ]
    }
   ],
   "source": [
    "# evaluate the keras model\n",
    "_, accuracy = model.evaluate(X2_train, y2_train)\n",
    "print('Accuracy: %.2f' % (accuracy*100))"
   ]
  },
  {
   "cell_type": "code",
   "execution_count": 92,
   "metadata": {},
   "outputs": [],
   "source": [
    "Y2_pred = model.predict_classes(X2_test)"
   ]
  },
  {
   "cell_type": "code",
   "execution_count": 94,
   "metadata": {},
   "outputs": [
    {
     "name": "stdout",
     "output_type": "stream",
     "text": [
      "[[     0  79897]\n",
      " [     0 322440]]\n"
     ]
    }
   ],
   "source": [
    "from sklearn.metrics import confusion_matrix\n",
    "confusion_matrix = confusion_matrix(y2_test, Y2_pred)\n",
    "print(confusion_matrix)"
   ]
  },
  {
   "cell_type": "markdown",
   "metadata": {},
   "source": [
    "### Neural Network with class_weight = balanced"
   ]
  },
  {
   "cell_type": "code",
   "execution_count": 95,
   "metadata": {},
   "outputs": [],
   "source": [
    "import tensorflow as tf\n",
    "from tensorflow import keras\n",
    "\n",
    "import os\n",
    "import tempfile\n",
    "\n",
    "import matplotlib as mpl\n",
    "import matplotlib.pyplot as plt\n",
    "import numpy as np\n",
    "import pandas as pd\n",
    "import seaborn as sns\n",
    "\n",
    "import sklearn\n",
    "from sklearn.metrics import confusion_matrix\n",
    "from sklearn.model_selection import train_test_split\n",
    "from sklearn.preprocessing import StandardScaler"
   ]
  },
  {
   "cell_type": "code",
   "execution_count": 106,
   "metadata": {},
   "outputs": [],
   "source": [
    "X3_train, X3_test, y3_train, y3_test = train_test_split(X, Y, test_size=0.3, random_state=42)\n"
   ]
  },
  {
   "cell_type": "code",
   "execution_count": 97,
   "metadata": {},
   "outputs": [],
   "source": [
    "neg, pos = np.bincount(loans['loan_status'])\n",
    "total = neg + pos"
   ]
  },
  {
   "cell_type": "code",
   "execution_count": 99,
   "metadata": {},
   "outputs": [],
   "source": [
    "METRICS = [\n",
    "      keras.metrics.TruePositives(name='tp'),\n",
    "      keras.metrics.FalsePositives(name='fp'),\n",
    "      keras.metrics.TrueNegatives(name='tn'),\n",
    "      keras.metrics.FalseNegatives(name='fn'), \n",
    "      keras.metrics.BinaryAccuracy(name='accuracy'),\n",
    "      keras.metrics.Precision(name='precision'),\n",
    "      keras.metrics.Recall(name='recall'),\n",
    "      keras.metrics.AUC(name='auc'),\n",
    "]\n",
    "\n",
    "def make_model(metrics = METRICS, output_bias=None):\n",
    "  if output_bias is not None:\n",
    "    output_bias = tf.keras.initializers.Constant(output_bias)\n",
    "  model = keras.Sequential([\n",
    "      keras.layers.Dense(\n",
    "          16, activation='relu',\n",
    "          input_shape=(X_train.shape[-1],)),\n",
    "      keras.layers.Dropout(0.5),\n",
    "      keras.layers.Dense(1, activation='sigmoid',\n",
    "                         bias_initializer=output_bias),\n",
    "  ])\n",
    "\n",
    "  model.compile(\n",
    "      optimizer=keras.optimizers.Adam(lr=1e-3),\n",
    "      loss=keras.losses.BinaryCrossentropy(),\n",
    "      metrics=metrics)\n",
    "\n",
    "  return model"
   ]
  },
  {
   "cell_type": "code",
   "execution_count": 100,
   "metadata": {},
   "outputs": [],
   "source": [
    "initial_bias = np.log([pos/neg])\n",
    "model = make_model(output_bias = initial_bias)\n",
    "\n",
    "initial_weights = os.path.join(tempfile.mkdtemp(),'initial_weights')\n",
    "model.save_weights(initial_weights)"
   ]
  },
  {
   "cell_type": "code",
   "execution_count": 101,
   "metadata": {},
   "outputs": [
    {
     "data": {
      "text/plain": [
       "265931"
      ]
     },
     "execution_count": 101,
     "metadata": {},
     "output_type": "execute_result"
    }
   ],
   "source": [
    "neg"
   ]
  },
  {
   "cell_type": "code",
   "execution_count": 102,
   "metadata": {},
   "outputs": [
    {
     "data": {
      "text/plain": [
       "1075192"
      ]
     },
     "execution_count": 102,
     "metadata": {},
     "output_type": "execute_result"
    }
   ],
   "source": [
    "pos"
   ]
  },
  {
   "cell_type": "code",
   "execution_count": 103,
   "metadata": {},
   "outputs": [
    {
     "name": "stdout",
     "output_type": "stream",
     "text": [
      "Weight for class 0: 2.52\n",
      "Weight for class 1: 0.62\n"
     ]
    }
   ],
   "source": [
    "weight_for_0 = (1 / neg)*(total)/2.0 \n",
    "weight_for_1 = (1 / pos)*(total)/2.0\n",
    "\n",
    "class_weight = {0: weight_for_0, 1: weight_for_1}\n",
    "\n",
    "print('Weight for class 0: {:.2f}'.format(weight_for_0))\n",
    "print('Weight for class 1: {:.2f}'.format(weight_for_1))"
   ]
  },
  {
   "cell_type": "code",
   "execution_count": 104,
   "metadata": {},
   "outputs": [],
   "source": [
    "EPOCHS = 100\n",
    "BATCH_SIZE = 2048\n",
    "\n",
    "early_stopping = tf.keras.callbacks.EarlyStopping(\n",
    "    monitor='val_auc', \n",
    "    verbose=1,\n",
    "    patience=10,\n",
    "    mode='max',\n",
    "    restore_best_weights=True)"
   ]
  },
  {
   "cell_type": "code",
   "execution_count": 107,
   "metadata": {
    "scrolled": false
   },
   "outputs": [
    {
     "name": "stdout",
     "output_type": "stream",
     "text": [
      "WARNING:tensorflow:Falling back from v2 loop because of error: Failed to find data adapter that can handle input: <class 'pandas.core.frame.DataFrame'>, <class 'NoneType'>\n",
      "Train on 938786 samples\n",
      "Epoch 1/100\n",
      "935936/938786 [============================>.] - ETA: 0s - loss: 7.4676 - tp: 129243.0000 - fp: 30177.0000 - tn: 155266.0000 - fn: 621250.0000 - accuracy: 0.3040 - precision: 0.8107 - recall: 0.1722 - auc: 0.5049WARNING:tensorflow:Early stopping conditioned on metric `val_auc` which is not available. Available metrics are: loss,tp,fp,tn,fn,accuracy,precision,recall,auc\n",
      "938786/938786 [==============================] - 6s 7us/sample - loss: 7.4672 - tp: 129706.0000 - fp: 30294.0000 - tn: 155740.0000 - fn: 623046.0000 - accuracy: 0.3041 - precision: 0.8107 - recall: 0.1723 - auc: 0.5049\n",
      "Epoch 2/100\n",
      "931840/938786 [============================>.] - ETA: 0s - loss: 6.0940 - tp: 155115.0000 - fp: 35890.0000 - tn: 148740.0000 - fn: 592095.0000 - accuracy: 0.3261 - precision: 0.8121 - recall: 0.2076 - auc: 0.5022WARNING:tensorflow:Early stopping conditioned on metric `val_auc` which is not available. Available metrics are: loss,tp,fp,tn,fn,accuracy,precision,recall,auc\n",
      "938786/938786 [==============================] - 5s 6us/sample - loss: 6.0933 - tp: 156237.0000 - fp: 36165.0000 - tn: 149869.0000 - fn: 596515.0000 - accuracy: 0.3261 - precision: 0.8120 - recall: 0.2076 - auc: 0.5022\n",
      "Epoch 3/100\n",
      "931840/938786 [============================>.] - ETA: 0s - loss: 4.3844 - tp: 279392.0000 - fp: 62544.0000 - tn: 122093.0000 - fn: 467811.0000 - accuracy: 0.4309 - precision: 0.8171 - recall: 0.3739 - auc: 0.5078WARNING:tensorflow:Early stopping conditioned on metric `val_auc` which is not available. Available metrics are: loss,tp,fp,tn,fn,accuracy,precision,recall,auc\n",
      "938786/938786 [==============================] - 5s 6us/sample - loss: 4.3827 - tp: 281610.0000 - fp: 63042.0000 - tn: 122992.0000 - fn: 471142.0000 - accuracy: 0.4310 - precision: 0.8171 - recall: 0.3741 - auc: 0.5079\n",
      "Epoch 4/100\n",
      "929792/938786 [============================>.] - ETA: 0s - loss: 4.1946 - tp: 314634.0000 - fp: 69728.0000 - tn: 114416.0000 - fn: 431014.0000 - accuracy: 0.4614 - precision: 0.8186 - recall: 0.4220 - auc: 0.5128WARNING:tensorflow:Early stopping conditioned on metric `val_auc` which is not available. Available metrics are: loss,tp,fp,tn,fn,accuracy,precision,recall,auc\n",
      "938786/938786 [==============================] - 5s 6us/sample - loss: 4.1941 - tp: 318186.0000 - fp: 70615.0000 - tn: 115419.0000 - fn: 434566.0000 - accuracy: 0.4619 - precision: 0.8184 - recall: 0.4227 - auc: 0.5129\n",
      "Epoch 5/100\n",
      "937984/938786 [============================>.] - ETA: 0s - loss: 4.2051 - tp: 297415.0000 - fp: 73579.0000 - tn: 112280.0000 - fn: 454710.0000 - accuracy: 0.4368 - precision: 0.8017 - recall: 0.3954 - auc: 0.5000WARNING:tensorflow:Early stopping conditioned on metric `val_auc` which is not available. Available metrics are: loss,tp,fp,tn,fn,accuracy,precision,recall,auc\n",
      "938786/938786 [==============================] - 5s 6us/sample - loss: 4.2049 - tp: 297415.0000 - fp: 73579.0000 - tn: 112455.0000 - fn: 455337.0000 - accuracy: 0.4366 - precision: 0.8017 - recall: 0.3951 - auc: 0.5000\n",
      "Epoch 6/100\n",
      "929792/938786 [============================>.] - ETA: 0s - loss: 3.8552 - tp: 126548.0000 - fp: 31600.0000 - tn: 152690.0000 - fn: 618954.0000 - accuracy: 0.3003 - precision: 0.8002 - recall: 0.1697 - auc: 0.4995WARNING:tensorflow:Early stopping conditioned on metric `val_auc` which is not available. Available metrics are: loss,tp,fp,tn,fn,accuracy,precision,recall,auc\n",
      "938786/938786 [==============================] - 5s 6us/sample - loss: 3.8249 - tp: 126549.0000 - fp: 31600.0000 - tn: 154434.0000 - fn: 626203.0000 - accuracy: 0.2993 - precision: 0.8002 - recall: 0.1681 - auc: 0.4995\n",
      "Epoch 7/100\n",
      "935936/938786 [============================>.] - ETA: 0s - loss: 0.6940 - tp: 425360.0000 - fp: 104971.0000 - tn: 80493.0000 - fn: 325112.0000 - accuracy: 0.5405 - precision: 0.8021 - recall: 0.5668 - auc: 0.4999WARNING:tensorflow:Early stopping conditioned on metric `val_auc` which is not available. Available metrics are: loss,tp,fp,tn,fn,accuracy,precision,recall,auc\n",
      "938786/938786 [==============================] - 5s 6us/sample - loss: 0.6941 - tp: 425360.0000 - fp: 104971.0000 - tn: 81063.0000 - fn: 327392.0000 - accuracy: 0.5394 - precision: 0.8021 - recall: 0.5651 - auc: 0.4999\n",
      "Epoch 8/100\n",
      "935936/938786 [============================>.] - ETA: 0s - loss: 0.6935 - tp: 354650.0000 - fp: 87663.0000 - tn: 97836.0000 - fn: 395787.0000 - accuracy: 0.4835 - precision: 0.8018 - recall: 0.4726 - auc: 0.5003WARNING:tensorflow:Early stopping conditioned on metric `val_auc` which is not available. Available metrics are: loss,tp,fp,tn,fn,accuracy,precision,recall,auc\n",
      "938786/938786 [==============================] - 5s 6us/sample - loss: 0.6934 - tp: 354650.0000 - fp: 87663.0000 - tn: 98371.0000 - fn: 398102.0000 - accuracy: 0.4826 - precision: 0.8018 - recall: 0.4711 - auc: 0.5003\n",
      "Epoch 9/100\n",
      "929792/938786 [============================>.] - ETA: 0s - loss: 0.6932 - tp: 362856.0000 - fp: 89726.0000 - tn: 94496.0000 - fn: 382714.0000 - accuracy: 0.4919 - precision: 0.8017 - recall: 0.4867 - auc: 0.5002WARNING:tensorflow:Early stopping conditioned on metric `val_auc` which is not available. Available metrics are: loss,tp,fp,tn,fn,accuracy,precision,recall,auc\n",
      "938786/938786 [==============================] - 5s 6us/sample - loss: 0.6932 - tp: 362856.0000 - fp: 89726.0000 - tn: 96308.0000 - fn: 389896.0000 - accuracy: 0.4891 - precision: 0.8017 - recall: 0.4820 - auc: 0.5002\n",
      "Epoch 10/100\n",
      "929792/938786 [============================>.] - ETA: 0s - loss: 0.6935 - tp: 320405.0000 - fp: 78950.0000 - tn: 105266.0000 - fn: 425171.0000 - accuracy: 0.4578 - precision: 0.8023 - recall: 0.4297 - auc: 0.5005WARNING:tensorflow:Early stopping conditioned on metric `val_auc` which is not available. Available metrics are: loss,tp,fp,tn,fn,accuracy,precision,recall,auc\n",
      "938786/938786 [==============================] - 5s 6us/sample - loss: 0.6935 - tp: 320405.0000 - fp: 78950.0000 - tn: 107084.0000 - fn: 432347.0000 - accuracy: 0.4554 - precision: 0.8023 - recall: 0.4256 - auc: 0.5005\n",
      "Epoch 11/100\n",
      "935936/938786 [============================>.] - ETA: 0s - loss: 0.6936 - tp: 387506.0000 - fp: 95837.0000 - tn: 89668.0000 - fn: 362925.0000 - accuracy: 0.5098 - precision: 0.8017 - recall: 0.5164 - auc: 0.5000WARNING:tensorflow:Early stopping conditioned on metric `val_auc` which is not available. Available metrics are: loss,tp,fp,tn,fn,accuracy,precision,recall,auc\n",
      "938786/938786 [==============================] - 5s 5us/sample - loss: 0.6935 - tp: 389827.0000 - fp: 96366.0000 - tn: 89668.0000 - fn: 362925.0000 - accuracy: 0.5108 - precision: 0.8018 - recall: 0.5179 - auc: 0.5000\n",
      "Epoch 12/100\n",
      "931840/938786 [============================>.] - ETA: 0s - loss: 0.6935 - tp: 491018.0000 - fp: 121332.0000 - tn: 63307.0000 - fn: 256183.0000 - accuracy: 0.5949 - precision: 0.8019 - recall: 0.6571 - auc: 0.4999WARNING:tensorflow:Early stopping conditioned on metric `val_auc` which is not available. Available metrics are: loss,tp,fp,tn,fn,accuracy,precision,recall,auc\n",
      "938786/938786 [==============================] - 5s 5us/sample - loss: 0.6935 - tp: 494288.0000 - fp: 122158.0000 - tn: 63876.0000 - fn: 258464.0000 - accuracy: 0.5946 - precision: 0.8018 - recall: 0.6566 - auc: 0.4999\n",
      "Epoch 13/100\n",
      "937984/938786 [============================>.] - ETA: 0s - loss: 0.6936 - tp: 372456.0000 - fp: 92436.0000 - tn: 93435.0000 - fn: 379657.0000 - accuracy: 0.4967 - precision: 0.8012 - recall: 0.4952 - auc: 0.4998WARNING:tensorflow:Early stopping conditioned on metric `val_auc` which is not available. Available metrics are: loss,tp,fp,tn,fn,accuracy,precision,recall,auc\n",
      "938786/938786 [==============================] - 5s 5us/sample - loss: 0.6936 - tp: 372456.0000 - fp: 92436.0000 - tn: 93598.0000 - fn: 380296.0000 - accuracy: 0.4964 - precision: 0.8012 - recall: 0.4948 - auc: 0.4998\n",
      "Epoch 14/100\n",
      "933888/938786 [============================>.] - ETA: 0s - loss: 0.6936 - tp: 317247.0000 - fp: 78034.0000 - tn: 107008.0000 - fn: 431599.0000 - accuracy: 0.4543 - precision: 0.8026 - recall: 0.4236 - auc: 0.5000WARNING:tensorflow:Early stopping conditioned on metric `val_auc` which is not available. Available metrics are: loss,tp,fp,tn,fn,accuracy,precision,recall,auc\n",
      "938786/938786 [==============================] - 5s 5us/sample - loss: 0.6936 - tp: 317247.0000 - fp: 78034.0000 - tn: 108000.0000 - fn: 435505.0000 - accuracy: 0.4530 - precision: 0.8026 - recall: 0.4214 - auc: 0.5000\n",
      "Epoch 15/100\n",
      "937984/938786 [============================>.] - ETA: 0s - loss: 0.6937 - tp: 415523.0000 - fp: 102616.0000 - tn: 83244.0000 - fn: 336601.0000 - accuracy: 0.5317 - precision: 0.8020 - recall: 0.5525 - auc: 0.4998   - ETA: 8s - loss: 0.6960 - tp: 0.0000e+00 - fp: 0.0000e+00 - tWARNING:tensorflow:Early stopping conditioned on metric `val_auc` which is not available. Available metrics are: loss,tp,fp,tn,fn,accuracy,precision,recall,auc\n",
      "938786/938786 [==============================] - 5s 5us/sample - loss: 0.6937 - tp: 415523.0000 - fp: 102616.0000 - tn: 83418.0000 - fn: 337229.0000 - accuracy: 0.5315 - precision: 0.8020 - recall: 0.5520 - auc: 0.4998\n",
      "Epoch 16/100\n",
      "933888/938786 [============================>.] - ETA: 0s - loss: 0.6936 - tp: 319923.0000 - fp: 79448.0000 - tn: 105613.0000 - fn: 428904.0000 - accuracy: 0.4557 - precision: 0.8011 - recall: 0.4272 - auc: 0.5000WARNING:tensorflow:Early stopping conditioned on metric `val_auc` which is not available. Available metrics are: loss,tp,fp,tn,fn,accuracy,precision,recall,auc\n",
      "938786/938786 [==============================] - 5s 5us/sample - loss: 0.6936 - tp: 323848.0000 - fp: 80421.0000 - tn: 105613.0000 - fn: 428904.0000 - accuracy: 0.4575 - precision: 0.8011 - recall: 0.4302 - auc: 0.5000\n",
      "Epoch 17/100\n",
      "931840/938786 [============================>.] - ETA: 0s - loss: 0.6934 - tp: 478080.0000 - fp: 117887.0000 - tn: 66682.0000 - fn: 269191.0000 - accuracy: 0.5846 - precision: 0.8022 - recall: 0.6398 - auc: 0.4997WARNING:tensorflow:Early stopping conditioned on metric `val_auc` which is not available. Available metrics are: loss,tp,fp,tn,fn,accuracy,precision,recall,auc\n",
      "938786/938786 [==============================] - 5s 5us/sample - loss: 0.6936 - tp: 478081.0000 - fp: 117887.0000 - tn: 68147.0000 - fn: 274671.0000 - accuracy: 0.5818 - precision: 0.8022 - recall: 0.6351 - auc: 0.4997\n",
      "Epoch 18/100\n",
      "931840/938786 [============================>.] - ETA: 0s - loss: 0.6936 - tp: 389450.0000 - fp: 95928.0000 - tn: 88661.0000 - fn: 357801.0000 - accuracy: 0.5131 - precision: 0.8024 - recall: 0.5212 - auc: 0.4994WARNING:tensorflow:Early stopping conditioned on metric `val_auc` which is not available. Available metrics are: loss,tp,fp,tn,fn,accuracy,precision,recall,auc\n",
      "938786/938786 [==============================] - 5s 6us/sample - loss: 0.6937 - tp: 394951.0000 - fp: 97373.0000 - tn: 88661.0000 - fn: 357801.0000 - accuracy: 0.5151 - precision: 0.8022 - recall: 0.5247 - auc: 0.4994\n",
      "Epoch 19/100\n",
      "935936/938786 [============================>.] - ETA: 0s - loss: 0.6937 - tp: 405493.0000 - fp: 100370.0000 - tn: 85122.0000 - fn: 344951.0000 - accuracy: 0.5242 - precision: 0.8016 - recall: 0.5403 - auc: 0.5000WARNING:tensorflow:Early stopping conditioned on metric `val_auc` which is not available. Available metrics are: loss,tp,fp,tn,fn,accuracy,precision,recall,auc\n",
      "938786/938786 [==============================] - 5s 5us/sample - loss: 0.6937 - tp: 405493.0000 - fp: 100370.0000 - tn: 85664.0000 - fn: 347259.0000 - accuracy: 0.5232 - precision: 0.8016 - recall: 0.5387 - auc: 0.5000\n",
      "Epoch 20/100\n",
      "937984/938786 [============================>.] - ETA: 0s - loss: 0.6934 - tp: 431689.0000 - fp: 106944.0000 - tn: 78925.0000 - fn: 320426.0000 - accuracy: 0.5444 - precision: 0.8015 - recall: 0.5740 - auc: 0.4999WARNING:tensorflow:Early stopping conditioned on metric `val_auc` which is not available. Available metrics are: loss,tp,fp,tn,fn,accuracy,precision,recall,auc\n",
      "938786/938786 [==============================] - 5s 5us/sample - loss: 0.6934 - tp: 431689.0000 - fp: 106944.0000 - tn: 79090.0000 - fn: 321063.0000 - accuracy: 0.5441 - precision: 0.8015 - recall: 0.5735 - auc: 0.4999\n",
      "Epoch 21/100\n",
      "933888/938786 [============================>.] - ETA: 0s - loss: 0.6937 - tp: 462719.0000 - fp: 114818.0000 - tn: 70265.0000 - fn: 286086.0000 - accuracy: 0.5707 - precision: 0.8012 - recall: 0.6179 - auc: 0.5000WARNING:tensorflow:Early stopping conditioned on metric `val_auc` which is not available. Available metrics are: loss,tp,fp,tn,fn,accuracy,precision,recall,auc\n",
      "938786/938786 [==============================] - 5s 5us/sample - loss: 0.6937 - tp: 466666.0000 - fp: 115769.0000 - tn: 70265.0000 - fn: 286086.0000 - accuracy: 0.5719 - precision: 0.8012 - recall: 0.6199 - auc: 0.5000\n",
      "Epoch 22/100\n",
      "933888/938786 [============================>.] - ETA: 0s - loss: 0.6937 - tp: 418852.0000 - fp: 103398.0000 - tn: 81644.0000 - fn: 329994.0000 - accuracy: 0.5359 - precision: 0.8020 - recall: 0.5593 - auc: 0.4997WARNING:tensorflow:Early stopping conditioned on metric `val_auc` which is not available. Available metrics are: loss,tp,fp,tn,fn,accuracy,precision,recall,auc\n",
      "938786/938786 [==============================] - 5s 5us/sample - loss: 0.6937 - tp: 422758.0000 - fp: 104390.0000 - tn: 81644.0000 - fn: 329994.0000 - accuracy: 0.5373 - precision: 0.8020 - recall: 0.5616 - auc: 0.4997\n",
      "Epoch 23/100\n",
      "933888/938786 [============================>.] - ETA: 0s - loss: 0.6939 - tp: 515408.0000 - fp: 127680.0000 - tn: 57375.0000 - fn: 233425.0000 - accuracy: 0.6133 - precision: 0.8015 - recall: 0.6883 - auc: 0.5000WARNING:tensorflow:Early stopping conditioned on metric `val_auc` which is not available. Available metrics are: loss,tp,fp,tn,fn,accuracy,precision,recall,auc\n",
      "938786/938786 [==============================] - 5s 5us/sample - loss: 0.6939 - tp: 519327.0000 - fp: 128659.0000 - tn: 57375.0000 - fn: 233425.0000 - accuracy: 0.6143 - precision: 0.8014 - recall: 0.6899 - auc: 0.5000\n",
      "Epoch 24/100\n",
      "937984/938786 [============================>.] - ETA: 0s - loss: 0.6936 - tp: 441398.0000 - fp: 109541.0000 - tn: 76355.0000 - fn: 310690.0000 - accuracy: 0.5520 - precision: 0.8012 - recall: 0.5869 - auc: 0.4998WARNING:tensorflow:Early stopping conditioned on metric `val_auc` which is not available. Available metrics are: loss,tp,fp,tn,fn,accuracy,precision,recall,auc\n",
      "938786/938786 [==============================] - 5s 5us/sample - loss: 0.6935 - tp: 441398.0000 - fp: 109541.0000 - tn: 76493.0000 - fn: 311354.0000 - accuracy: 0.5517 - precision: 0.8012 - recall: 0.5864 - auc: 0.4998\n",
      "Epoch 25/100\n",
      "929792/938786 [============================>.] - ETA: 0s - loss: 0.6936 - tp: 430355.0000 - fp: 106235.0000 - tn: 78008.0000 - fn: 315194.0000 - accuracy: 0.5467 - precision: 0.8020 - recall: 0.5772 - auc: 0.4998WARNING:tensorflow:Early stopping conditioned on metric `val_auc` which is not available. Available metrics are: loss,tp,fp,tn,fn,accuracy,precision,recall,auc\n",
      "938786/938786 [==============================] - 5s 5us/sample - loss: 0.6936 - tp: 437558.0000 - fp: 108026.0000 - tn: 78008.0000 - fn: 315194.0000 - accuracy: 0.5492 - precision: 0.8020 - recall: 0.5813 - auc: 0.4998\n",
      "Epoch 26/100\n",
      "935936/938786 [============================>.] - ETA: 0s - loss: 0.6938 - tp: 356018.0000 - fp: 88425.0000 - tn: 97072.0000 - fn: 394421.0000 - accuracy: 0.4841 - precision: 0.8010 - recall: 0.4744 - auc: 0.5000WARNING:tensorflow:Early stopping conditioned on metric `val_auc` which is not available. Available metrics are: loss,tp,fp,tn,fn,accuracy,precision,recall,auc\n",
      "938786/938786 [==============================] - 5s 5us/sample - loss: 0.6937 - tp: 358331.0000 - fp: 88962.0000 - tn: 97072.0000 - fn: 394421.0000 - accuracy: 0.4851 - precision: 0.8011 - recall: 0.4760 - auc: 0.5000\n",
      "Epoch 27/100\n",
      "929792/938786 [============================>.] - ETA: 0s - loss: 0.6934 - tp: 476471.0000 - fp: 117460.0000 - tn: 66722.0000 - fn: 269139.0000 - accuracy: 0.5842 - precision: 0.8022 - recall: 0.6390 - auc: 0.5000WARNING:tensorflow:Early stopping conditioned on metric `val_auc` which is not available. Available metrics are: loss,tp,fp,tn,fn,accuracy,precision,recall,auc\n"
     ]
    },
    {
     "name": "stdout",
     "output_type": "stream",
     "text": [
      "938786/938786 [==============================] - 5s 5us/sample - loss: 0.6935 - tp: 476471.0000 - fp: 117460.0000 - tn: 68574.0000 - fn: 276281.0000 - accuracy: 0.5806 - precision: 0.8022 - recall: 0.6330 - auc: 0.5001\n",
      "Epoch 28/100\n",
      "937984/938786 [============================>.] - ETA: 0s - loss: 0.6936 - tp: 394074.0000 - fp: 97463.0000 - tn: 88410.0000 - fn: 358037.0000 - accuracy: 0.5144 - precision: 0.8017 - recall: 0.5240 - auc: 0.4998WARNING:tensorflow:Early stopping conditioned on metric `val_auc` which is not available. Available metrics are: loss,tp,fp,tn,fn,accuracy,precision,recall,auc\n",
      "938786/938786 [==============================] - 5s 5us/sample - loss: 0.6936 - tp: 394074.0000 - fp: 97463.0000 - tn: 88571.0000 - fn: 358678.0000 - accuracy: 0.5141 - precision: 0.8017 - recall: 0.5235 - auc: 0.4998\n",
      "Epoch 29/100\n",
      "933888/938786 [============================>.] - ETA: 0s - loss: 0.6934 - tp: 385818.0000 - fp: 95481.0000 - tn: 89569.0000 - fn: 363020.0000 - accuracy: 0.5090 - precision: 0.8016 - recall: 0.5152 - auc: 0.5000WARNING:tensorflow:Early stopping conditioned on metric `val_auc` which is not available. Available metrics are: loss,tp,fp,tn,fn,accuracy,precision,recall,auc\n",
      "938786/938786 [==============================] - 5s 5us/sample - loss: 0.6934 - tp: 389732.0000 - fp: 96465.0000 - tn: 89569.0000 - fn: 363020.0000 - accuracy: 0.5106 - precision: 0.8016 - recall: 0.5177 - auc: 0.5000\n",
      "Epoch 30/100\n",
      "933888/938786 [============================>.] - ETA: 0s - loss: 0.6936 - tp: 451581.0000 - fp: 111633.0000 - tn: 73398.0000 - fn: 297276.0000 - accuracy: 0.5621 - precision: 0.8018 - recall: 0.6030 - auc: 0.5000WARNING:tensorflow:Early stopping conditioned on metric `val_auc` which is not available. Available metrics are: loss,tp,fp,tn,fn,accuracy,precision,recall,auc\n",
      "938786/938786 [==============================] - 5s 5us/sample - loss: 0.6936 - tp: 455476.0000 - fp: 112636.0000 - tn: 73398.0000 - fn: 297276.0000 - accuracy: 0.5634 - precision: 0.8017 - recall: 0.6051 - auc: 0.5000\n",
      "Epoch 31/100\n",
      "933888/938786 [============================>.] - ETA: 0s - loss: 0.6937 - tp: 395822.0000 - fp: 97768.0000 - tn: 87295.0000 - fn: 353003.0000 - accuracy: 0.5173 - precision: 0.8019 - recall: 0.5286 - auc: 0.4999WARNING:tensorflow:Early stopping conditioned on metric `val_auc` which is not available. Available metrics are: loss,tp,fp,tn,fn,accuracy,precision,recall,auc\n",
      "938786/938786 [==============================] - 5s 5us/sample - loss: 0.6937 - tp: 399749.0000 - fp: 98739.0000 - tn: 87295.0000 - fn: 353003.0000 - accuracy: 0.5188 - precision: 0.8019 - recall: 0.5311 - auc: 0.4999\n",
      "Epoch 32/100\n",
      "935936/938786 [============================>.] - ETA: 0s - loss: 0.6937 - tp: 404071.0000 - fp: 99752.0000 - tn: 85715.0000 - fn: 346398.0000 - accuracy: 0.5233 - precision: 0.8020 - recall: 0.5384 - auc: 0.4999WARNING:tensorflow:Early stopping conditioned on metric `val_auc` which is not available. Available metrics are: loss,tp,fp,tn,fn,accuracy,precision,recall,auc\n",
      "938786/938786 [==============================] - 5s 5us/sample - loss: 0.6937 - tp: 406354.0000 - fp: 100319.0000 - tn: 85715.0000 - fn: 346398.0000 - accuracy: 0.5242 - precision: 0.8020 - recall: 0.5398 - auc: 0.4999\n",
      "Epoch 33/100\n",
      "933888/938786 [============================>.] - ETA: 0s - loss: 0.6934 - tp: 489339.0000 - fp: 120974.0000 - tn: 64127.0000 - fn: 259448.0000 - accuracy: 0.5926 - precision: 0.8018 - recall: 0.6535 - auc: 0.5000WARNING:tensorflow:Early stopping conditioned on metric `val_auc` which is not available. Available metrics are: loss,tp,fp,tn,fn,accuracy,precision,recall,auc\n",
      "938786/938786 [==============================] - 5s 5us/sample - loss: 0.6933 - tp: 493304.0000 - fp: 121907.0000 - tn: 64127.0000 - fn: 259448.0000 - accuracy: 0.5938 - precision: 0.8018 - recall: 0.6553 - auc: 0.5000\n",
      "Epoch 34/100\n",
      "933888/938786 [============================>.] - ETA: 0s - loss: 0.6931 - tp: 457729.0000 - fp: 113664.0000 - tn: 71424.0000 - fn: 291071.0000 - accuracy: 0.5666 - precision: 0.8011 - recall: 0.6113 - auc: 0.5000WARNING:tensorflow:Early stopping conditioned on metric `val_auc` which is not available. Available metrics are: loss,tp,fp,tn,fn,accuracy,precision,recall,auc\n",
      "938786/938786 [==============================] - 5s 5us/sample - loss: 0.6930 - tp: 461681.0000 - fp: 114610.0000 - tn: 71424.0000 - fn: 291071.0000 - accuracy: 0.5679 - precision: 0.8011 - recall: 0.6133 - auc: 0.5000\n",
      "Epoch 35/100\n",
      "937984/938786 [============================>.] - ETA: 0s - loss: 0.6930 - tp: 507310.0000 - fp: 125522.0000 - tn: 60362.0000 - fn: 244790.0000 - accuracy: 0.6052 - precision: 0.8017 - recall: 0.6745 - auc: 0.5000WARNING:tensorflow:Early stopping conditioned on metric `val_auc` which is not available. Available metrics are: loss,tp,fp,tn,fn,accuracy,precision,recall,auc\n",
      "938786/938786 [==============================] - 5s 6us/sample - loss: 0.6930 - tp: 507310.0000 - fp: 125522.0000 - tn: 60512.0000 - fn: 245442.0000 - accuracy: 0.6048 - precision: 0.8017 - recall: 0.6739 - auc: 0.5000\n",
      "Epoch 36/100\n",
      "933888/938786 [============================>.] - ETA: 0s - loss: 0.6930 - tp: 293737.0000 - fp: 72855.0000 - tn: 112190.0000 - fn: 455106.0000 - accuracy: 0.4347 - precision: 0.8013 - recall: 0.3923 - auc: 0.5000WARNING:tensorflow:Early stopping conditioned on metric `val_auc` which is not available. Available metrics are: loss,tp,fp,tn,fn,accuracy,precision,recall,auc\n",
      "938786/938786 [==============================] - 5s 6us/sample - loss: 0.6930 - tp: 297646.0000 - fp: 73844.0000 - tn: 112190.0000 - fn: 455106.0000 - accuracy: 0.4366 - precision: 0.8012 - recall: 0.3954 - auc: 0.5000\n",
      "Epoch 37/100\n",
      "931840/938786 [============================>.] - ETA: 0s - loss: 0.6930 - tp: 397114.0000 - fp: 98502.0000 - tn: 86132.0000 - fn: 350092.0000 - accuracy: 0.5186 - precision: 0.8013 - recall: 0.5315 - auc: 0.5000WARNING:tensorflow:Early stopping conditioned on metric `val_auc` which is not available. Available metrics are: loss,tp,fp,tn,fn,accuracy,precision,recall,auc\n",
      "938786/938786 [==============================] - 5s 6us/sample - loss: 0.6930 - tp: 402660.0000 - fp: 99902.0000 - tn: 86132.0000 - fn: 350092.0000 - accuracy: 0.5207 - precision: 0.8012 - recall: 0.5349 - auc: 0.5000\n",
      "Epoch 38/100\n",
      "937984/938786 [============================>.] - ETA: 0s - loss: 0.6930 - tp: 454773.0000 - fp: 112524.0000 - tn: 73350.0000 - fn: 297337.0000 - accuracy: 0.5630 - precision: 0.8016 - recall: 0.6047 - auc: 0.4998WARNING:tensorflow:Early stopping conditioned on metric `val_auc` which is not available. Available metrics are: loss,tp,fp,tn,fn,accuracy,precision,recall,auc\n",
      "938786/938786 [==============================] - 5s 6us/sample - loss: 0.6930 - tp: 454773.0000 - fp: 112524.0000 - tn: 73510.0000 - fn: 297979.0000 - accuracy: 0.5627 - precision: 0.8016 - recall: 0.6041 - auc: 0.4998\n",
      "Epoch 39/100\n",
      "937984/938786 [============================>.] - ETA: 0s - loss: 0.6930 - tp: 472784.0000 - fp: 117042.0000 - tn: 68820.0000 - fn: 279338.0000 - accuracy: 0.5774 - precision: 0.8016 - recall: 0.6286 - auc: 0.4999WARNING:tensorflow:Early stopping conditioned on metric `val_auc` which is not available. Available metrics are: loss,tp,fp,tn,fn,accuracy,precision,recall,auc\n",
      "938786/938786 [==============================] - 5s 6us/sample - loss: 0.6930 - tp: 473414.0000 - fp: 117214.0000 - tn: 68820.0000 - fn: 279338.0000 - accuracy: 0.5776 - precision: 0.8015 - recall: 0.6289 - auc: 0.4999\n",
      "Epoch 40/100\n",
      "933888/938786 [============================>.] - ETA: 0s - loss: 0.6930 - tp: 420772.0000 - fp: 103517.0000 - tn: 81554.0000 - fn: 328045.0000 - accuracy: 0.5379 - precision: 0.8026 - recall: 0.5619 - auc: 0.5004WARNING:tensorflow:Early stopping conditioned on metric `val_auc` which is not available. Available metrics are: loss,tp,fp,tn,fn,accuracy,precision,recall,auc\n",
      "938786/938786 [==============================] - 5s 6us/sample - loss: 0.6930 - tp: 420772.0000 - fp: 103517.0000 - tn: 82517.0000 - fn: 331980.0000 - accuracy: 0.5361 - precision: 0.8026 - recall: 0.5590 - auc: 0.5004\n",
      "Epoch 41/100\n",
      "935936/938786 [============================>.] - ETA: 0s - loss: 0.6930 - tp: 390520.0000 - fp: 96904.0000 - tn: 88580.0000 - fn: 359932.0000 - accuracy: 0.5119 - precision: 0.8012 - recall: 0.5204 - auc: 0.5000WARNING:tensorflow:Early stopping conditioned on metric `val_auc` which is not available. Available metrics are: loss,tp,fp,tn,fn,accuracy,precision,recall,auc\n",
      "938786/938786 [==============================] - 5s 6us/sample - loss: 0.6930 - tp: 390520.0000 - fp: 96904.0000 - tn: 89130.0000 - fn: 362232.0000 - accuracy: 0.5109 - precision: 0.8012 - recall: 0.5188 - auc: 0.5000\n",
      "Epoch 42/100\n",
      "937984/938786 [============================>.] - ETA: 0s - loss: 0.6930 - tp: 315371.0000 - fp: 77844.0000 - tn: 108015.0000 - fn: 436754.0000 - accuracy: 0.4514 - precision: 0.8020 - recall: 0.4193 - auc: 0.5000WARNING:tensorflow:Early stopping conditioned on metric `val_auc` which is not available. Available metrics are: loss,tp,fp,tn,fn,accuracy,precision,recall,auc\n",
      "938786/938786 [==============================] - 5s 6us/sample - loss: 0.6930 - tp: 315998.0000 - fp: 78019.0000 - tn: 108015.0000 - fn: 436754.0000 - accuracy: 0.4517 - precision: 0.8020 - recall: 0.4198 - auc: 0.5000\n",
      "Epoch 43/100\n",
      "933888/938786 [============================>.] - ETA: 0s - loss: 0.6930 - tp: 573054.0000 - fp: 141699.0000 - tn: 43366.0000 - fn: 175769.0000 - accuracy: 0.6601 - precision: 0.8018 - recall: 0.7653 - auc: 0.4995WARNING:tensorflow:Early stopping conditioned on metric `val_auc` which is not available. Available metrics are: loss,tp,fp,tn,fn,accuracy,precision,recall,auc\n",
      "938786/938786 [==============================] - 5s 6us/sample - loss: 0.6930 - tp: 573054.0000 - fp: 141699.0000 - tn: 44335.0000 - fn: 179698.0000 - accuracy: 0.6576 - precision: 0.8018 - recall: 0.7613 - auc: 0.4995\n",
      "Epoch 44/100\n",
      "935936/938786 [============================>.] - ETA: 0s - loss: 0.6931 - tp: 440187.0000 - fp: 108679.0000 - tn: 76815.0000 - fn: 310255.0000 - accuracy: 0.5524 - precision: 0.8020 - recall: 0.5866 - auc: 0.5000WARNING:tensorflow:Early stopping conditioned on metric `val_auc` which is not available. Available metrics are: loss,tp,fp,tn,fn,accuracy,precision,recall,auc\n",
      "938786/938786 [==============================] - 5s 6us/sample - loss: 0.6930 - tp: 442497.0000 - fp: 109219.0000 - tn: 76815.0000 - fn: 310255.0000 - accuracy: 0.5532 - precision: 0.8020 - recall: 0.5878 - auc: 0.5000\n",
      "Epoch 45/100\n",
      "937984/938786 [============================>.] - ETA: 0s - loss: 0.6930 - tp: 415324.0000 - fp: 102820.0000 - tn: 83044.0000 - fn: 336796.0000 - accuracy: 0.5313 - precision: 0.8016 - recall: 0.5522 - auc: 0.5000WARNING:tensorflow:Early stopping conditioned on metric `val_auc` which is not available. Available metrics are: loss,tp,fp,tn,fn,accuracy,precision,recall,auc\n",
      "938786/938786 [==============================] - 5s 5us/sample - loss: 0.6930 - tp: 415956.0000 - fp: 102990.0000 - tn: 83044.0000 - fn: 336796.0000 - accuracy: 0.5315 - precision: 0.8015 - recall: 0.5526 - auc: 0.5000\n",
      "Epoch 46/100\n",
      "931840/938786 [============================>.] - ETA: 0s - loss: 0.6929 - tp: 541763.0000 - fp: 134078.0000 - tn: 50544.0000 - fn: 205455.0000 - accuracy: 0.6356 - precision: 0.8016 - recall: 0.7250 - auc: 0.5000WARNING:tensorflow:Early stopping conditioned on metric `val_auc` which is not available. Available metrics are: loss,tp,fp,tn,fn,accuracy,precision,recall,auc\n",
      "938786/938786 [==============================] - 5s 5us/sample - loss: 0.6930 - tp: 541763.0000 - fp: 134079.0000 - tn: 51955.0000 - fn: 210989.0000 - accuracy: 0.6324 - precision: 0.8016 - recall: 0.7197 - auc: 0.5000\n",
      "Epoch 47/100\n",
      "931840/938786 [============================>.] - ETA: 0s - loss: 0.6931 - tp: 323525.0000 - fp: 79932.0000 - tn: 104750.0000 - fn: 423633.0000 - accuracy: 0.4596 - precision: 0.8019 - recall: 0.4330 - auc: 0.4997WARNING:tensorflow:Early stopping conditioned on metric `val_auc` which is not available. Available metrics are: loss,tp,fp,tn,fn,accuracy,precision,recall,auc\n",
      "938786/938786 [==============================] - 5s 6us/sample - loss: 0.6930 - tp: 323525.0000 - fp: 79932.0000 - tn: 106102.0000 - fn: 429227.0000 - accuracy: 0.4576 - precision: 0.8019 - recall: 0.4298 - auc: 0.4997\n",
      "Epoch 48/100\n",
      "935936/938786 [============================>.] - ETA: 0s - loss: 0.6931 - tp: 428594.0000 - fp: 105934.0000 - tn: 79558.0000 - fn: 321850.0000 - accuracy: 0.5429 - precision: 0.8018 - recall: 0.5711 - auc: 0.5000WARNING:tensorflow:Early stopping conditioned on metric `val_auc` which is not available. Available metrics are: loss,tp,fp,tn,fn,accuracy,precision,recall,auc\n",
      "938786/938786 [==============================] - 5s 5us/sample - loss: 0.6930 - tp: 430902.0000 - fp: 106476.0000 - tn: 79558.0000 - fn: 321850.0000 - accuracy: 0.5437 - precision: 0.8019 - recall: 0.5724 - auc: 0.5000\n",
      "Epoch 49/100\n",
      "931840/938786 [============================>.] - ETA: 0s - loss: 0.6931 - tp: 339899.0000 - fp: 84038.0000 - tn: 100672.0000 - fn: 407231.0000 - accuracy: 0.4728 - precision: 0.8018 - recall: 0.4549 - auc: 0.4995WARNING:tensorflow:Early stopping conditioned on metric `val_auc` which is not available. Available metrics are: loss,tp,fp,tn,fn,accuracy,precision,recall,auc\n",
      "938786/938786 [==============================] - 5s 5us/sample - loss: 0.6930 - tp: 345521.0000 - fp: 85362.0000 - tn: 100672.0000 - fn: 407231.0000 - accuracy: 0.4753 - precision: 0.8019 - recall: 0.4590 - auc: 0.4995\n",
      "Epoch 50/100\n",
      "935936/938786 [============================>.] - ETA: 0s - loss: 0.6930 - tp: 503988.0000 - fp: 124748.0000 - tn: 60710.0000 - fn: 246490.0000 - accuracy: 0.6034 - precision: 0.8016 - recall: 0.6716 - auc: 0.5000WARNING:tensorflow:Early stopping conditioned on metric `val_auc` which is not available. Available metrics are: loss,tp,fp,tn,fn,accuracy,precision,recall,auc\n",
      "938786/938786 [==============================] - 5s 5us/sample - loss: 0.6930 - tp: 503988.0000 - fp: 124748.0000 - tn: 61286.0000 - fn: 248764.0000 - accuracy: 0.6021 - precision: 0.8016 - recall: 0.6695 - auc: 0.5000\n",
      "Epoch 51/100\n",
      "935936/938786 [============================>.] - ETA: 0s - loss: 0.6930 - tp: 495874.0000 - fp: 122622.0000 - tn: 62832.0000 - fn: 254608.0000 - accuracy: 0.5969 - precision: 0.8017 - recall: 0.6607 - auc: 0.4998WARNING:tensorflow:Early stopping conditioned on metric `val_auc` which is not available. Available metrics are: loss,tp,fp,tn,fn,accuracy,precision,recall,auc\n",
      "938786/938786 [==============================] - 5s 6us/sample - loss: 0.6930 - tp: 495874.0000 - fp: 122622.0000 - tn: 63412.0000 - fn: 256878.0000 - accuracy: 0.5958 - precision: 0.8017 - recall: 0.6587 - auc: 0.4998\n",
      "Epoch 52/100\n",
      "935936/938786 [============================>.] - ETA: 0s - loss: 0.6930 - tp: 295587.0000 - fp: 73053.0000 - tn: 112408.0000 - fn: 454888.0000 - accuracy: 0.4359 - precision: 0.8018 - recall: 0.3939 - auc: 0.5000WARNING:tensorflow:Early stopping conditioned on metric `val_auc` which is not available. Available metrics are: loss,tp,fp,tn,fn,accuracy,precision,recall,auc\n",
      "938786/938786 [==============================] - 5s 6us/sample - loss: 0.6930 - tp: 297864.0000 - fp: 73626.0000 - tn: 112408.0000 - fn: 454888.0000 - accuracy: 0.4370 - precision: 0.8018 - recall: 0.3957 - auc: 0.5000\n",
      "Epoch 53/100\n",
      "937984/938786 [============================>.] - ETA: 0s - loss: 0.6930 - tp: 369480.0000 - fp: 91320.0000 - tn: 94563.0000 - fn: 382621.0000 - accuracy: 0.4947 - precision: 0.8018 - recall: 0.4913 - auc: 0.5000WARNING:tensorflow:Early stopping conditioned on metric `val_auc` which is not available. Available metrics are: loss,tp,fp,tn,fn,accuracy,precision,recall,auc\n",
      "938786/938786 [==============================] - 5s 5us/sample - loss: 0.6930 - tp: 370131.0000 - fp: 91471.0000 - tn: 94563.0000 - fn: 382621.0000 - accuracy: 0.4950 - precision: 0.8018 - recall: 0.4917 - auc: 0.5000\n",
      "Epoch 54/100\n",
      "931840/938786 [============================>.] - ETA: 0s - loss: 0.6930 - tp: 400237.0000 - fp: 99476.0000 - tn: 85175.0000 - fn: 346952.0000 - accuracy: 0.5209 - precision: 0.8009 - recall: 0.5357 - auc: 0.5001WARNING:tensorflow:Early stopping conditioned on metric `val_auc` which is not available. Available metrics are: loss,tp,fp,tn,fn,accuracy,precision,recall,auc\n"
     ]
    },
    {
     "name": "stdout",
     "output_type": "stream",
     "text": [
      "938786/938786 [==============================] - 5s 5us/sample - loss: 0.6930 - tp: 405800.0000 - fp: 100859.0000 - tn: 85175.0000 - fn: 346952.0000 - accuracy: 0.5230 - precision: 0.8009 - recall: 0.5391 - auc: 0.5001\n",
      "Epoch 55/100\n",
      "935936/938786 [============================>.] - ETA: 0s - loss: 0.6930 - tp: 549782.0000 - fp: 136299.0000 - tn: 49197.0000 - fn: 200658.0000 - accuracy: 0.6400 - precision: 0.8013 - recall: 0.7326 - auc: 0.4999WARNING:tensorflow:Early stopping conditioned on metric `val_auc` which is not available. Available metrics are: loss,tp,fp,tn,fn,accuracy,precision,recall,auc\n",
      "938786/938786 [==============================] - 5s 6us/sample - loss: 0.6930 - tp: 549782.0000 - fp: 136299.0000 - tn: 49735.0000 - fn: 202970.0000 - accuracy: 0.6386 - precision: 0.8013 - recall: 0.7304 - auc: 0.4999\n",
      "Epoch 56/100\n",
      "933888/938786 [============================>.] - ETA: 0s - loss: 0.6931 - tp: 544952.0000 - fp: 134985.0000 - tn: 50103.0000 - fn: 203848.0000 - accuracy: 0.6372 - precision: 0.8015 - recall: 0.7278 - auc: 0.5000WARNING:tensorflow:Early stopping conditioned on metric `val_auc` which is not available. Available metrics are: loss,tp,fp,tn,fn,accuracy,precision,recall,auc\n",
      "938786/938786 [==============================] - 6s 6us/sample - loss: 0.6930 - tp: 544952.0000 - fp: 134985.0000 - tn: 51049.0000 - fn: 207800.0000 - accuracy: 0.6349 - precision: 0.8015 - recall: 0.7239 - auc: 0.5000\n",
      "Epoch 57/100\n",
      "931840/938786 [============================>.] - ETA: 0s - loss: 0.6930 - tp: 338595.0000 - fp: 83294.0000 - tn: 101326.0000 - fn: 408625.0000 - accuracy: 0.4721 - precision: 0.8026 - recall: 0.4531 - auc: 0.5000WARNING:tensorflow:Early stopping conditioned on metric `val_auc` which is not available. Available metrics are: loss,tp,fp,tn,fn,accuracy,precision,recall,auc\n",
      "938786/938786 [==============================] - 5s 6us/sample - loss: 0.6930 - tp: 338595.0000 - fp: 83294.0000 - tn: 102740.0000 - fn: 414157.0000 - accuracy: 0.4701 - precision: 0.8026 - recall: 0.4498 - auc: 0.5000\n",
      "Epoch 58/100\n",
      "935936/938786 [============================>.] - ETA: 0s - loss: 0.6930 - tp: 302253.0000 - fp: 74580.0000 - tn: 110887.0000 - fn: 448216.0000 - accuracy: 0.4414 - precision: 0.8021 - recall: 0.4028 - auc: 0.5000WARNING:tensorflow:Early stopping conditioned on metric `val_auc` which is not available. Available metrics are: loss,tp,fp,tn,fn,accuracy,precision,recall,auc\n",
      "938786/938786 [==============================] - 5s 6us/sample - loss: 0.6930 - tp: 304536.0000 - fp: 75147.0000 - tn: 110887.0000 - fn: 448216.0000 - accuracy: 0.4425 - precision: 0.8021 - recall: 0.4046 - auc: 0.5000\n",
      "Epoch 59/100\n",
      "929792/938786 [============================>.] - ETA: 0s - loss: 0.6929 - tp: 346567.0000 - fp: 85562.0000 - tn: 98664.0000 - fn: 398999.0000 - accuracy: 0.4789 - precision: 0.8020 - recall: 0.4648 - auc: 0.5000WARNING:tensorflow:Early stopping conditioned on metric `val_auc` which is not available. Available metrics are: loss,tp,fp,tn,fn,accuracy,precision,recall,auc\n",
      "938786/938786 [==============================] - 5s 6us/sample - loss: 0.6930 - tp: 353753.0000 - fp: 87370.0000 - tn: 98664.0000 - fn: 398999.0000 - accuracy: 0.4819 - precision: 0.8019 - recall: 0.4699 - auc: 0.5000\n",
      "Epoch 60/100\n",
      "931840/938786 [============================>.] - ETA: 0s - loss: 0.6929 - tp: 430427.0000 - fp: 106150.0000 - tn: 78479.0000 - fn: 316784.0000 - accuracy: 0.5461 - precision: 0.8022 - recall: 0.5760 - auc: 0.4998WARNING:tensorflow:Early stopping conditioned on metric `val_auc` which is not available. Available metrics are: loss,tp,fp,tn,fn,accuracy,precision,recall,auc\n",
      "938786/938786 [==============================] - 5s 6us/sample - loss: 0.6930 - tp: 430427.0000 - fp: 106150.0000 - tn: 79884.0000 - fn: 322325.0000 - accuracy: 0.5436 - precision: 0.8022 - recall: 0.5718 - auc: 0.4998\n",
      "Epoch 61/100\n",
      "937984/938786 [============================>.] - ETA: 0s - loss: 0.6930 - tp: 298826.0000 - fp: 73910.0000 - tn: 111963.0000 - fn: 453285.0000 - accuracy: 0.4379 - precision: 0.8017 - recall: 0.3973 - auc: 0.5000WARNING:tensorflow:Early stopping conditioned on metric `val_auc` which is not available. Available metrics are: loss,tp,fp,tn,fn,accuracy,precision,recall,auc\n",
      "938786/938786 [==============================] - 5s 6us/sample - loss: 0.6930 - tp: 299467.0000 - fp: 74071.0000 - tn: 111963.0000 - fn: 453285.0000 - accuracy: 0.4383 - precision: 0.8017 - recall: 0.3978 - auc: 0.5000\n",
      "Epoch 62/100\n",
      "937984/938786 [============================>.] - ETA: 0s - loss: 0.6930 - tp: 491042.0000 - fp: 121311.0000 - tn: 64566.0000 - fn: 261065.0000 - accuracy: 0.5923 - precision: 0.8019 - recall: 0.6529 - auc: 0.5000WARNING:tensorflow:Early stopping conditioned on metric `val_auc` which is not available. Available metrics are: loss,tp,fp,tn,fn,accuracy,precision,recall,auc\n",
      "938786/938786 [==============================] - 5s 6us/sample - loss: 0.6930 - tp: 491687.0000 - fp: 121468.0000 - tn: 64566.0000 - fn: 261065.0000 - accuracy: 0.5925 - precision: 0.8019 - recall: 0.6532 - auc: 0.5000\n",
      "Epoch 63/100\n",
      "937984/938786 [============================>.] - ETA: 0s - loss: 0.6930 - tp: 519078.0000 - fp: 128091.0000 - tn: 57782.0000 - fn: 233033.0000 - accuracy: 0.6150 - precision: 0.8021 - recall: 0.6902 - auc: 0.4996WARNING:tensorflow:Early stopping conditioned on metric `val_auc` which is not available. Available metrics are: loss,tp,fp,tn,fn,accuracy,precision,recall,auc\n",
      "938786/938786 [==============================] - 5s 6us/sample - loss: 0.6930 - tp: 519719.0000 - fp: 128252.0000 - tn: 57782.0000 - fn: 233033.0000 - accuracy: 0.6152 - precision: 0.8021 - recall: 0.6904 - auc: 0.4996\n",
      "Epoch 64/100\n",
      "931840/938786 [============================>.] - ETA: 0s - loss: 0.6930 - tp: 431725.0000 - fp: 106900.0000 - tn: 77790.0000 - fn: 315425.0000 - accuracy: 0.5468 - precision: 0.8015 - recall: 0.5778 - auc: 0.5000WARNING:tensorflow:Early stopping conditioned on metric `val_auc` which is not available. Available metrics are: loss,tp,fp,tn,fn,accuracy,precision,recall,auc\n",
      "938786/938786 [==============================] - 5s 6us/sample - loss: 0.6930 - tp: 437327.0000 - fp: 108244.0000 - tn: 77790.0000 - fn: 315425.0000 - accuracy: 0.5487 - precision: 0.8016 - recall: 0.5810 - auc: 0.5000\n",
      "Epoch 65/100\n",
      "935936/938786 [============================>.] - ETA: 0s - loss: 0.6930 - tp: 458194.0000 - fp: 113198.0000 - tn: 72288.0000 - fn: 292256.0000 - accuracy: 0.5668 - precision: 0.8019 - recall: 0.6106 - auc: 0.4995WARNING:tensorflow:Early stopping conditioned on metric `val_auc` which is not available. Available metrics are: loss,tp,fp,tn,fn,accuracy,precision,recall,auc\n",
      "938786/938786 [==============================] - 5s 6us/sample - loss: 0.6930 - tp: 458194.0000 - fp: 113198.0000 - tn: 72836.0000 - fn: 294558.0000 - accuracy: 0.5657 - precision: 0.8019 - recall: 0.6087 - auc: 0.4995\n",
      "Epoch 66/100\n",
      "929792/938786 [============================>.] - ETA: 0s - loss: 0.6929 - tp: 397198.0000 - fp: 98418.0000 - tn: 85780.0000 - fn: 348396.0000 - accuracy: 0.5194 - precision: 0.8014 - recall: 0.5327 - auc: 0.5000WARNING:tensorflow:Early stopping conditioned on metric `val_auc` which is not available. Available metrics are: loss,tp,fp,tn,fn,accuracy,precision,recall,auc\n",
      "938786/938786 [==============================] - 5s 6us/sample - loss: 0.6930 - tp: 397198.0000 - fp: 98418.0000 - tn: 87616.0000 - fn: 355554.0000 - accuracy: 0.5164 - precision: 0.8014 - recall: 0.5277 - auc: 0.5000\n",
      "Epoch 67/100\n",
      "933888/938786 [============================>.] - ETA: 0s - loss: 0.6930 - tp: 517363.0000 - fp: 127757.0000 - tn: 57308.0000 - fn: 231460.0000 - accuracy: 0.6154 - precision: 0.8020 - recall: 0.6909 - auc: 0.5000WARNING:tensorflow:Early stopping conditioned on metric `val_auc` which is not available. Available metrics are: loss,tp,fp,tn,fn,accuracy,precision,recall,auc\n",
      "938786/938786 [==============================] - 5s 6us/sample - loss: 0.6930 - tp: 517363.0000 - fp: 127757.0000 - tn: 58277.0000 - fn: 235389.0000 - accuracy: 0.6132 - precision: 0.8020 - recall: 0.6873 - auc: 0.5000\n",
      "Epoch 68/100\n",
      "935936/938786 [============================>.] - ETA: 0s - loss: 0.6930 - tp: 339979.0000 - fp: 83957.0000 - tn: 101521.0000 - fn: 410479.0000 - accuracy: 0.4717 - precision: 0.8020 - recall: 0.4530 - auc: 0.4999WARNING:tensorflow:Early stopping conditioned on metric `val_auc` which is not available. Available metrics are: loss,tp,fp,tn,fn,accuracy,precision,recall,auc\n",
      "938786/938786 [==============================] - 5s 6us/sample - loss: 0.6930 - tp: 342273.0000 - fp: 84513.0000 - tn: 101521.0000 - fn: 410479.0000 - accuracy: 0.4727 - precision: 0.8020 - recall: 0.4547 - auc: 0.4999\n",
      "Epoch 69/100\n",
      "937984/938786 [============================>.] - ETA: 0s - loss: 0.6930 - tp: 484656.0000 - fp: 119504.0000 - tn: 66372.0000 - fn: 267452.0000 - accuracy: 0.5875 - precision: 0.8022 - recall: 0.6444 - auc: 0.4997WARNING:tensorflow:Early stopping conditioned on metric `val_auc` which is not available. Available metrics are: loss,tp,fp,tn,fn,accuracy,precision,recall,auc\n",
      "938786/938786 [==============================] - 5s 5us/sample - loss: 0.6930 - tp: 484656.0000 - fp: 119504.0000 - tn: 66530.0000 - fn: 268096.0000 - accuracy: 0.5871 - precision: 0.8022 - recall: 0.6438 - auc: 0.4997\n",
      "Epoch 70/100\n",
      "933888/938786 [============================>.] - ETA: 0s - loss: 0.6930 - tp: 298930.0000 - fp: 73807.0000 - tn: 111205.0000 - fn: 449946.0000 - accuracy: 0.4392 - precision: 0.8020 - recall: 0.3992 - auc: 0.4997WARNING:tensorflow:Early stopping conditioned on metric `val_auc` which is not available. Available metrics are: loss,tp,fp,tn,fn,accuracy,precision,recall,auc\n",
      "938786/938786 [==============================] - 5s 6us/sample - loss: 0.6930 - tp: 302806.0000 - fp: 74829.0000 - tn: 111205.0000 - fn: 449946.0000 - accuracy: 0.4410 - precision: 0.8018 - recall: 0.4023 - auc: 0.4997\n",
      "Epoch 71/100\n",
      "933888/938786 [============================>.] - ETA: 0s - loss: 0.6930 - tp: 441528.0000 - fp: 109384.0000 - tn: 75665.0000 - fn: 307311.0000 - accuracy: 0.5538 - precision: 0.8014 - recall: 0.5896 - auc: 0.5000WARNING:tensorflow:Early stopping conditioned on metric `val_auc` which is not available. Available metrics are: loss,tp,fp,tn,fn,accuracy,precision,recall,auc\n",
      "938786/938786 [==============================] - 5s 5us/sample - loss: 0.6930 - tp: 445441.0000 - fp: 110369.0000 - tn: 75665.0000 - fn: 307311.0000 - accuracy: 0.5551 - precision: 0.8014 - recall: 0.5918 - auc: 0.5000\n",
      "Epoch 72/100\n",
      "931840/938786 [============================>.] - ETA: 0s - loss: 0.6930 - tp: 523841.0000 - fp: 129471.0000 - tn: 55173.0000 - fn: 223355.0000 - accuracy: 0.6214 - precision: 0.8018 - recall: 0.7011 - auc: 0.5000WARNING:tensorflow:Early stopping conditioned on metric `val_auc` which is not available. Available metrics are: loss,tp,fp,tn,fn,accuracy,precision,recall,auc\n",
      "938786/938786 [==============================] - 5s 6us/sample - loss: 0.6930 - tp: 523841.0000 - fp: 129472.0000 - tn: 56562.0000 - fn: 228911.0000 - accuracy: 0.6182 - precision: 0.8018 - recall: 0.6959 - auc: 0.5000\n",
      "Epoch 73/100\n",
      "929792/938786 [============================>.] - ETA: 0s - loss: 0.6929 - tp: 435293.0000 - fp: 107427.0000 - tn: 76757.0000 - fn: 310315.0000 - accuracy: 0.5507 - precision: 0.8021 - recall: 0.5838 - auc: 0.4998WARNING:tensorflow:Early stopping conditioned on metric `val_auc` which is not available. Available metrics are: loss,tp,fp,tn,fn,accuracy,precision,recall,auc\n",
      "938786/938786 [==============================] - 5s 5us/sample - loss: 0.6930 - tp: 442437.0000 - fp: 109277.0000 - tn: 76757.0000 - fn: 310315.0000 - accuracy: 0.5530 - precision: 0.8019 - recall: 0.5878 - auc: 0.4998\n",
      "Epoch 74/100\n",
      "933888/938786 [============================>.] - ETA: 0s - loss: 0.6930 - tp: 478230.0000 - fp: 117738.0000 - tn: 67321.0000 - fn: 270599.0000 - accuracy: 0.5842 - precision: 0.8024 - recall: 0.6386 - auc: 0.5000WARNING:tensorflow:Early stopping conditioned on metric `val_auc` which is not available. Available metrics are: loss,tp,fp,tn,fn,accuracy,precision,recall,auc\n",
      "938786/938786 [==============================] - 5s 5us/sample - loss: 0.6930 - tp: 478230.0000 - fp: 117738.0000 - tn: 68296.0000 - fn: 274522.0000 - accuracy: 0.5822 - precision: 0.8024 - recall: 0.6353 - auc: 0.5000\n",
      "Epoch 75/100\n",
      "937984/938786 [============================>.] - ETA: 0s - loss: 0.6930 - tp: 312015.0000 - fp: 77105.0000 - tn: 108772.0000 - fn: 440092.0000 - accuracy: 0.4486 - precision: 0.8018 - recall: 0.4149 - auc: 0.4998WARNING:tensorflow:Early stopping conditioned on metric `val_auc` which is not available. Available metrics are: loss,tp,fp,tn,fn,accuracy,precision,recall,auc\n",
      "938786/938786 [==============================] - 5s 6us/sample - loss: 0.6930 - tp: 312660.0000 - fp: 77262.0000 - tn: 108772.0000 - fn: 440092.0000 - accuracy: 0.4489 - precision: 0.8019 - recall: 0.4154 - auc: 0.4998\n",
      "Epoch 76/100\n",
      "931840/938786 [============================>.] - ETA: 0s - loss: 0.6930 - tp: 318698.0000 - fp: 78615.0000 - tn: 106049.0000 - fn: 428478.0000 - accuracy: 0.4558 - precision: 0.8021 - recall: 0.4265 - auc: 0.4999WARNING:tensorflow:Early stopping conditioned on metric `val_auc` which is not available. Available metrics are: loss,tp,fp,tn,fn,accuracy,precision,recall,auc\n",
      "938786/938786 [==============================] - 5s 6us/sample - loss: 0.6930 - tp: 324274.0000 - fp: 79985.0000 - tn: 106049.0000 - fn: 428478.0000 - accuracy: 0.4584 - precision: 0.8021 - recall: 0.4308 - auc: 0.4999\n",
      "Epoch 77/100\n",
      "933888/938786 [============================>.] - ETA: 0s - loss: 0.6931 - tp: 473025.0000 - fp: 116799.0000 - tn: 68298.0000 - fn: 275766.0000 - accuracy: 0.5796 - precision: 0.8020 - recall: 0.6317 - auc: 0.4994WARNING:tensorflow:Early stopping conditioned on metric `val_auc` which is not available. Available metrics are: loss,tp,fp,tn,fn,accuracy,precision,recall,auc\n",
      "938786/938786 [==============================] - 5s 6us/sample - loss: 0.6930 - tp: 473025.0000 - fp: 116799.0000 - tn: 69235.0000 - fn: 279727.0000 - accuracy: 0.5776 - precision: 0.8020 - recall: 0.6284 - auc: 0.4994\n",
      "Epoch 78/100\n",
      "935936/938786 [============================>.] - ETA: 0s - loss: 0.6930 - tp: 433101.0000 - fp: 107571.0000 - tn: 77891.0000 - fn: 317373.0000 - accuracy: 0.5460 - precision: 0.8010 - recall: 0.5771 - auc: 0.5000WARNING:tensorflow:Early stopping conditioned on metric `val_auc` which is not available. Available metrics are: loss,tp,fp,tn,fn,accuracy,precision,recall,auc\n",
      "938786/938786 [==============================] - 5s 6us/sample - loss: 0.6930 - tp: 435379.0000 - fp: 108143.0000 - tn: 77891.0000 - fn: 317373.0000 - accuracy: 0.5467 - precision: 0.8010 - recall: 0.5784 - auc: 0.5000\n",
      "Epoch 79/100\n",
      "933888/938786 [============================>.] - ETA: 0s - loss: 0.6930 - tp: 410585.0000 - fp: 101416.0000 - tn: 83651.0000 - fn: 338236.0000 - accuracy: 0.5292 - precision: 0.8019 - recall: 0.5483 - auc: 0.5000WARNING:tensorflow:Early stopping conditioned on metric `val_auc` which is not available. Available metrics are: loss,tp,fp,tn,fn,accuracy,precision,recall,auc\n",
      "938786/938786 [==============================] - 5s 6us/sample - loss: 0.6930 - tp: 410585.0000 - fp: 101416.0000 - tn: 84618.0000 - fn: 342167.0000 - accuracy: 0.5275 - precision: 0.8019 - recall: 0.5454 - auc: 0.5000\n",
      "Epoch 80/100\n",
      "931840/938786 [============================>.] - ETA: 0s - loss: 0.6929 - tp: 384302.0000 - fp: 94930.0000 - tn: 89673.0000 - fn: 362935.0000 - accuracy: 0.5086 - precision: 0.8019 - recall: 0.5143 - auc: 0.4999WARNING:tensorflow:Early stopping conditioned on metric `val_auc` which is not available. Available metrics are: loss,tp,fp,tn,fn,accuracy,precision,recall,auc\n",
      "938786/938786 [==============================] - 5s 6us/sample - loss: 0.6930 - tp: 389817.0000 - fp: 96361.0000 - tn: 89673.0000 - fn: 362935.0000 - accuracy: 0.5108 - precision: 0.8018 - recall: 0.5179 - auc: 0.4999\n",
      "Epoch 81/100\n",
      "935936/938786 [============================>.] - ETA: 0s - loss: 0.6930 - tp: 215287.0000 - fp: 53002.0000 - tn: 132448.0000 - fn: 535199.0000 - accuracy: 0.3715 - precision: 0.8024 - recall: 0.2869 - auc: 0.5002WARNING:tensorflow:Early stopping conditioned on metric `val_auc` which is not available. Available metrics are: loss,tp,fp,tn,fn,accuracy,precision,recall,auc\n"
     ]
    },
    {
     "name": "stdout",
     "output_type": "stream",
     "text": [
      "938786/938786 [==============================] - 5s 6us/sample - loss: 0.6930 - tp: 217553.0000 - fp: 53586.0000 - tn: 132448.0000 - fn: 535199.0000 - accuracy: 0.3728 - precision: 0.8024 - recall: 0.2890 - auc: 0.5002\n",
      "Epoch 82/100\n",
      "933888/938786 [============================>.] - ETA: 0s - loss: 0.6930 - tp: 463137.0000 - fp: 114399.0000 - tn: 70694.0000 - fn: 285658.0000 - accuracy: 0.5716 - precision: 0.8019 - recall: 0.6185 - auc: 0.4998WARNING:tensorflow:Early stopping conditioned on metric `val_auc` which is not available. Available metrics are: loss,tp,fp,tn,fn,accuracy,precision,recall,auc\n",
      "938786/938786 [==============================] - 5s 6us/sample - loss: 0.6930 - tp: 463137.0000 - fp: 114399.0000 - tn: 71635.0000 - fn: 289615.0000 - accuracy: 0.5696 - precision: 0.8019 - recall: 0.6153 - auc: 0.4998\n",
      "Epoch 83/100\n",
      "929792/938786 [============================>.] - ETA: 0s - loss: 0.6931 - tp: 354512.0000 - fp: 87856.0000 - tn: 96461.0000 - fn: 390963.0000 - accuracy: 0.4850 - precision: 0.8014 - recall: 0.4756 - auc: 0.5000WARNING:tensorflow:Early stopping conditioned on metric `val_auc` which is not available. Available metrics are: loss,tp,fp,tn,fn,accuracy,precision,recall,auc\n",
      "938786/938786 [==============================] - 5s 5us/sample - loss: 0.6930 - tp: 361789.0000 - fp: 89573.0000 - tn: 96461.0000 - fn: 390963.0000 - accuracy: 0.4881 - precision: 0.8015 - recall: 0.4806 - auc: 0.5000\n",
      "Epoch 84/100\n",
      "937984/938786 [============================>.] - ETA: 0s - loss: 0.6930 - tp: 586037.0000 - fp: 145099.0000 - tn: 40753.0000 - fn: 166095.0000 - accuracy: 0.6682 - precision: 0.8015 - recall: 0.7792 - auc: 0.5000WARNING:tensorflow:Early stopping conditioned on metric `val_auc` which is not available. Available metrics are: loss,tp,fp,tn,fn,accuracy,precision,recall,auc\n",
      "938786/938786 [==============================] - 5s 6us/sample - loss: 0.6930 - tp: 586037.0000 - fp: 145099.0000 - tn: 40935.0000 - fn: 166715.0000 - accuracy: 0.6679 - precision: 0.8015 - recall: 0.7785 - auc: 0.5000\n",
      "Epoch 85/100\n",
      "929792/938786 [============================>.] - ETA: 0s - loss: 0.6930 - tp: 305393.0000 - fp: 75536.0000 - tn: 108716.0000 - fn: 440147.0000 - accuracy: 0.4454 - precision: 0.8017 - recall: 0.4096 - auc: 0.4998WARNING:tensorflow:Early stopping conditioned on metric `val_auc` which is not available. Available metrics are: loss,tp,fp,tn,fn,accuracy,precision,recall,auc\n",
      "938786/938786 [==============================] - 5s 6us/sample - loss: 0.6930 - tp: 305393.0000 - fp: 75536.0000 - tn: 110498.0000 - fn: 447359.0000 - accuracy: 0.4430 - precision: 0.8017 - recall: 0.4057 - auc: 0.4998\n",
      "Epoch 86/100\n",
      "929792/938786 [============================>.] - ETA: 0s - loss: 0.6930 - tp: 467960.0000 - fp: 115721.0000 - tn: 68526.0000 - fn: 277585.0000 - accuracy: 0.5770 - precision: 0.8017 - recall: 0.6277 - auc: 0.5000WARNING:tensorflow:Early stopping conditioned on metric `val_auc` which is not available. Available metrics are: loss,tp,fp,tn,fn,accuracy,precision,recall,auc\n",
      "938786/938786 [==============================] - 5s 6us/sample - loss: 0.6930 - tp: 467960.0000 - fp: 115721.0000 - tn: 70313.0000 - fn: 284792.0000 - accuracy: 0.5734 - precision: 0.8017 - recall: 0.6217 - auc: 0.5000\n",
      "Epoch 87/100\n",
      "929792/938786 [============================>.] - ETA: 0s - loss: 0.6930 - tp: 249764.0000 - fp: 61533.0000 - tn: 122723.0000 - fn: 495772.0000 - accuracy: 0.4006 - precision: 0.8023 - recall: 0.3350 - auc: 0.4998WARNING:tensorflow:Early stopping conditioned on metric `val_auc` which is not available. Available metrics are: loss,tp,fp,tn,fn,accuracy,precision,recall,auc\n",
      "938786/938786 [==============================] - 5s 6us/sample - loss: 0.6930 - tp: 256980.0000 - fp: 63311.0000 - tn: 122723.0000 - fn: 495772.0000 - accuracy: 0.4045 - precision: 0.8023 - recall: 0.3414 - auc: 0.4998\n",
      "Epoch 88/100\n",
      "931840/938786 [============================>.] - ETA: 0s - loss: 0.6930 - tp: 421859.0000 - fp: 104477.0000 - tn: 80175.0000 - fn: 325329.0000 - accuracy: 0.5388 - precision: 0.8015 - recall: 0.5646 - auc: 0.5000WARNING:tensorflow:Early stopping conditioned on metric `val_auc` which is not available. Available metrics are: loss,tp,fp,tn,fn,accuracy,precision,recall,auc\n",
      "938786/938786 [==============================] - 5s 6us/sample - loss: 0.6930 - tp: 427423.0000 - fp: 105859.0000 - tn: 80175.0000 - fn: 325329.0000 - accuracy: 0.5407 - precision: 0.8015 - recall: 0.5678 - auc: 0.5000\n",
      "Epoch 89/100\n",
      "935936/938786 [============================>.] - ETA: 0s - loss: 0.6930 - tp: 390734.0000 - fp: 96691.0000 - tn: 88777.0000 - fn: 359734.0000 - accuracy: 0.5123 - precision: 0.8016 - recall: 0.5207 - auc: 0.4998WARNING:tensorflow:Early stopping conditioned on metric `val_auc` which is not available. Available metrics are: loss,tp,fp,tn,fn,accuracy,precision,recall,auc\n",
      "938786/938786 [==============================] - 5s 6us/sample - loss: 0.6930 - tp: 393018.0000 - fp: 97257.0000 - tn: 88777.0000 - fn: 359734.0000 - accuracy: 0.5132 - precision: 0.8016 - recall: 0.5221 - auc: 0.4998\n",
      "Epoch 90/100\n",
      "929792/938786 [============================>.] - ETA: 0s - loss: 0.6930 - tp: 435231.0000 - fp: 107489.0000 - tn: 76807.0000 - fn: 310265.0000 - accuracy: 0.5507 - precision: 0.8019 - recall: 0.5838 - auc: 0.4996WARNING:tensorflow:Early stopping conditioned on metric `val_auc` which is not available. Available metrics are: loss,tp,fp,tn,fn,accuracy,precision,recall,auc\n",
      "938786/938786 [==============================] - 5s 6us/sample - loss: 0.6930 - tp: 442487.0000 - fp: 109227.0000 - tn: 76807.0000 - fn: 310265.0000 - accuracy: 0.5532 - precision: 0.8020 - recall: 0.5878 - auc: 0.4996\n",
      "Epoch 91/100\n",
      "929792/938786 [============================>.] - ETA: 0s - loss: 0.6931 - tp: 490923.0000 - fp: 121430.0000 - tn: 62859.0000 - fn: 254580.0000 - accuracy: 0.5956 - precision: 0.8017 - recall: 0.6585 - auc: 0.5000WARNING:tensorflow:Early stopping conditioned on metric `val_auc` which is not available. Available metrics are: loss,tp,fp,tn,fn,accuracy,precision,recall,auc\n",
      "938786/938786 [==============================] - 5s 6us/sample - loss: 0.6930 - tp: 490923.0000 - fp: 121430.0000 - tn: 64604.0000 - fn: 261829.0000 - accuracy: 0.5918 - precision: 0.8017 - recall: 0.6522 - auc: 0.5000\n",
      "Epoch 92/100\n",
      "937984/938786 [============================>.] - ETA: 0s - loss: 0.6930 - tp: 430262.0000 - fp: 106315.0000 - tn: 79560.0000 - fn: 321847.0000 - accuracy: 0.5435 - precision: 0.8019 - recall: 0.5721 - auc: 0.5000WARNING:tensorflow:Early stopping conditioned on metric `val_auc` which is not available. Available metrics are: loss,tp,fp,tn,fn,accuracy,precision,recall,auc\n",
      "938786/938786 [==============================] - 5s 6us/sample - loss: 0.6930 - tp: 430905.0000 - fp: 106474.0000 - tn: 79560.0000 - fn: 321847.0000 - accuracy: 0.5438 - precision: 0.8019 - recall: 0.5724 - auc: 0.5000\n",
      "Epoch 93/100\n",
      "937984/938786 [============================>.] - ETA: 0s - loss: 0.6930 - tp: 425070.0000 - fp: 105362.0000 - tn: 80520.0000 - fn: 327032.0000 - accuracy: 0.5390 - precision: 0.8014 - recall: 0.5652 - auc: 0.5000WARNING:tensorflow:Early stopping conditioned on metric `val_auc` which is not available. Available metrics are: loss,tp,fp,tn,fn,accuracy,precision,recall,auc\n",
      "938786/938786 [==============================] - 5s 6us/sample - loss: 0.6930 - tp: 425720.0000 - fp: 105514.0000 - tn: 80520.0000 - fn: 327032.0000 - accuracy: 0.5392 - precision: 0.8014 - recall: 0.5656 - auc: 0.5000\n",
      "Epoch 94/100\n",
      "937984/938786 [============================>.] - ETA: 0s - loss: 0.6930 - tp: 418736.0000 - fp: 103504.0000 - tn: 82378.0000 - fn: 333366.0000 - accuracy: 0.5342 - precision: 0.8018 - recall: 0.5568 - auc: 0.5000WARNING:tensorflow:Early stopping conditioned on metric `val_auc` which is not available. Available metrics are: loss,tp,fp,tn,fn,accuracy,precision,recall,auc\n",
      "938786/938786 [==============================] - 5s 6us/sample - loss: 0.6930 - tp: 419386.0000 - fp: 103656.0000 - tn: 82378.0000 - fn: 333366.0000 - accuracy: 0.5345 - precision: 0.8018 - recall: 0.5571 - auc: 0.5000\n",
      "Epoch 95/100\n",
      "933888/938786 [============================>.] - ETA: 0s - loss: 0.6931 - tp: 515502.0000 - fp: 127571.0000 - tn: 57547.0000 - fn: 233268.0000 - accuracy: 0.6136 - precision: 0.8016 - recall: 0.6885 - auc: 0.5000WARNING:tensorflow:Early stopping conditioned on metric `val_auc` which is not available. Available metrics are: loss,tp,fp,tn,fn,accuracy,precision,recall,auc\n",
      "938786/938786 [==============================] - 5s 6us/sample - loss: 0.6930 - tp: 515502.0000 - fp: 127571.0000 - tn: 58463.0000 - fn: 237250.0000 - accuracy: 0.6114 - precision: 0.8016 - recall: 0.6848 - auc: 0.5000\n",
      "Epoch 96/100\n",
      "931840/938786 [============================>.] - ETA: 0s - loss: 0.6930 - tp: 425218.0000 - fp: 105215.0000 - tn: 79432.0000 - fn: 321975.0000 - accuracy: 0.5416 - precision: 0.8016 - recall: 0.5691 - auc: 0.4998WARNING:tensorflow:Early stopping conditioned on metric `val_auc` which is not available. Available metrics are: loss,tp,fp,tn,fn,accuracy,precision,recall,auc\n",
      "938786/938786 [==============================] - 5s 6us/sample - loss: 0.6930 - tp: 425218.0000 - fp: 105215.0000 - tn: 80819.0000 - fn: 327534.0000 - accuracy: 0.5390 - precision: 0.8016 - recall: 0.5649 - auc: 0.4998\n",
      "Epoch 97/100\n",
      "931840/938786 [============================>.] - ETA: 0s - loss: 0.6931 - tp: 417171.0000 - fp: 103021.0000 - tn: 81693.0000 - fn: 329955.0000 - accuracy: 0.5354 - precision: 0.8020 - recall: 0.5584 - auc: 0.4998WARNING:tensorflow:Early stopping conditioned on metric `val_auc` which is not available. Available metrics are: loss,tp,fp,tn,fn,accuracy,precision,recall,auc\n",
      "938786/938786 [==============================] - 5s 6us/sample - loss: 0.6930 - tp: 422797.0000 - fp: 104341.0000 - tn: 81693.0000 - fn: 329955.0000 - accuracy: 0.5374 - precision: 0.8021 - recall: 0.5617 - auc: 0.4998\n",
      "Epoch 98/100\n",
      "935936/938786 [============================>.] - ETA: 0s - loss: 0.6930 - tp: 381026.0000 - fp: 94111.0000 - tn: 91342.0000 - fn: 369457.0000 - accuracy: 0.5047 - precision: 0.8019 - recall: 0.5077 - auc: 0.5000WARNING:tensorflow:Early stopping conditioned on metric `val_auc` which is not available. Available metrics are: loss,tp,fp,tn,fn,accuracy,precision,recall,auc\n",
      "938786/938786 [==============================] - 5s 5us/sample - loss: 0.6930 - tp: 383295.0000 - fp: 94692.0000 - tn: 91342.0000 - fn: 369457.0000 - accuracy: 0.5056 - precision: 0.8019 - recall: 0.5092 - auc: 0.5000\n",
      "Epoch 99/100\n",
      "933888/938786 [============================>.] - ETA: 0s - loss: 0.6931 - tp: 466175.0000 - fp: 115459.0000 - tn: 69666.0000 - fn: 282588.0000 - accuracy: 0.5738 - precision: 0.8015 - recall: 0.6226 - auc: 0.5000WARNING:tensorflow:Early stopping conditioned on metric `val_auc` which is not available. Available metrics are: loss,tp,fp,tn,fn,accuracy,precision,recall,auc\n",
      "938786/938786 [==============================] - 5s 5us/sample - loss: 0.6930 - tp: 466175.0000 - fp: 115459.0000 - tn: 70575.0000 - fn: 286577.0000 - accuracy: 0.5717 - precision: 0.8015 - recall: 0.6193 - auc: 0.5000\n",
      "Epoch 100/100\n",
      "933888/938786 [============================>.] - ETA: 0s - loss: 0.6930 - tp: 339273.0000 - fp: 84664.0000 - tn: 100404.0000 - fn: 409547.0000 - accuracy: 0.4708 - precision: 0.8003 - recall: 0.4531 - auc: 0.5000WARNING:tensorflow:Early stopping conditioned on metric `val_auc` which is not available. Available metrics are: loss,tp,fp,tn,fn,accuracy,precision,recall,auc\n",
      "938786/938786 [==============================] - 5s 6us/sample - loss: 0.6930 - tp: 343205.0000 - fp: 85630.0000 - tn: 100404.0000 - fn: 409547.0000 - accuracy: 0.4725 - precision: 0.8003 - recall: 0.4559 - auc: 0.5000\n"
     ]
    }
   ],
   "source": [
    "weighted_model = make_model()\n",
    "weighted_model.load_weights(initial_weights)\n",
    "\n",
    "weighted_history = weighted_model.fit(\n",
    "    X3_train,\n",
    "    y3_train,\n",
    "    batch_size=BATCH_SIZE,\n",
    "    epochs=EPOCHS,\n",
    "    callbacks = [early_stopping],\n",
    "    # The class weights go here\n",
    "    class_weight=class_weight) "
   ]
  },
  {
   "cell_type": "code",
   "execution_count": 165,
   "metadata": {
    "scrolled": true
   },
   "outputs": [
    {
     "name": "stdout",
     "output_type": "stream",
     "text": [
      "WARNING:tensorflow:Falling back from v2 loop because of error: Failed to find data adapter that can handle input: <class 'pandas.core.frame.DataFrame'>, <class 'NoneType'>\n",
      "WARNING:tensorflow:Falling back from v2 loop because of error: Failed to find data adapter that can handle input: <class 'pandas.core.frame.DataFrame'>, <class 'NoneType'>\n"
     ]
    }
   ],
   "source": [
    "train_predictions_weighted = weighted_model.predict(X_train, batch_size=BATCH_SIZE)\n",
    "test_predictions_weighted = weighted_model.predict(X_test, batch_size=BATCH_SIZE)"
   ]
  },
  {
   "cell_type": "code",
   "execution_count": 168,
   "metadata": {},
   "outputs": [],
   "source": [
    "def plot_cm(labels, predictions, p=0.5):\n",
    "  cm = confusion_matrix(labels, predictions > p)\n",
    "  plt.figure(figsize=(5,5))\n",
    "  sns.heatmap(cm, annot=True, fmt=\"d\")\n",
    "  plt.title('Confusion matrix @{:.2f}'.format(p))\n",
    "  plt.ylabel('Actual label')\n",
    "  plt.xlabel('Predicted label')\n",
    "\n",
    "  print('Legitimate Transactions Detected (True Negatives): ', cm[0][0])\n",
    "  print('Legitimate Transactions Incorrectly Detected (False Positives): ', cm[0][1])\n",
    "  print('Fraudulent Transactions Missed (False Negatives): ', cm[1][0])\n",
    "  print('Fraudulent Transactions Detected (True Positives): ', cm[1][1])\n",
    "  print('Total Fraudulent Transactions: ', np.sum(cm[1]))"
   ]
  },
  {
   "cell_type": "code",
   "execution_count": 169,
   "metadata": {},
   "outputs": [
    {
     "name": "stdout",
     "output_type": "stream",
     "text": [
      "WARNING:tensorflow:Falling back from v2 loop because of error: Failed to find data adapter that can handle input: <class 'pandas.core.frame.DataFrame'>, <class 'NoneType'>\n",
      "loss :  0.6932758558953707\n",
      "tp :  322440.0\n",
      "fp :  79897.0\n",
      "tn :  0.0\n",
      "fn :  0.0\n",
      "accuracy :  0.8014177\n",
      "precision :  0.8014177\n",
      "recall :  1.0\n",
      "auc :  0.5000366\n",
      "\n",
      "Legitimate Transactions Detected (True Negatives):  0\n",
      "Legitimate Transactions Incorrectly Detected (False Positives):  79897\n",
      "Fraudulent Transactions Missed (False Negatives):  0\n",
      "Fraudulent Transactions Detected (True Positives):  322440\n",
      "Total Fraudulent Transactions:  322440\n"
     ]
    },
    {
     "data": {
      "image/png": "[encoded data removed]",
      "text/plain": [
       "<Figure size 360x360 with 2 Axes>"
      ]
     },
     "metadata": {
      "needs_background": "light"
     },
     "output_type": "display_data"
    }
   ],
   "source": [
    "weighted_results = weighted_model.evaluate(X_test, Y_test,\n",
    "                                           batch_size=BATCH_SIZE, verbose=0)\n",
    "for name, value in zip(weighted_model.metrics_names, weighted_results):\n",
    "  print(name, ': ', value)\n",
    "print()\n",
    "\n",
    "plot_cm(Y_test, test_predictions_weighted)"
   ]
  },
  {
   "cell_type": "code",
   "execution_count": 133,
   "metadata": {},
   "outputs": [],
   "source": [
    "# define the keras model\n",
    "# weighted_model = Sequential()\n",
    "# weighted_model.add(Dense(10, input_dim=122, activation='sigmoid'))\n",
    "# weighted_model.add(Dense(10, activation='sigmoid'))\n",
    "# weighted_model.add(Dense(5, activation='sigmoid'))\n",
    "# weighted_model.add(Dense(3, activation='sigmoid'))\n",
    "# weighted_model.add(Dense(1, activation='sigmoid'))"
   ]
  },
  {
   "cell_type": "code",
   "execution_count": 141,
   "metadata": {},
   "outputs": [],
   "source": [
    "\n",
    "# compile the keras model\n",
    "# weighted_model.compile(loss='binary_crossentropy', optimizer='adam', metrics=Metric)"
   ]
  },
  {
   "cell_type": "code",
   "execution_count": 140,
   "metadata": {},
   "outputs": [],
   "source": [
    "# Metric = ['accuracy',keras.metrics.Precision(name='precision'),\n",
    "#       keras.metrics.Recall(name='recall'),\n",
    "#       keras.metrics.AUC(name='auc')]"
   ]
  },
  {
   "cell_type": "code",
   "execution_count": 144,
   "metadata": {
    "scrolled": true
   },
   "outputs": [
    {
     "name": "stdout",
     "output_type": "stream",
     "text": [
      "Epoch 1/20\n",
      "938786/938786 [==============================] - 5s 5us/step - loss: 0.6930 - accuracy: 0.4687 - precision: 0.8018 - recall: 0.5511 - auc: 0.4999\n",
      "Epoch 2/20\n",
      "938786/938786 [==============================] - 5s 5us/step - loss: 0.6930 - accuracy: 0.5891 - precision: 0.8018 - recall: 0.5514 - auc: 0.4999\n",
      "Epoch 3/20\n",
      "938786/938786 [==============================] - 5s 5us/step - loss: 0.6930 - accuracy: 0.5219 - precision: 0.8018 - recall: 0.5504 - auc: 0.4999\n",
      "Epoch 4/20\n",
      "938786/938786 [==============================] - 5s 5us/step - loss: 0.6930 - accuracy: 0.5312 - precision: 0.8018 - recall: 0.5488 - auc: 0.4999\n",
      "Epoch 5/20\n",
      "938786/938786 [==============================] - 5s 5us/step - loss: 0.6930 - accuracy: 0.5419 - precision: 0.8018 - recall: 0.5522 - auc: 0.4999\n",
      "Epoch 6/20\n",
      "938786/938786 [==============================] - 5s 5us/step - loss: 0.6930 - accuracy: 0.4855 - precision: 0.8017 - recall: 0.5506 - auc: 0.4999\n",
      "Epoch 7/20\n",
      "938786/938786 [==============================] - 5s 5us/step - loss: 0.6930 - accuracy: 0.5160 - precision: 0.8018 - recall: 0.5535 - auc: 0.4999\n",
      "Epoch 8/20\n",
      "938786/938786 [==============================] - 4s 5us/step - loss: 0.6930 - accuracy: 0.5640 - precision: 0.8018 - recall: 0.5495 - auc: 0.4999\n",
      "Epoch 9/20\n",
      "938786/938786 [==============================] - 4s 5us/step - loss: 0.6930 - accuracy: 0.4539 - precision: 0.8018 - recall: 0.5461 - auc: 0.4999\n",
      "Epoch 10/20\n",
      "938786/938786 [==============================] - 4s 4us/step - loss: 0.6930 - accuracy: 0.4987 - precision: 0.8018 - recall: 0.5473 - auc: 0.4999\n",
      "Epoch 11/20\n",
      "938786/938786 [==============================] - 4s 4us/step - loss: 0.6930 - accuracy: 0.5922 - precision: 0.8018 - recall: 0.5468 - auc: 0.4999\n",
      "Epoch 12/20\n",
      "938786/938786 [==============================] - 5s 5us/step - loss: 0.6930 - accuracy: 0.4551 - precision: 0.8018 - recall: 0.5453 - auc: 0.4999\n",
      "Epoch 13/20\n",
      "938786/938786 [==============================] - 5s 5us/step - loss: 0.6930 - accuracy: 0.6130 - precision: 0.8018 - recall: 0.5477 - auc: 0.4999\n",
      "Epoch 14/20\n",
      "938786/938786 [==============================] - 5s 5us/step - loss: 0.6930 - accuracy: 0.5044 - precision: 0.8018 - recall: 0.5474 - auc: 0.4999\n",
      "Epoch 15/20\n",
      "938786/938786 [==============================] - 5s 5us/step - loss: 0.6930 - accuracy: 0.5653 - precision: 0.8018 - recall: 0.5476 - auc: 0.4999\n",
      "Epoch 16/20\n",
      "938786/938786 [==============================] - 5s 5us/step - loss: 0.6930 - accuracy: 0.5207 - precision: 0.8018 - recall: 0.5480 - auc: 0.4999\n",
      "Epoch 17/20\n",
      "938786/938786 [==============================] - 5s 5us/step - loss: 0.6930 - accuracy: 0.5016 - precision: 0.8018 - recall: 0.5471 - auc: 0.4999\n",
      "Epoch 18/20\n",
      "938786/938786 [==============================] - 5s 5us/step - loss: 0.6930 - accuracy: 0.5405 - precision: 0.8018 - recall: 0.5493 - auc: 0.4999\n",
      "Epoch 19/20\n",
      "938786/938786 [==============================] - 5s 6us/step - loss: 0.6930 - accuracy: 0.5088 - precision: 0.8018 - recall: 0.5464 - auc: 0.4999\n",
      "Epoch 20/20\n",
      "938786/938786 [==============================] - 5s 5us/step - loss: 0.6930 - accuracy: 0.5613 - precision: 0.8018 - recall: 0.5489 - auc: 0.4999\n"
     ]
    },
    {
     "data": {
      "text/plain": [
       "<keras.callbacks.callbacks.History at 0x1a9fa70750>"
      ]
     },
     "execution_count": 144,
     "metadata": {},
     "output_type": "execute_result"
    }
   ],
   "source": [
    "# fit the keras model on the dataset\n",
    "weighted_model.fit(X_train, Y_train, epochs=20, batch_size=2048, class_weight = class_weight)"
   ]
  },
  {
   "cell_type": "markdown",
   "metadata": {},
   "source": [
    "# Testing\n"
   ]
  },
  {
   "cell_type": "code",
   "execution_count": 66,
   "metadata": {},
   "outputs": [],
   "source": [
    "df = loans"
   ]
  },
  {
   "cell_type": "code",
   "execution_count": 69,
   "metadata": {
    "scrolled": true
   },
   "outputs": [
    {
     "name": "stdout",
     "output_type": "stream",
     "text": [
      "Positive examples = 1075192\n",
      "Negative examples = 265931\n",
      "Proportion of positive to negative examples = 404.31%\n"
     ]
    },
    {
     "data": {
      "image/png": "[encoded data removed]",
      "text/plain": [
       "<Figure size 576x432 with 1 Axes>"
      ]
     },
     "metadata": {
      "needs_background": "light"
     },
     "output_type": "display_data"
    }
   ],
   "source": [
    "# Get number of positve and negative examples\n",
    "pos = df[df[\"loan_status\"] == 1].shape[0]\n",
    "neg = df[df[\"loan_status\"] == 0].shape[0]\n",
    "print(f\"Positive examples = {pos}\")\n",
    "print(f\"Negative examples = {neg}\")\n",
    "print(f\"Proportion of positive to negative examples = {(pos / neg) * 100:.2f}%\")\n",
    "plt.figure(figsize=(8, 6))\n",
    "sns.countplot(df[\"loan_status\"])\n",
    "plt.xticks((0, 1), [\"Not Paid fully\", \"Paid fully\"])\n",
    "plt.xlabel(\"\")\n",
    "plt.ylabel(\"Count\")\n",
    "plt.title(\"Class counts\", y=1, fontdict={\"fontsize\": 20});"
   ]
  },
  {
   "cell_type": "markdown",
   "metadata": {},
   "source": [
    "## Multi label Prediction"
   ]
  },
  {
   "cell_type": "code",
   "execution_count": 95,
   "metadata": {},
   "outputs": [],
   "source": [
    "df_processed = loans"
   ]
  },
  {
   "cell_type": "code",
   "execution_count": 96,
   "metadata": {},
   "outputs": [],
   "source": [
    "# chargedoff_default_list = ['Charged Off','Default', 'Does not meet the credit policy. Status:Charged Off']\n",
    "# df_processed['label_hardship'] = df_processed['hardship_status'].apply(lambda x: 0 if x  is np.nan else 1)\n",
    "# df_processed['label_chargedoff_default'] = df_processed['loan_status'].apply(lambda x: 1 if x in chargedoff_default_list else 0)\n",
    "# df_processed['label_settlement'] = df_processed['settlement_status'].apply(lambda x: 0 if x  is np.nan else 1)\n",
    "\n",
    "chargedoff_default_list = ['Charged Off','Default', 'Does not meet the credit policy. Status:Charged Off']\n",
    "df_processed['label_hardship'] = accepted['hardship_status'].apply(lambda x: 0 if x  is np.nan else 1)\n",
    "df_processed['label_chargedoff_default'] = accepted['loan_status'].apply(lambda x: 1 if x in chargedoff_default_list else 0)\n",
    "df_processed['label_settlement'] = accepted['settlement_status'].apply(lambda x: 0 if x  is np.nan else 1)"
   ]
  },
  {
   "cell_type": "code",
   "execution_count": 97,
   "metadata": {},
   "outputs": [
    {
     "data": {
      "text/plain": [
       "(1341123, 126)"
      ]
     },
     "execution_count": 97,
     "metadata": {},
     "output_type": "execute_result"
    }
   ],
   "source": [
    "loans.shape"
   ]
  },
  {
   "cell_type": "code",
   "execution_count": 98,
   "metadata": {},
   "outputs": [],
   "source": [
    "from sklearn.multiclass import OneVsRestClassifier\n",
    "from sklearn.linear_model import LogisticRegression\n",
    "from sklearn.metrics import confusion_matrix, roc_auc_score, f1_score, recall_score, precision_score, accuracy_score"
   ]
  },
  {
   "cell_type": "code",
   "execution_count": 99,
   "metadata": {},
   "outputs": [],
   "source": [
    "logistic_clf = LogisticRegression(class_weight = 'balanced')"
   ]
  },
  {
   "cell_type": "code",
   "execution_count": 100,
   "metadata": {},
   "outputs": [],
   "source": [
    "multi_log_clf = OneVsRestClassifier(logistic_clf)"
   ]
  },
  {
   "cell_type": "code",
   "execution_count": 101,
   "metadata": {},
   "outputs": [],
   "source": [
    "X1 = df_processed.drop(['label_hardship','label_chargedoff_default','label_settlement','loan_status'], axis=1)\n",
    "Y1 = df_processed[['label_hardship','label_chargedoff_default','label_settlement']]"
   ]
  },
  {
   "cell_type": "code",
   "execution_count": 102,
   "metadata": {},
   "outputs": [],
   "source": [
    "X1_train, X1_test, y1_train, y1_test = train_test_split(X1, Y1, test_size=0.3, random_state=42)"
   ]
  },
  {
   "cell_type": "code",
   "execution_count": 103,
   "metadata": {},
   "outputs": [
    {
     "name": "stderr",
     "output_type": "stream",
     "text": [
      "/Users/jameskim/opt/anaconda3/lib/python3.7/site-packages/sklearn/linear_model/_logistic.py:939: ConvergenceWarning: lbfgs failed to converge (status=1):\n",
      "STOP: TOTAL NO. of ITERATIONS REACHED LIMIT.\n",
      "\n",
      "Increase the number of iterations (max_iter) or scale the data as shown in:\n",
      "    https://scikit-learn.org/stable/modules/preprocessing.html.\n",
      "Please also refer to the documentation for alternative solver options:\n",
      "    https://scikit-learn.org/stable/modules/linear_model.html#logistic-regression\n",
      "  extra_warning_msg=_LOGISTIC_SOLVER_CONVERGENCE_MSG)\n",
      "/Users/jameskim/opt/anaconda3/lib/python3.7/site-packages/sklearn/linear_model/_logistic.py:939: ConvergenceWarning: lbfgs failed to converge (status=1):\n",
      "STOP: TOTAL NO. of ITERATIONS REACHED LIMIT.\n",
      "\n",
      "Increase the number of iterations (max_iter) or scale the data as shown in:\n",
      "    https://scikit-learn.org/stable/modules/preprocessing.html.\n",
      "Please also refer to the documentation for alternative solver options:\n",
      "    https://scikit-learn.org/stable/modules/linear_model.html#logistic-regression\n",
      "  extra_warning_msg=_LOGISTIC_SOLVER_CONVERGENCE_MSG)\n",
      "/Users/jameskim/opt/anaconda3/lib/python3.7/site-packages/sklearn/linear_model/_logistic.py:939: ConvergenceWarning: lbfgs failed to converge (status=1):\n",
      "STOP: TOTAL NO. of ITERATIONS REACHED LIMIT.\n",
      "\n",
      "Increase the number of iterations (max_iter) or scale the data as shown in:\n",
      "    https://scikit-learn.org/stable/modules/preprocessing.html.\n",
      "Please also refer to the documentation for alternative solver options:\n",
      "    https://scikit-learn.org/stable/modules/linear_model.html#logistic-regression\n",
      "  extra_warning_msg=_LOGISTIC_SOLVER_CONVERGENCE_MSG)\n"
     ]
    },
    {
     "data": {
      "text/plain": [
       "OneVsRestClassifier(estimator=LogisticRegression(C=1.0, class_weight='balanced',\n",
       "                                                 dual=False, fit_intercept=True,\n",
       "                                                 intercept_scaling=1,\n",
       "                                                 l1_ratio=None, max_iter=100,\n",
       "                                                 multi_class='auto',\n",
       "                                                 n_jobs=None, penalty='l2',\n",
       "                                                 random_state=None,\n",
       "                                                 solver='lbfgs', tol=0.0001,\n",
       "                                                 verbose=0, warm_start=False),\n",
       "                    n_jobs=None)"
      ]
     },
     "execution_count": 103,
     "metadata": {},
     "output_type": "execute_result"
    }
   ],
   "source": [
    "multi_log_clf.fit(X1_train, y1_train)"
   ]
  },
  {
   "cell_type": "code",
   "execution_count": 104,
   "metadata": {},
   "outputs": [],
   "source": [
    "y_pred_multi = multi_log_clf.predict(X1_test)"
   ]
  },
  {
   "cell_type": "code",
   "execution_count": 105,
   "metadata": {},
   "outputs": [
    {
     "data": {
      "text/plain": [
       "array([[0, 0, 1],\n",
       "       [0, 1, 1],\n",
       "       [0, 1, 1],\n",
       "       ...,\n",
       "       [0, 1, 1],\n",
       "       [0, 0, 0],\n",
       "       [0, 1, 1]])"
      ]
     },
     "execution_count": 105,
     "metadata": {},
     "output_type": "execute_result"
    }
   ],
   "source": [
    "y_pred_multi"
   ]
  },
  {
   "cell_type": "code",
   "execution_count": 106,
   "metadata": {},
   "outputs": [
    {
     "data": {
      "text/plain": [
       "0.22270882369754708"
      ]
     },
     "execution_count": 106,
     "metadata": {},
     "output_type": "execute_result"
    }
   ],
   "source": [
    "accuracy_score(y_pred_multi, y1_test)"
   ]
  },
  {
   "cell_type": "code",
   "execution_count": 107,
   "metadata": {},
   "outputs": [
    {
     "name": "stdout",
     "output_type": "stream",
     "text": [
      "0.6407638372806875\n",
      "0.6553809368763002\n",
      "0.5903906426701994\n"
     ]
    }
   ],
   "source": [
    "for i in range(y_pred_multi.shape[1]):\n",
    "    print(accuracy_score(y_pred_multi[:, i], y1_test.iloc[:, i]))"
   ]
  },
  {
   "cell_type": "code",
   "execution_count": 108,
   "metadata": {},
   "outputs": [],
   "source": [
    "res = []\n",
    "for i in range(y_pred_multi.shape[0]): \n",
    "    res.append(accuracy_score(y_pred_multi[i, ], y1_test.iloc[i, ]))"
   ]
  },
  {
   "cell_type": "code",
   "execution_count": 1,
   "metadata": {},
   "outputs": [
    {
     "ename": "NameError",
     "evalue": "name 'np' is not defined",
     "output_type": "error",
     "traceback": [
      "\u001b[0;31m---------------------------------------------------------------------------\u001b[0m",
      "\u001b[0;31mNameError\u001b[0m                                 Traceback (most recent call last)",
      "\u001b[0;32m<ipython-input-1-9c5748e0abf0>\u001b[0m in \u001b[0;36m<module>\u001b[0;34m\u001b[0m\n\u001b[0;32m----> 1\u001b[0;31m \u001b[0;34m(\u001b[0m\u001b[0mnp\u001b[0m\u001b[0;34m.\u001b[0m\u001b[0marray\u001b[0m\u001b[0;34m(\u001b[0m\u001b[0mres\u001b[0m\u001b[0;34m)\u001b[0m \u001b[0;34m==\u001b[0m \u001b[0;36m1\u001b[0m\u001b[0;34m)\u001b[0m\u001b[0;34m.\u001b[0m\u001b[0mmean\u001b[0m\u001b[0;34m(\u001b[0m\u001b[0;34m)\u001b[0m\u001b[0;34m\u001b[0m\u001b[0;34m\u001b[0m\u001b[0m\n\u001b[0m",
      "\u001b[0;31mNameError\u001b[0m: name 'np' is not defined"
     ]
    }
   ],
   "source": [
    "(np.array(res) == 1).mean()"
   ]
  },
  {
   "cell_type": "code",
   "execution_count": null,
   "metadata": {},
   "outputs": [],
   "source": []
  },
  {
   "cell_type": "code",
   "execution_count": null,
   "metadata": {},
   "outputs": [],
   "source": []
  }
 ],
 "metadata": {
  "kernelspec": {
   "display_name": "Python 3",
   "language": "python",
   "name": "python3"
  },
  "language_info": {
   "codemirror_mode": {
    "name": "ipython",
    "version": 3
   },
   "file_extension": ".py",
   "mimetype": "text/x-python",
   "name": "python",
   "nbconvert_exporter": "python",
   "pygments_lexer": "ipython3",
   "version": "3.7.4"
  }
 },
 "nbformat": 4,
 "nbformat_minor": 2
}
