{
 "cells": [
  {
   "cell_type": "code",
   "execution_count": null,
   "metadata": {},
   "outputs": [],
   "source": [
    "import numpy as np\n",
    "import seaborn as sns; sns.set()\n",
    "import matplotlib.pyplot as plt\n",
    "import datetime\n",
    "import pandas as pd\n",
    "import os\n",
    "\n",
    "os.getcwd() \n",
    "os.chdir(\"/Users/macbook/Downloads/lending-club\")\n",
    "accepted = pd.read_csv('accepted_2007_to_2018Q4.csv')\n",
    "print(accepted.sample(5))"
   ]
  },
  {
   "cell_type": "code",
   "execution_count": null,
   "metadata": {},
   "outputs": [],
   "source": [
    "# Drop irrelavant columns \n",
    "\n",
    "accepted.drop(['id','member_id','funded_amnt','desc','title','revol_bal_joint','annual_inc_joint','dti_joint',\n",
    "               'funded_amnt_inv','int_rate','installment','issue_d','loan_status','pymnt_plan','out_prncp',\n",
    "               'out_prncp_inv','verification_status_joint','sec_app_fico_range_low','sec_app_fico_range_high',\n",
    "               'sec_app_earliest_cr_line','sec_app_inq_last_6mths','emp_length','sec_app_mort_acc',\n",
    "               'hardship_end_date','zip_code','payment_plan_start_date','hardship_start_date','emp_title',\n",
    "                'sec_app_open_acc','sec_app_revol_util','sec_app_open_act_il','sec_app_num_rev_accts',\n",
    "                'sec_app_chargeoff_within_12_mths','sec_app_collections_12_mths_ex_med',\n",
    "               'sec_app_mths_since_last_major_derog','hardship_flag', 'hardship_type','hardship_reason',\n",
    "               'hardship_status','deferral_term','hardship_amount','hardship_length','hardship_dpd',\n",
    "               'hardship_loan_status','orig_projected_additional_accrued_interest',\n",
    "               'hardship_payoff_balance_amount','hardship_last_payment_amount','disbursement_method',\n",
    "               'debt_settlement_flag','debt_settlement_flag_date','settlement_status','settlement_date',\n",
    "               'settlement_amount','settlement_percentage','settlement_term'], axis=1, inplace=True)"
   ]
  },
  {
   "cell_type": "code",
   "execution_count": null,
   "metadata": {},
   "outputs": [],
   "source": [
    "# Drop rows with an insignificant amount of number of missing values\n",
    "\n",
    "drop_rows = list(accepted[['loan_amnt','annual_inc','earliest_cr_line','inq_last_6mths','delinq_2yrs',\n",
    "                  'earliest_cr_line','inq_last_6mths','open_acc','pub_rec','total_acc']])\n",
    "\n",
    "for drop_row in drop_rows:\n",
    "    accepted = accepted.dropna(axis=0, subset=[drop_row])"
   ]
  },
  {
   "cell_type": "code",
   "execution_count": null,
   "metadata": {},
   "outputs": [],
   "source": [
    "# accepted.shape"
   ]
  },
  {
   "cell_type": "code",
   "execution_count": null,
   "metadata": {},
   "outputs": [],
   "source": [
    "# accepted.isnull().sum()"
   ]
  },
  {
   "cell_type": "code",
   "execution_count": null,
   "metadata": {},
   "outputs": [],
   "source": [
    "# Convert to Datetime\n",
    "\n",
    "dates = accepted[['earliest_cr_line','last_pymnt_d','last_credit_pull_d','next_pymnt_d','debt_settlement_flag_date',\n",
    "                 'settlement_date']]\n",
    "\n",
    "for date in dates:\n",
    "    accepted = pd.to_datetime(accepted[date])"
   ]
  },
  {
   "cell_type": "code",
   "execution_count": null,
   "metadata": {},
   "outputs": [],
   "source": [
    "# Missing Values \n",
    "df_processed.mths_since_last_record = df_processed.mths_since_last_record.fillna(0)\n",
    "df_processed.mths_since_last_delinq = df_processed.mths_since_last_delinq.fillna(0)\n",
    "\n",
    "df_processed.emp_title = df_processed.emp_title.fillna('None')\n",
    "df_processed.emp_length = df_processed.emp_length.fillna(0)\n",
    "\n",
    "df_processed.revol_util = df_processed.revol_util.fillna(0)\n",
    "\n",
    "df_processed.dti = df_processed.dti.fillna(df_processed.revol_bal / df_processed.annual_inc)"
   ]
  },
  {
   "cell_type": "code",
   "execution_count": null,
   "metadata": {},
   "outputs": [],
   "source": [
    "# Convert categorical to numerical \n",
    "df_processed['term'] = df_processed['term'].apply(lambda x: int(x.split()[0]))\n",
    "df_processed['emp_length'] = df_processed['emp_length'].str.extract('(\\d+)') \n",
    "#10 means more than 10 years "
   ]
  },
  {
   "cell_type": "code",
   "execution_count": null,
   "metadata": {},
   "outputs": [],
   "source": [
    "# df = accepted.groupby('emp_title').count()\n",
    "# df"
   ]
  },
  {
   "cell_type": "code",
   "execution_count": null,
   "metadata": {},
   "outputs": [],
   "source": [
    "# len(accepted.emp_title.unique())"
   ]
  },
  {
   "cell_type": "code",
   "execution_count": null,
   "metadata": {},
   "outputs": [],
   "source": [
    "# accepted.iloc[:,35:]"
   ]
  },
  {
   "cell_type": "code",
   "execution_count": null,
   "metadata": {},
   "outputs": [],
   "source": [
    "# input for missing NaN\n",
    "fill_zero = accepted[['hardship_end_date','bc_util','chargeoff_within_12_mths','collections_12_mths_ex_med',\n",
    "                 'mths_since_last_major_derog','payment_plan_start_date','acc_now_delinq','tot_coll_amt',\n",
    "                 'open_acc_6m','open_il_6m','open_il_12m','debt_settlement_flag_date','settlement_date',\n",
    "                 'open_il_24m','open_rv_12m','open_rv_24m','inq_fi','delinq_amnt','mort_acc',\n",
    "                 'mths_since_recent_bc','mths_since_recent_bc_dlq','num_tl_90g_dpd_24m','num_tl_op_past_12m',\n",
    "                 'pub_rec_bankruptcies','tax_liens','total_cu_tl','inq_last_12m','acc_open_past_24mths',\n",
    "                 'chargeoff_within_12_mths','delinq_amnt']]\n",
    "\n",
    "for column in fill_zero:\n",
    "    accepted[column].fillna(0)\n",
    "    "
   ]
  },
  {
   "cell_type": "code",
   "execution_count": null,
   "metadata": {},
   "outputs": [],
   "source": [
    "# accepted.iloc[:,:40].isnull().sum()"
   ]
  },
  {
   "cell_type": "code",
   "execution_count": null,
   "metadata": {},
   "outputs": [],
   "source": [
    "# input for missing NaN\n",
    "fills = aacepted[['tot_cur_bal','mths_since_rcnt_il','total_bal_il','max_bal_bc','total_rev_hi_lim',\n",
    "                  'avg_cur_bal','bc_open_to_buy','bc_util','mo_sin_old_il_acct','mo_sin_old_rev_tl_op',\n",
    "                  'sec_app_inq_last_6mths','sec_app_mort_acc','sec_app_open_acc','sec_app_revol_util',\n",
    "                  'sec_app_open_act_il','sec_app_num_rev_accts','sec_app_chargeoff_within_12_mths',\n",
    "                  'sec_app_collections_12_mths_ex_med','sec_app_mths_since_last_major_derog',\n",
    "                  'settlement_percentage','settlement_amount','deferral_term','hardship_amount','hardship_dpd',\n",
    "                  'orig_projected_additional_accrued_interest','hardship_payoff_balance_amount',\n",
    "                  'hardship_last_payment_amount']]\n",
    "\n",
    "for fill in fills:\n",
    "    accepted[fill].fillna(-999)  \n",
    "    "
   ]
  },
  {
   "cell_type": "code",
   "execution_count": null,
   "metadata": {},
   "outputs": [],
   "source": [
    "# accepted.isnull().sum()"
   ]
  },
  {
   "cell_type": "code",
   "execution_count": null,
   "metadata": {},
   "outputs": [],
   "source": [
    "# def data_processing(data,):\n",
    "    \n",
    "#     import numpy as np\n",
    "    \n",
    "    \n",
    "#     #Drop rows with missing information\n",
    "#     row_to_drop=data[data.issue_d.isna()].index.tolist()\n",
    "#     data=data.drop(data.index[row_to_drop])\n",
    "    \n",
    "\n",
    "        \n",
    "#     #fill na but candidate for drop:hardship_type. Only 2 unique category.\n",
    "#     #hardship_type: nan, 'INTEREST ONLY-3 MONTHS DEFERRAL' (unique values)\n",
    "#     data.hardship_type=data.hardship_type.fillna('NA-noHardShip')\n",
    "    \n",
    "#     #Fill NA when there is no hardship. \n",
    "#     data.hardship_reason=data.hardship_reason.fillna('NA-noHardShip')\n",
    "#     data.hardship_status=data.hardship_status.fillna('NA-noHardShip')\n",
    "                              \n",
    "    \n",
    "   \n",
    "    \n",
    "#     data.hardship_end_date=pd.to_datetime(data.hardship_end_date)\n",
    "#     data.payment_plan_start_date=pd.to_datetime(data.payment_plan_start_date)\n",
    "    \n",
    "#     data['length_of_hardship_payment']=(data.hardship_end_date-data.payment_plan_start_date)/np.timedelta64(1, 'M')\n",
    "#     data['length_of_hardship_payment']=data['length_of_hardship_payment'].astype(int)\n",
    "    \n",
    "    \n",
    "\n",
    "#     #Fill na when no hardship\n",
    "#     data.hardship_loan_status=data.hardship_loan_status.fillna('None')\n",
    "    \n",
    "  \n",
    "    \n",
    "# ####NOTE: SETTLEMENT IS AFTER THE LOAN IS ISSUE\n",
    "#     #Fill na with no settlement involved\n",
    "#     data.settlement_status=data.settlement_status.fillna('None')\n",
    "#     data.settlement_term=data.settlement_term.fillna('None')\n",
    "#     #Fill -999 with no settlement involved\n",
    "   \n",
    "\n",
    "    \n",
    "#     #Combine debt_settlement_flag_date with settlement_date\n",
    "    \n",
    "   \n",
    "    \n",
    "#     data['duration_settlement_debt_se_flag']=(data.debt_settlement_flag_date-data.settlement_date)/np.timedelta64(1, 'M')\n",
    "#     data['duration_settlement_debt_se_flag']=data['duration_settlement_debt_se_flag'].astype(int)\n",
    "#     data.drop(['debt_settlement_flag_date',\"settlement_date\"], axis=1)\n",
    "\n",
    "#     return (data)\n",
    "\n",
    "\n",
    "# data_processing(accepted)"
   ]
  },
  {
   "cell_type": "code",
   "execution_count": null,
   "metadata": {},
   "outputs": [],
   "source": [
    "# accepted['sec_app_inq_last_6mths']"
   ]
  },
  {
   "cell_type": "code",
   "execution_count": null,
   "metadata": {},
   "outputs": [],
   "source": [
    "# accepted.head(5)"
   ]
  },
  {
   "cell_type": "code",
   "execution_count": null,
   "metadata": {},
   "outputs": [],
   "source": [
    "# accepted.isnull().sum()"
   ]
  },
  {
   "cell_type": "code",
   "execution_count": null,
   "metadata": {},
   "outputs": [],
   "source": [
    "# accepted.dtypes"
   ]
  },
  {
   "cell_type": "code",
   "execution_count": null,
   "metadata": {},
   "outputs": [],
   "source": [
    "# print(accepted.columns[0:30])\n",
    "# accepted.mths_since_last_delinq\n",
    "\n",
    "# print(accepted.columns[31:60])\n",
    "# print(accepted.columns[61:90])\n",
    "# print(accepted.columns[91:])\n"
   ]
  },
  {
   "cell_type": "code",
   "execution_count": null,
   "metadata": {},
   "outputs": [],
   "source": [
    "# from sklearn import preprocessing\n",
    "\n",
    "# dummy = pd.get_dummies(accepted['term'])\n",
    "# accepted = pd.concat([accepted,dummy], axis =1)\n",
    "\n",
    "# #creating labelEncoder\n",
    "# le = preprocessing.LabelEncoder()\n",
    "# # Converting string labels into numbers.\n",
    "\n",
    "# lists = accepted[['grade','sub_grade','emp_title','emp_length','home_ownership','verification_status','issue_d',\n",
    "#                   'loan_status','pymnt_plan','desc','purpose','title','zip_code','addr_state','earliest_cr_line',\n",
    "                 \n",
    "#                  ]]\n",
    "\n",
    "\n",
    "# grade_encoded=le.fit_transform(accepted['grade'])\n",
    "# sub_grade_encoded=le.fit_transform(accepted['sub_grade'])\n",
    "# emp_title_encoded=le.fit_transform(accepted['emp_title'])\n",
    "# emp_length_encoded=le.fit_transform(accepted['emp_length'])\n",
    "# h\n",
    "\n"
   ]
  }
 ],
 "metadata": {
  "kernelspec": {
   "display_name": "Python 3",
   "language": "python",
   "name": "python3"
  },
  "language_info": {
   "codemirror_mode": {
    "name": "ipython",
    "version": 3
   },
   "file_extension": ".py",
   "mimetype": "text/x-python",
   "name": "python",
   "nbconvert_exporter": "python",
   "pygments_lexer": "ipython3",
   "version": "3.7.3"
  }
 },
 "nbformat": 4,
 "nbformat_minor": 2
}
