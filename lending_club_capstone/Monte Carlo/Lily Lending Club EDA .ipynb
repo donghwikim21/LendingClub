{
 "cells": [
  {
   "cell_type": "code",
   "execution_count": 74,
   "metadata": {},
   "outputs": [
    {
     "name": "stdout",
     "output_type": "stream",
     "text": [
      "Index(['id', 'member_id', 'loan_amnt', 'funded_amnt', 'funded_amnt_inv',\n",
      "       'term', 'int_rate', 'installment', 'grade', 'sub_grade', 'emp_title',\n",
      "       'emp_length', 'home_ownership', 'annual_inc', 'verification_status',\n",
      "       'issue_d', 'loan_status', 'pymnt_plan', 'desc', 'purpose', 'title',\n",
      "       'zip_code', 'addr_state', 'dti', 'delinq_2yrs', 'earliest_cr_line',\n",
      "       'inq_last_6mths', 'mths_since_last_delinq', 'mths_since_last_record',\n",
      "       'open_acc'],\n",
      "      dtype='object')\n",
      "Index(['revol_bal', 'revol_util', 'total_acc', 'initial_list_status',\n",
      "       'out_prncp', 'out_prncp_inv', 'total_pymnt', 'total_pymnt_inv',\n",
      "       'total_rec_prncp', 'total_rec_int', 'total_rec_late_fee', 'recoveries',\n",
      "       'collection_recovery_fee', 'last_pymnt_d', 'last_pymnt_amnt',\n",
      "       'next_pymnt_d', 'last_credit_pull_d', 'collections_12_mths_ex_med',\n",
      "       'mths_since_last_major_derog', 'policy_code', 'application_type',\n",
      "       'annual_inc_joint', 'dti_joint', 'verification_status_joint',\n",
      "       'acc_now_delinq', 'tot_coll_amt', 'tot_cur_bal', 'open_acc_6m',\n",
      "       'open_il_6m'],\n",
      "      dtype='object')\n",
      "Index(['open_il_24m', 'mths_since_rcnt_il', 'total_bal_il', 'il_util',\n",
      "       'open_rv_12m', 'open_rv_24m', 'max_bal_bc', 'all_util',\n",
      "       'total_rev_hi_lim', 'inq_fi', 'total_cu_tl', 'inq_last_12m',\n",
      "       'acc_open_past_24mths', 'avg_cur_bal', 'bc_open_to_buy', 'bc_util',\n",
      "       'chargeoff_within_12_mths', 'delinq_amnt', 'mo_sin_old_il_acct',\n",
      "       'mo_sin_old_rev_tl_op', 'mo_sin_rcnt_rev_tl_op', 'mo_sin_rcnt_tl',\n",
      "       'mort_acc', 'mths_since_recent_bc', 'mths_since_recent_bc_dlq',\n",
      "       'mths_since_recent_inq', 'mths_since_recent_revol_delinq',\n",
      "       'num_accts_ever_120_pd', 'num_actv_bc_tl'],\n",
      "      dtype='object')\n",
      "Index(['num_bc_sats', 'num_bc_tl', 'num_il_tl', 'num_op_rev_tl',\n",
      "       'num_rev_accts', 'num_rev_tl_bal_gt_0', 'num_sats', 'num_tl_120dpd_2m',\n",
      "       'num_tl_30dpd', 'num_tl_90g_dpd_24m', 'num_tl_op_past_12m',\n",
      "       'pct_tl_nvr_dlq', 'percent_bc_gt_75', 'pub_rec_bankruptcies',\n",
      "       'tax_liens', 'tot_hi_cred_lim', 'total_bal_ex_mort', 'total_bc_limit',\n",
      "       'total_il_high_credit_limit'],\n",
      "      dtype='object')\n"
     ]
    }
   ],
   "source": [
    "import numpy as np\n",
    "import seaborn as sns; sns.set()\n",
    "import matplotlib.pyplot as plt\n",
    "import datetime\n",
    "import pandas as pd\n",
    "import os\n",
    "\n",
    "os.getcwd() \n",
    "os.chdir(\"/Users/macbook/Downloads/lending-club\")\n",
    "accepted = pd.read_csv(\"accepted_2007_to_2016.csv\")\n",
    "#rejected = pd.read_csv(\"rejected_2007_to_2016.csv\")\n",
    "\n",
    "#print(accepted.sample(5))\n",
    "#print(accepted.shape)\n",
    "print(accepted.columns[0:30])\n",
    "print(accepted.columns[31:60])\n",
    "print(accepted.columns[61:90])\n",
    "print(accepted.columns[91:])\n",
    "\n",
    "# print(rejected.sample(15))\n",
    "# print(rejected.shape)"
   ]
  },
  {
   "cell_type": "code",
   "execution_count": 75,
   "metadata": {},
   "outputs": [
    {
     "name": "stdout",
     "output_type": "stream",
     "text": [
      "id                                      0\n",
      "member_id                               0\n",
      "loan_amnt                               0\n",
      "funded_amnt                             0\n",
      "funded_amnt_inv                         0\n",
      "term                                    0\n",
      "int_rate                                0\n",
      "installment                             0\n",
      "grade                                   0\n",
      "sub_grade                               0\n",
      "emp_title                           79966\n",
      "emp_length                          73049\n",
      "home_ownership                          0\n",
      "annual_inc                              4\n",
      "verification_status                     0\n",
      "issue_d                                 0\n",
      "loan_status                             0\n",
      "pymnt_plan                              0\n",
      "desc                              1195780\n",
      "purpose                                 0\n",
      "title                               23325\n",
      "zip_code                                0\n",
      "addr_state                              0\n",
      "dti                                     0\n",
      "delinq_2yrs                            29\n",
      "earliest_cr_line                       29\n",
      "inq_last_6mths                         30\n",
      "mths_since_last_delinq             659170\n",
      "mths_since_last_record            1101870\n",
      "open_acc                               29\n",
      "                                   ...   \n",
      "mo_sin_old_rev_tl_op                70277\n",
      "mo_sin_rcnt_rev_tl_op               70277\n",
      "mo_sin_rcnt_tl                      70276\n",
      "mort_acc                            50030\n",
      "mths_since_recent_bc                61781\n",
      "mths_since_recent_bc_dlq          1003082\n",
      "mths_since_recent_inq              182177\n",
      "mths_since_recent_revol_delinq     873318\n",
      "num_accts_ever_120_pd               70276\n",
      "num_actv_bc_tl                      70276\n",
      "num_actv_rev_tl                     70276\n",
      "num_bc_sats                         58590\n",
      "num_bc_tl                           70276\n",
      "num_il_tl                           70276\n",
      "num_op_rev_tl                       70276\n",
      "num_rev_accts                       70277\n",
      "num_rev_tl_bal_gt_0                 70276\n",
      "num_sats                            58590\n",
      "num_tl_120dpd_2m                   118999\n",
      "num_tl_30dpd                        70276\n",
      "num_tl_90g_dpd_24m                  70276\n",
      "num_tl_op_past_12m                  70276\n",
      "pct_tl_nvr_dlq                      70429\n",
      "percent_bc_gt_75                    63024\n",
      "pub_rec_bankruptcies                 1365\n",
      "tax_liens                             105\n",
      "tot_hi_cred_lim                     70276\n",
      "total_bal_ex_mort                   50030\n",
      "total_bc_limit                      50030\n",
      "total_il_high_credit_limit          70276\n",
      "Length: 110, dtype: int64\n"
     ]
    }
   ],
   "source": [
    "print(accepted.isnull().sum())\n",
    "#print(\"=\"*20)\n",
    "#rejected.isnull().sum()"
   ]
  },
  {
   "cell_type": "markdown",
   "metadata": {},
   "source": [
    "For borrowers, the most important factor is interest rate charged. Provide insights on the interest rates \n",
    "dependence on loan grade/subgrade and term (36 or 60 months).\n"
   ]
  },
  {
   "cell_type": "code",
   "execution_count": 76,
   "metadata": {},
   "outputs": [
    {
     "data": {
      "text/html": [
       "<div>\n",
       "<style scoped>\n",
       "    .dataframe tbody tr th:only-of-type {\n",
       "        vertical-align: middle;\n",
       "    }\n",
       "\n",
       "    .dataframe tbody tr th {\n",
       "        vertical-align: top;\n",
       "    }\n",
       "\n",
       "    .dataframe thead th {\n",
       "        text-align: right;\n",
       "    }\n",
       "</style>\n",
       "<table border=\"1\" class=\"dataframe\">\n",
       "  <thead>\n",
       "    <tr style=\"text-align: right;\">\n",
       "      <th></th>\n",
       "      <th>int_rate</th>\n",
       "      <th>grade</th>\n",
       "      <th>sub_grade</th>\n",
       "      <th>term</th>\n",
       "      <th>issue_d</th>\n",
       "      <th>loan_status</th>\n",
       "      <th>issue_month</th>\n",
       "      <th>issue_year</th>\n",
       "    </tr>\n",
       "  </thead>\n",
       "  <tbody>\n",
       "    <tr>\n",
       "      <th>504404</th>\n",
       "      <td>12.69</td>\n",
       "      <td>C</td>\n",
       "      <td>C2</td>\n",
       "      <td>36 months</td>\n",
       "      <td>2015-05-01</td>\n",
       "      <td>Current</td>\n",
       "      <td>5</td>\n",
       "      <td>2015</td>\n",
       "    </tr>\n",
       "    <tr>\n",
       "      <th>791302</th>\n",
       "      <td>13.98</td>\n",
       "      <td>C</td>\n",
       "      <td>C3</td>\n",
       "      <td>36 months</td>\n",
       "      <td>2014-06-01</td>\n",
       "      <td>Charged Off</td>\n",
       "      <td>6</td>\n",
       "      <td>2014</td>\n",
       "    </tr>\n",
       "    <tr>\n",
       "      <th>993317</th>\n",
       "      <td>9.80</td>\n",
       "      <td>B</td>\n",
       "      <td>B3</td>\n",
       "      <td>60 months</td>\n",
       "      <td>2016-01-01</td>\n",
       "      <td>Current</td>\n",
       "      <td>1</td>\n",
       "      <td>2016</td>\n",
       "    </tr>\n",
       "    <tr>\n",
       "      <th>1171874</th>\n",
       "      <td>19.99</td>\n",
       "      <td>D</td>\n",
       "      <td>D4</td>\n",
       "      <td>36 months</td>\n",
       "      <td>2016-08-01</td>\n",
       "      <td>Current</td>\n",
       "      <td>8</td>\n",
       "      <td>2016</td>\n",
       "    </tr>\n",
       "    <tr>\n",
       "      <th>563223</th>\n",
       "      <td>14.65</td>\n",
       "      <td>C</td>\n",
       "      <td>C5</td>\n",
       "      <td>60 months</td>\n",
       "      <td>2015-04-01</td>\n",
       "      <td>Current</td>\n",
       "      <td>4</td>\n",
       "      <td>2015</td>\n",
       "    </tr>\n",
       "    <tr>\n",
       "      <th>343111</th>\n",
       "      <td>21.99</td>\n",
       "      <td>F</td>\n",
       "      <td>F1</td>\n",
       "      <td>60 months</td>\n",
       "      <td>2015-10-01</td>\n",
       "      <td>Charged Off</td>\n",
       "      <td>10</td>\n",
       "      <td>2015</td>\n",
       "    </tr>\n",
       "    <tr>\n",
       "      <th>230908</th>\n",
       "      <td>5.32</td>\n",
       "      <td>A</td>\n",
       "      <td>A1</td>\n",
       "      <td>36 months</td>\n",
       "      <td>2015-12-01</td>\n",
       "      <td>Current</td>\n",
       "      <td>12</td>\n",
       "      <td>2015</td>\n",
       "    </tr>\n",
       "    <tr>\n",
       "      <th>471268</th>\n",
       "      <td>12.69</td>\n",
       "      <td>C</td>\n",
       "      <td>C2</td>\n",
       "      <td>60 months</td>\n",
       "      <td>2015-07-01</td>\n",
       "      <td>Current</td>\n",
       "      <td>7</td>\n",
       "      <td>2015</td>\n",
       "    </tr>\n",
       "    <tr>\n",
       "      <th>190818</th>\n",
       "      <td>11.14</td>\n",
       "      <td>B</td>\n",
       "      <td>B2</td>\n",
       "      <td>36 months</td>\n",
       "      <td>2012-11-01</td>\n",
       "      <td>Fully Paid</td>\n",
       "      <td>11</td>\n",
       "      <td>2012</td>\n",
       "    </tr>\n",
       "    <tr>\n",
       "      <th>543205</th>\n",
       "      <td>8.18</td>\n",
       "      <td>B</td>\n",
       "      <td>B1</td>\n",
       "      <td>36 months</td>\n",
       "      <td>2015-04-01</td>\n",
       "      <td>Current</td>\n",
       "      <td>4</td>\n",
       "      <td>2015</td>\n",
       "    </tr>\n",
       "    <tr>\n",
       "      <th>520879</th>\n",
       "      <td>6.92</td>\n",
       "      <td>A</td>\n",
       "      <td>A4</td>\n",
       "      <td>36 months</td>\n",
       "      <td>2015-05-01</td>\n",
       "      <td>Fully Paid</td>\n",
       "      <td>5</td>\n",
       "      <td>2015</td>\n",
       "    </tr>\n",
       "    <tr>\n",
       "      <th>128522</th>\n",
       "      <td>17.77</td>\n",
       "      <td>D</td>\n",
       "      <td>D1</td>\n",
       "      <td>36 months</td>\n",
       "      <td>2013-07-01</td>\n",
       "      <td>Fully Paid</td>\n",
       "      <td>7</td>\n",
       "      <td>2013</td>\n",
       "    </tr>\n",
       "    <tr>\n",
       "      <th>199709</th>\n",
       "      <td>8.90</td>\n",
       "      <td>A</td>\n",
       "      <td>A5</td>\n",
       "      <td>36 months</td>\n",
       "      <td>2012-09-01</td>\n",
       "      <td>Fully Paid</td>\n",
       "      <td>9</td>\n",
       "      <td>2012</td>\n",
       "    </tr>\n",
       "    <tr>\n",
       "      <th>1192362</th>\n",
       "      <td>11.49</td>\n",
       "      <td>B</td>\n",
       "      <td>B5</td>\n",
       "      <td>36 months</td>\n",
       "      <td>2016-07-01</td>\n",
       "      <td>Current</td>\n",
       "      <td>7</td>\n",
       "      <td>2016</td>\n",
       "    </tr>\n",
       "    <tr>\n",
       "      <th>696231</th>\n",
       "      <td>12.99</td>\n",
       "      <td>C</td>\n",
       "      <td>C1</td>\n",
       "      <td>36 months</td>\n",
       "      <td>2014-10-01</td>\n",
       "      <td>Fully Paid</td>\n",
       "      <td>10</td>\n",
       "      <td>2014</td>\n",
       "    </tr>\n",
       "  </tbody>\n",
       "</table>\n",
       "</div>"
      ],
      "text/plain": [
       "         int_rate grade sub_grade        term    issue_d  loan_status  \\\n",
       "504404      12.69     C        C2   36 months 2015-05-01      Current   \n",
       "791302      13.98     C        C3   36 months 2014-06-01  Charged Off   \n",
       "993317       9.80     B        B3   60 months 2016-01-01      Current   \n",
       "1171874     19.99     D        D4   36 months 2016-08-01      Current   \n",
       "563223      14.65     C        C5   60 months 2015-04-01      Current   \n",
       "343111      21.99     F        F1   60 months 2015-10-01  Charged Off   \n",
       "230908       5.32     A        A1   36 months 2015-12-01      Current   \n",
       "471268      12.69     C        C2   60 months 2015-07-01      Current   \n",
       "190818      11.14     B        B2   36 months 2012-11-01   Fully Paid   \n",
       "543205       8.18     B        B1   36 months 2015-04-01      Current   \n",
       "520879       6.92     A        A4   36 months 2015-05-01   Fully Paid   \n",
       "128522      17.77     D        D1   36 months 2013-07-01   Fully Paid   \n",
       "199709       8.90     A        A5   36 months 2012-09-01   Fully Paid   \n",
       "1192362     11.49     B        B5   36 months 2016-07-01      Current   \n",
       "696231      12.99     C        C1   36 months 2014-10-01   Fully Paid   \n",
       "\n",
       "         issue_month  issue_year  \n",
       "504404             5        2015  \n",
       "791302             6        2014  \n",
       "993317             1        2016  \n",
       "1171874            8        2016  \n",
       "563223             4        2015  \n",
       "343111            10        2015  \n",
       "230908            12        2015  \n",
       "471268             7        2015  \n",
       "190818            11        2012  \n",
       "543205             4        2015  \n",
       "520879             5        2015  \n",
       "128522             7        2013  \n",
       "199709             9        2012  \n",
       "1192362            7        2016  \n",
       "696231            10        2014  "
      ]
     },
     "execution_count": 76,
     "metadata": {},
     "output_type": "execute_result"
    }
   ],
   "source": [
    "accepted['issue_d']= pd.to_datetime(accepted['issue_d'])\n",
    "accepted['issue_month'] = accepted['issue_d'].dt.month\n",
    "accepted['issue_year'] = accepted['issue_d'].dt.year\n",
    "\n",
    "sub = accepted[['int_rate', 'grade','sub_grade','term', 'issue_d', 'loan_status','issue_month','issue_year']]\n",
    "sub.sample(15)"
   ]
  },
  {
   "cell_type": "code",
   "execution_count": 77,
   "metadata": {},
   "outputs": [
    {
     "name": "stdout",
     "output_type": "stream",
     "text": [
      "['A', 'B', 'C', 'D', 'E', 'F', 'G']\n"
     ]
    },
    {
     "data": {
      "image/png": "[encoded data removed]",
      "text/plain": [
       "<Figure size 432x288 with 1 Axes>"
      ]
     },
     "metadata": {},
     "output_type": "display_data"
    }
   ],
   "source": [
    "grades = sorted(list(sub.grade.unique()))\n",
    "print(grades)\n",
    "\n",
    "for grade in grades:\n",
    "    sub_grade_a = accepted.groupby(['grade'])[\"int_rate\"].mean()\n",
    "    sub_grade_a.plot.bar()\n"
   ]
  },
  {
   "cell_type": "code",
   "execution_count": 78,
   "metadata": {},
   "outputs": [
    {
     "name": "stdout",
     "output_type": "stream",
     "text": [
      "['A1', 'A2', 'A3', 'A4', 'A5', 'B1', 'B2', 'B3', 'B4', 'B5', 'C1', 'C2', 'C3', 'C4', 'C5', 'D1', 'D2', 'D3', 'D4', 'D5', 'E1', 'E2', 'E3', 'E4', 'E5', 'F1', 'F2', 'F3', 'F4', 'F5', 'G1', 'G2', 'G3', 'G4', 'G5']\n"
     ]
    },
    {
     "data": {
      "image/png": "[encoded data removed]",
      "text/plain": [
       "<Figure size 432x288 with 1 Axes>"
      ]
     },
     "metadata": {},
     "output_type": "display_data"
    }
   ],
   "source": [
    "sub_grades = sorted(list(sub.sub_grade.unique()))\n",
    "print(sub_grades)\n",
    "\n",
    "for sub_grade in sub_grades:\n",
    "    sub_grade_b = accepted.groupby(['sub_grade'])[\"int_rate\"].mean()\n",
    "    sub_grade_b.plot.bar()\n",
    "\n",
    "# sort_by_sub_grade = sub.sort_values('sub_grade')\n",
    "# sns.set(style=\"whitegrid\")\n",
    "# ax2 = sns.barplot(x=\"sub_grade\", y=\"int_rate\", data=sort_by_sub_grade)"
   ]
  },
  {
   "cell_type": "code",
   "execution_count": 79,
   "metadata": {},
   "outputs": [
    {
     "data": {
      "image/png": "[encoded data removed]",
      "text/plain": [
       "<Figure size 432x288 with 1 Axes>"
      ]
     },
     "metadata": {},
     "output_type": "display_data"
    }
   ],
   "source": [
    "sort_by_term = sub.sort_values('term')\n",
    "sns.set(style=\"whitegrid\")\n",
    "ax3 = sns.barplot(x=\"term\", y=\"int_rate\", data=sort_by_term)"
   ]
  },
  {
   "cell_type": "code",
   "execution_count": 84,
   "metadata": {},
   "outputs": [
    {
     "data": {
      "text/html": [
       "<div>\n",
       "<style scoped>\n",
       "    .dataframe tbody tr th:only-of-type {\n",
       "        vertical-align: middle;\n",
       "    }\n",
       "\n",
       "    .dataframe tbody tr th {\n",
       "        vertical-align: top;\n",
       "    }\n",
       "\n",
       "    .dataframe thead tr th {\n",
       "        text-align: left;\n",
       "    }\n",
       "</style>\n",
       "<table border=\"1\" class=\"dataframe\">\n",
       "  <thead>\n",
       "    <tr>\n",
       "      <th>issue_d</th>\n",
       "      <th colspan=\"5\" halign=\"left\">2007-06-01</th>\n",
       "      <th colspan=\"5\" halign=\"left\">2007-07-01</th>\n",
       "      <th>...</th>\n",
       "      <th colspan=\"3\" halign=\"left\">2016-11-01</th>\n",
       "      <th colspan=\"7\" halign=\"left\">2016-12-01</th>\n",
       "    </tr>\n",
       "    <tr>\n",
       "      <th>grade</th>\n",
       "      <th>A</th>\n",
       "      <th>B</th>\n",
       "      <th>C</th>\n",
       "      <th>D</th>\n",
       "      <th>E</th>\n",
       "      <th>A</th>\n",
       "      <th>B</th>\n",
       "      <th>C</th>\n",
       "      <th>D</th>\n",
       "      <th>E</th>\n",
       "      <th>...</th>\n",
       "      <th>E</th>\n",
       "      <th>F</th>\n",
       "      <th>G</th>\n",
       "      <th>A</th>\n",
       "      <th>B</th>\n",
       "      <th>C</th>\n",
       "      <th>D</th>\n",
       "      <th>E</th>\n",
       "      <th>F</th>\n",
       "      <th>G</th>\n",
       "    </tr>\n",
       "  </thead>\n",
       "  <tbody>\n",
       "    <tr>\n",
       "      <th>int_rate</th>\n",
       "      <td>7.748571</td>\n",
       "      <td>9.445</td>\n",
       "      <td>10.906667</td>\n",
       "      <td>12.49</td>\n",
       "      <td>13.91</td>\n",
       "      <td>7.706667</td>\n",
       "      <td>9.363333</td>\n",
       "      <td>10.74</td>\n",
       "      <td>12.734444</td>\n",
       "      <td>14.46125</td>\n",
       "      <td>...</td>\n",
       "      <td>24.369287</td>\n",
       "      <td>29.654418</td>\n",
       "      <td>30.84418</td>\n",
       "      <td>6.989917</td>\n",
       "      <td>10.575706</td>\n",
       "      <td>14.149489</td>\n",
       "      <td>18.842871</td>\n",
       "      <td>24.342873</td>\n",
       "      <td>29.68329</td>\n",
       "      <td>30.868226</td>\n",
       "    </tr>\n",
       "  </tbody>\n",
       "</table>\n",
       "<p>1 rows × 802 columns</p>\n",
       "</div>"
      ],
      "text/plain": [
       "issue_d  2007-06-01                                 2007-07-01            \\\n",
       "grade             A      B          C      D      E          A         B   \n",
       "int_rate   7.748571  9.445  10.906667  12.49  13.91   7.706667  9.363333   \n",
       "\n",
       "issue_d                               ... 2016-11-01                       \\\n",
       "grade         C          D         E  ...          E          F         G   \n",
       "int_rate  10.74  12.734444  14.46125  ...  24.369287  29.654418  30.84418   \n",
       "\n",
       "issue_d  2016-12-01                                                        \\\n",
       "grade             A          B          C          D          E         F   \n",
       "int_rate   6.989917  10.575706  14.149489  18.842871  24.342873  29.68329   \n",
       "\n",
       "issue_d              \n",
       "grade             G  \n",
       "int_rate  30.868226  \n",
       "\n",
       "[1 rows x 802 columns]"
      ]
     },
     "execution_count": 84,
     "metadata": {},
     "output_type": "execute_result"
    }
   ],
   "source": [
    "by_year = pd.DataFrame(accepted.groupby(['issue_d','grade'])['int_rate'].mean())\n",
    "by_year.T\n",
    "\n",
    "# accepted['issue_d']= pd.to_datetime(accepted['issue_d'])\n",
    "# accepted['issue_month'] = accepted['issue_d'].dt.month\n",
    "# accepted['issue_year'] = accepted['issue_d'].dt.year"
   ]
  },
  {
   "cell_type": "code",
   "execution_count": 85,
   "metadata": {},
   "outputs": [
    {
     "data": {
      "text/html": [
       "<div>\n",
       "<style scoped>\n",
       "    .dataframe tbody tr th:only-of-type {\n",
       "        vertical-align: middle;\n",
       "    }\n",
       "\n",
       "    .dataframe tbody tr th {\n",
       "        vertical-align: top;\n",
       "    }\n",
       "\n",
       "    .dataframe thead tr th {\n",
       "        text-align: left;\n",
       "    }\n",
       "</style>\n",
       "<table border=\"1\" class=\"dataframe\">\n",
       "  <thead>\n",
       "    <tr>\n",
       "      <th>issue_d</th>\n",
       "      <th colspan=\"10\" halign=\"left\">2007-06-01</th>\n",
       "      <th>...</th>\n",
       "      <th colspan=\"10\" halign=\"left\">2016-12-01</th>\n",
       "    </tr>\n",
       "    <tr>\n",
       "      <th>sub_grade</th>\n",
       "      <th>A1</th>\n",
       "      <th>A2</th>\n",
       "      <th>A3</th>\n",
       "      <th>A5</th>\n",
       "      <th>B2</th>\n",
       "      <th>B3</th>\n",
       "      <th>B4</th>\n",
       "      <th>B5</th>\n",
       "      <th>C1</th>\n",
       "      <th>C2</th>\n",
       "      <th>...</th>\n",
       "      <th>F1</th>\n",
       "      <th>F2</th>\n",
       "      <th>F3</th>\n",
       "      <th>F4</th>\n",
       "      <th>F5</th>\n",
       "      <th>G1</th>\n",
       "      <th>G2</th>\n",
       "      <th>G3</th>\n",
       "      <th>G4</th>\n",
       "      <th>G5</th>\n",
       "    </tr>\n",
       "  </thead>\n",
       "  <tbody>\n",
       "    <tr>\n",
       "      <th>int_rate</th>\n",
       "      <td>7.12</td>\n",
       "      <td>7.43</td>\n",
       "      <td>7.75</td>\n",
       "      <td>8.38</td>\n",
       "      <td>9.01</td>\n",
       "      <td>9.33</td>\n",
       "      <td>9.64</td>\n",
       "      <td>9.96</td>\n",
       "      <td>10.28</td>\n",
       "      <td>10.59</td>\n",
       "      <td>...</td>\n",
       "      <td>28.69</td>\n",
       "      <td>29.49</td>\n",
       "      <td>29.99</td>\n",
       "      <td>30.49</td>\n",
       "      <td>30.74</td>\n",
       "      <td>30.79</td>\n",
       "      <td>30.84</td>\n",
       "      <td>30.89</td>\n",
       "      <td>30.94</td>\n",
       "      <td>30.99</td>\n",
       "    </tr>\n",
       "  </tbody>\n",
       "</table>\n",
       "<p>1 rows × 3838 columns</p>\n",
       "</div>"
      ],
      "text/plain": [
       "issue_d   2007-06-01                                                          \\\n",
       "sub_grade         A1    A2    A3    A5    B2    B3    B4    B5     C1     C2   \n",
       "int_rate        7.12  7.43  7.75  8.38  9.01  9.33  9.64  9.96  10.28  10.59   \n",
       "\n",
       "issue_d    ... 2016-12-01                                                   \\\n",
       "sub_grade  ...         F1     F2     F3     F4     F5     G1     G2     G3   \n",
       "int_rate   ...      28.69  29.49  29.99  30.49  30.74  30.79  30.84  30.89   \n",
       "\n",
       "issue_d                  \n",
       "sub_grade     G4     G5  \n",
       "int_rate   30.94  30.99  \n",
       "\n",
       "[1 rows x 3838 columns]"
      ]
     },
     "execution_count": 85,
     "metadata": {},
     "output_type": "execute_result"
    }
   ],
   "source": [
    "by_year_sub = pd.DataFrame(accepted.groupby(['issue_d','sub_grade'])['int_rate'].mean())\n",
    "by_year_sub.T"
   ]
  },
  {
   "cell_type": "markdown",
   "metadata": {},
   "source": [
    "If the analysis is refined by separating loans with different start months (the year-month loan issuance date), \n",
    "report your finding.\n"
   ]
  },
  {
   "cell_type": "code",
   "execution_count": 46,
   "metadata": {},
   "outputs": [
    {
     "data": {
      "text/plain": [
       "<matplotlib.axes._subplots.AxesSubplot at 0x1a1e0541d0>"
      ]
     },
     "execution_count": 46,
     "metadata": {},
     "output_type": "execute_result"
    },
    {
     "data": {
      "image/png": "[encoded data removed]",
      "text/plain": [
       "<Figure size 432x288 with 1 Axes>"
      ]
     },
     "metadata": {},
     "output_type": "display_data"
    }
   ],
   "source": [
    "accepted.groupby(['issue_d'])['int_rate'].mean().plot()"
   ]
  },
  {
   "cell_type": "code",
   "execution_count": 89,
   "metadata": {},
   "outputs": [
    {
     "data": {
      "text/plain": [
       "<matplotlib.axes._subplots.AxesSubplot at 0x1a2efea080>"
      ]
     },
     "execution_count": 89,
     "metadata": {},
     "output_type": "execute_result"
    },
    {
     "data": {
      "image/png": "[encoded data removed]",
      "text/plain": [
       "<Figure size 432x288 with 1 Axes>"
      ]
     },
     "metadata": {},
     "output_type": "display_data"
    }
   ],
   "source": [
    "accepted.groupby(['issue_month'])['int_rate'].mean().plot()"
   ]
  },
  {
   "cell_type": "code",
   "execution_count": 103,
   "metadata": {},
   "outputs": [
    {
     "data": {
      "text/html": [
       "<div>\n",
       "<style scoped>\n",
       "    .dataframe tbody tr th:only-of-type {\n",
       "        vertical-align: middle;\n",
       "    }\n",
       "\n",
       "    .dataframe tbody tr th {\n",
       "        vertical-align: top;\n",
       "    }\n",
       "\n",
       "    .dataframe thead tr th {\n",
       "        text-align: left;\n",
       "    }\n",
       "</style>\n",
       "<table border=\"1\" class=\"dataframe\">\n",
       "  <thead>\n",
       "    <tr>\n",
       "      <th>issue_month</th>\n",
       "      <th colspan=\"7\" halign=\"left\">1</th>\n",
       "      <th colspan=\"3\" halign=\"left\">2</th>\n",
       "      <th>...</th>\n",
       "      <th colspan=\"3\" halign=\"left\">11</th>\n",
       "      <th colspan=\"7\" halign=\"left\">12</th>\n",
       "    </tr>\n",
       "    <tr>\n",
       "      <th>grade</th>\n",
       "      <th>A</th>\n",
       "      <th>B</th>\n",
       "      <th>C</th>\n",
       "      <th>D</th>\n",
       "      <th>E</th>\n",
       "      <th>F</th>\n",
       "      <th>G</th>\n",
       "      <th>A</th>\n",
       "      <th>B</th>\n",
       "      <th>C</th>\n",
       "      <th>...</th>\n",
       "      <th>E</th>\n",
       "      <th>F</th>\n",
       "      <th>G</th>\n",
       "      <th>A</th>\n",
       "      <th>B</th>\n",
       "      <th>C</th>\n",
       "      <th>D</th>\n",
       "      <th>E</th>\n",
       "      <th>F</th>\n",
       "      <th>G</th>\n",
       "    </tr>\n",
       "  </thead>\n",
       "  <tbody>\n",
       "    <tr>\n",
       "      <th>int_rate</th>\n",
       "      <td>7.243729</td>\n",
       "      <td>10.729758</td>\n",
       "      <td>13.91215</td>\n",
       "      <td>17.038464</td>\n",
       "      <td>20.07244</td>\n",
       "      <td>23.668186</td>\n",
       "      <td>26.108357</td>\n",
       "      <td>7.168965</td>\n",
       "      <td>10.595317</td>\n",
       "      <td>13.912684</td>\n",
       "      <td>...</td>\n",
       "      <td>20.795495</td>\n",
       "      <td>24.583133</td>\n",
       "      <td>26.849468</td>\n",
       "      <td>7.123205</td>\n",
       "      <td>10.603009</td>\n",
       "      <td>13.891447</td>\n",
       "      <td>17.701071</td>\n",
       "      <td>20.971845</td>\n",
       "      <td>25.001992</td>\n",
       "      <td>27.545872</td>\n",
       "    </tr>\n",
       "  </tbody>\n",
       "</table>\n",
       "<p>1 rows × 84 columns</p>\n",
       "</div>"
      ],
      "text/plain": [
       "issue_month        1                                                        \\\n",
       "grade               A          B         C          D         E          F   \n",
       "int_rate     7.243729  10.729758  13.91215  17.038464  20.07244  23.668186   \n",
       "\n",
       "issue_month                   2                         ...         11  \\\n",
       "grade                G         A          B          C  ...          E   \n",
       "int_rate     26.108357  7.168965  10.595317  13.912684  ...  20.795495   \n",
       "\n",
       "issue_month                              12                                   \\\n",
       "grade                F          G         A          B          C          D   \n",
       "int_rate     24.583133  26.849468  7.123205  10.603009  13.891447  17.701071   \n",
       "\n",
       "issue_month                                   \n",
       "grade                E          F          G  \n",
       "int_rate     20.971845  25.001992  27.545872  \n",
       "\n",
       "[1 rows x 84 columns]"
      ]
     },
     "execution_count": 103,
     "metadata": {},
     "output_type": "execute_result"
    }
   ],
   "source": [
    "by_month = pd.DataFrame(accepted.groupby(['issue_month','grade'])['int_rate'].mean())\n",
    "by_month.T"
   ]
  },
  {
   "cell_type": "code",
   "execution_count": 104,
   "metadata": {},
   "outputs": [
    {
     "data": {
      "text/html": [
       "<div>\n",
       "<style scoped>\n",
       "    .dataframe tbody tr th:only-of-type {\n",
       "        vertical-align: middle;\n",
       "    }\n",
       "\n",
       "    .dataframe tbody tr th {\n",
       "        vertical-align: top;\n",
       "    }\n",
       "\n",
       "    .dataframe thead tr th {\n",
       "        text-align: left;\n",
       "    }\n",
       "</style>\n",
       "<table border=\"1\" class=\"dataframe\">\n",
       "  <thead>\n",
       "    <tr>\n",
       "      <th>issue_month</th>\n",
       "      <th colspan=\"10\" halign=\"left\">1</th>\n",
       "      <th>...</th>\n",
       "      <th colspan=\"10\" halign=\"left\">12</th>\n",
       "    </tr>\n",
       "    <tr>\n",
       "      <th>sub_grade</th>\n",
       "      <th>A1</th>\n",
       "      <th>A2</th>\n",
       "      <th>A3</th>\n",
       "      <th>A4</th>\n",
       "      <th>A5</th>\n",
       "      <th>B1</th>\n",
       "      <th>B2</th>\n",
       "      <th>B3</th>\n",
       "      <th>B4</th>\n",
       "      <th>B5</th>\n",
       "      <th>...</th>\n",
       "      <th>F1</th>\n",
       "      <th>F2</th>\n",
       "      <th>F3</th>\n",
       "      <th>F4</th>\n",
       "      <th>F5</th>\n",
       "      <th>G1</th>\n",
       "      <th>G2</th>\n",
       "      <th>G3</th>\n",
       "      <th>G4</th>\n",
       "      <th>G5</th>\n",
       "    </tr>\n",
       "  </thead>\n",
       "  <tbody>\n",
       "    <tr>\n",
       "      <th>int_rate</th>\n",
       "      <td>5.641989</td>\n",
       "      <td>6.50864</td>\n",
       "      <td>7.144929</td>\n",
       "      <td>7.602571</td>\n",
       "      <td>8.266818</td>\n",
       "      <td>8.920095</td>\n",
       "      <td>9.838695</td>\n",
       "      <td>10.735311</td>\n",
       "      <td>11.647993</td>\n",
       "      <td>12.175071</td>\n",
       "      <td>...</td>\n",
       "      <td>23.872958</td>\n",
       "      <td>24.781421</td>\n",
       "      <td>25.167146</td>\n",
       "      <td>26.03513</td>\n",
       "      <td>26.836156</td>\n",
       "      <td>27.189946</td>\n",
       "      <td>27.546584</td>\n",
       "      <td>27.87156</td>\n",
       "      <td>27.7144</td>\n",
       "      <td>27.812424</td>\n",
       "    </tr>\n",
       "  </tbody>\n",
       "</table>\n",
       "<p>1 rows × 420 columns</p>\n",
       "</div>"
      ],
      "text/plain": [
       "issue_month        1                                                    \\\n",
       "sub_grade          A1       A2        A3        A4        A5        B1   \n",
       "int_rate     5.641989  6.50864  7.144929  7.602571  8.266818  8.920095   \n",
       "\n",
       "issue_month                                             ...         12  \\\n",
       "sub_grade          B2         B3         B4         B5  ...         F1   \n",
       "int_rate     9.838695  10.735311  11.647993  12.175071  ...  23.872958   \n",
       "\n",
       "issue_month                                                                   \\\n",
       "sub_grade           F2         F3        F4         F5         G1         G2   \n",
       "int_rate     24.781421  25.167146  26.03513  26.836156  27.189946  27.546584   \n",
       "\n",
       "issue_month                                \n",
       "sub_grade          G3       G4         G5  \n",
       "int_rate     27.87156  27.7144  27.812424  \n",
       "\n",
       "[1 rows x 420 columns]"
      ]
     },
     "execution_count": 104,
     "metadata": {},
     "output_type": "execute_result"
    }
   ],
   "source": [
    "by_month_sub = pd.DataFrame(accepted.groupby(['issue_month','sub_grade'])['int_rate'].mean())\n",
    "by_month_sub.T"
   ]
  },
  {
   "cell_type": "code",
   "execution_count": 48,
   "metadata": {},
   "outputs": [
    {
     "data": {
      "text/plain": [
       "<matplotlib.axes._subplots.AxesSubplot at 0x1a1e06c5c0>"
      ]
     },
     "execution_count": 48,
     "metadata": {},
     "output_type": "execute_result"
    },
    {
     "data": {
      "image/png": "[encoded data removed]",
      "text/plain": [
       "<Figure size 432x288 with 1 Axes>"
      ]
     },
     "metadata": {},
     "output_type": "display_data"
    }
   ],
   "source": [
    "accepted[['issue_year', 'int_rate']].boxplot(by='issue_year')"
   ]
  },
  {
   "cell_type": "code",
   "execution_count": 50,
   "metadata": {},
   "outputs": [
    {
     "data": {
      "text/plain": [
       "<matplotlib.axes._subplots.AxesSubplot at 0x1a1ed79710>"
      ]
     },
     "execution_count": 50,
     "metadata": {},
     "output_type": "execute_result"
    },
    {
     "data": {
      "image/png": "[encoded data removed]",
      "text/plain": [
       "<Figure size 432x288 with 1 Axes>"
      ]
     },
     "metadata": {},
     "output_type": "display_data"
    }
   ],
   "source": [
    "accepted[['issue_month', 'int_rate']].boxplot(by='issue_month')"
   ]
  },
  {
   "cell_type": "markdown",
   "metadata": {},
   "source": [
    "Any rational explanation on why the interest rate should be grade/sub-grade dependent?\n"
   ]
  },
  {
   "cell_type": "markdown",
   "metadata": {},
   "source": [
    "- The interest rates take into account of credit risk and market conditions and the final interet rate for each \n",
    "loan grade is calculated by the following equation: Lending Club Base Rate + Adjustment for Risk & Volatility\n",
    "\n",
    "- Where the \"Adjustment for Risk & Volatility\" is designed to cover expected losses and provide higher risk-adjusted returns for each loan grade increment from A1 to G5.\n",
    "\n",
    "- The loan grade is the result of a formula that takes into account not only credit score, but also a combination of several indicators of credit risk from the credit report and loan application "
   ]
  },
  {
   "cell_type": "markdown",
   "metadata": {},
   "source": [
    "Any rational explanation on the time series variations of interest rates?\n"
   ]
  },
  {
   "cell_type": "markdown",
   "metadata": {},
   "source": [
    "- Financial indesutry faces seasonality, where the basic seasonal pattern of the banking industry follows\n",
    "    - a period of annual lows in late January and February, \n",
    "    - a surge in loans that begins in March\n",
    "    - rises sharply through May, usually peaking in early June\n",
    "        - From there, demand for banking services typically remains relatively flat to slightly down through \n",
    "        the summer months, extends to around the first of October\n",
    "    - Then, a steady increase in business from the first part of October through the first part of January\n",
    "\n",
    "- Interest rates tend to be lower in spring and fall, and higher in winter and summer, and corporations obviously try to obtain major financing when rates are lowest. Spring is historically the prime home buying season. This leads to a sharp increase in applications for home mortgages during March, April and May.\n",
    "\n",
    "- A third factor that drives the seasonal pattern for the banking industry is the increased demand for investment services that occurs in December and the first part of January. This is the time of year when portfolio and fund managers do a lot of rebalancing and when individuals make significant investment adjustments, such as end-of-the-year or first-of-the-year moves designed to gain tax advantages.\n",
    "\n",
    "- Tax planning is also a factor in the demand for bank services and can be a factor contributing to the seasonal  rise in activity that begins in March, just prior to the April 15th income tax deadline."
   ]
  },
  {
   "cell_type": "markdown",
   "metadata": {},
   "source": [
    "Any rational explanation why the interest rate rise w.r.t. loan term?\n"
   ]
  },
  {
   "cell_type": "markdown",
   "metadata": {},
   "source": [
    "- With a longer duration (loan term) comes a higher risk that the loan will not be repaid, which generally \n",
    "explains why long-term rates are higher than short-term ones, in addition to the overall capacity for \n",
    "customers to take on debt"
   ]
  },
  {
   "cell_type": "markdown",
   "metadata": {},
   "source": [
    "For investors, it is crucial to know whether a loan is served to completion (loan_status 'Fully Paid').\n",
    "Please analyze the percentages of non-completed loans in each loan grade/subgrade (i.e. default, charged off) which go beyond delinquency."
   ]
  },
  {
   "cell_type": "code",
   "execution_count": 147,
   "metadata": {},
   "outputs": [
    {
     "name": "stdout",
     "output_type": "stream",
     "text": [
      "A 34.13633168077278 %\n",
      "B 32.440851785691336 %\n",
      "C 27.47163802475275 %\n",
      "D 28.339170339955317 %\n",
      "E 25.551733427274797 %\n",
      "F 25.862335175863876 %\n",
      "G 24.83830845771144 %\n"
     ]
    }
   ],
   "source": [
    "grades = sorted(list(sub.grade.unique()))\n",
    "\n",
    "for grade in grades:\n",
    "    sub_grade = sub[sub['grade']== grade]\n",
    "    total_grade = sub_grade.shape[0]\n",
    "    sub_grade_paid = sub_grade[sub_grade['loan_status']=='Fully Paid'].shape[0] #74777\n",
    "    print(grade,sub_grade_paid/total_grade*100, '%')"
   ]
  },
  {
   "cell_type": "code",
   "execution_count": 110,
   "metadata": {},
   "outputs": [
    {
     "name": "stdout",
     "output_type": "stream",
     "text": [
      "A1 27.975118284218365 %\n",
      "A2 34.11970029789667 %\n",
      "A3 36.93723299375616 %\n",
      "A4 37.10567983435508 %\n",
      "A5 34.413904213250014 %\n",
      "B1 31.199147477714895 %\n",
      "B2 34.35117660844511 %\n",
      "B3 35.209486166007906 %\n",
      "B4 32.4732528754635 %\n",
      "B5 28.914415425677863 %\n",
      "C1 28.526874507173204 %\n",
      "C2 28.679427172520516 %\n",
      "C3 27.34405025378692 %\n",
      "C4 25.899810002943617 %\n",
      "C5 26.569671235442883 %\n",
      "D1 28.337710339461143 %\n",
      "D2 28.411638175025473 %\n",
      "D3 29.16711244249492 %\n",
      "D4 27.945472249269717 %\n",
      "D5 27.671058366019647 %\n",
      "E1 25.169962316926302 %\n",
      "E2 26.77622917328733 %\n",
      "E3 24.849047840222944 %\n",
      "E4 25.368584758942458 %\n",
      "E5 25.507747856175715 %\n",
      "F1 26.892924481492507 %\n",
      "F2 25.309944605644947 %\n",
      "F3 26.551273677335075 %\n",
      "F4 25.11453561016243 %\n",
      "F5 24.065297525013165 %\n",
      "G1 26.52058934642992 %\n",
      "G2 25.198019801980198 %\n",
      "G3 22.92950034223135 %\n",
      "G4 25.145631067961165 %\n",
      "G5 21.768707482993197 %\n"
     ]
    }
   ],
   "source": [
    "sub_grades = sorted(list(sub.sub_grade.unique()))\n",
    "\n",
    "for sub_grade in sub_grades:\n",
    "    sub_grade_s = sub[sub['sub_grade']== sub_grade]\n",
    "    total_grade_s = sub_grade_s.shape[0]\n",
    "    sub_grade_s_paid = sub_grade_s[sub_grade_s['loan_status']=='Fully Paid'].shape[0] #74777\n",
    "    print(sub_grade, sub_grade_s_paid/total_grade_s*100, '%')"
   ]
  },
  {
   "cell_type": "markdown",
   "metadata": {},
   "source": [
    "- Provide justification the introduction of loan grade/subgrade.\n",
    "- Provide justification on the rate hike on riskier loan grade/subgrade."
   ]
  },
  {
   "cell_type": "markdown",
   "metadata": {},
   "source": [
    "- Loan grading is a classification system that involves assigning a quality score to a loan based on a borrower's credit history, quality of collateral and likelihood of repayment of the principal and interest. A score can also be applied to a portfolio of loans\n",
    "\n",
    "- Banks often develop their own rating scales comprising as many as 12 categories ranging from \"prime,\" indicating little to no risk, to \"substandard\" or \"doubtful,\" indicating a high probability that the loan will be uncollectible—and \"loss,\" indicating little or no recovery is likely.\n",
    "\n",
    "- Bank examiners use a classification system when conducting a bank examination and will assign their own scores to a sample of the bank's loan portfolio. In assigning a score to a loan, the examiner will review the loan documentation, collateral and the borrower's financial statements.\n",
    "\n",
    "- Banks may develop their own loan grading scales with as many as a dozen categories ranging from \"prime,\" for which there is little or no risk, to \"loss,\" which indicates that little or no recovery is likely. A standardized loan classification system published by three Federal supervisory agencies in 1949 included three primary categories for loans considered weak:\n",
    "\n",
    "- Substandard loans were those carrying higher-than-normal risk due to the financial health or unfavorable history of the borrower, inadequate collateral, or other factors. Doubtful loans were those for which collection was doubtful, but the loss was not determined. Loss referred to loans considered uncollectible.\n"
   ]
  },
  {
   "cell_type": "markdown",
   "metadata": {},
   "source": [
    "?? What happens to percentage rates of loans involving settlement? Make sure that your analysis takes into account of loan-term."
   ]
  },
  {
   "cell_type": "code",
   "execution_count": 102,
   "metadata": {},
   "outputs": [
    {
     "name": "stdout",
     "output_type": "stream",
     "text": [
      "                 id     member_id     loan_amnt   funded_amnt  \\\n",
      "count  1.321847e+06  1.321847e+06  1.321847e+06  1.321847e+06   \n",
      "mean   4.872486e+07  5.236894e+07  1.474822e+04  1.473922e+04   \n",
      "std    3.024669e+07  3.218029e+07  8.622143e+03  8.618488e+03   \n",
      "min    5.473400e+04  7.047300e+04  5.000000e+02  5.000000e+02   \n",
      "25%    1.858618e+07  2.071726e+07  8.000000e+03  8.000000e+03   \n",
      "50%    5.436330e+07  5.793481e+07  1.290000e+04  1.285000e+04   \n",
      "75%    7.457674e+07  7.995784e+07  2.000000e+04  2.000000e+04   \n",
      "max    9.645316e+07  1.035709e+08  4.000000e+04  4.000000e+04   \n",
      "\n",
      "       funded_amnt_inv      int_rate   installment    annual_inc  \\\n",
      "count     1.321847e+06  1.321847e+06  1.321847e+06  1.321843e+06   \n",
      "mean      1.471071e+04  1.317963e+01  4.391420e+02  7.649594e+04   \n",
      "std       8.625729e+03  4.570613e+00  2.532324e+02  6.911192e+04   \n",
      "min       0.000000e+00  5.320000e+00  1.567000e+01  0.000000e+00   \n",
      "25%       8.000000e+03  9.750000e+00  2.559000e+02  4.600000e+04   \n",
      "50%       1.280000e+04  1.279000e+01  3.802600e+02  6.500000e+04   \n",
      "75%       2.000000e+04  1.580000e+01  5.783100e+02  9.000000e+04   \n",
      "max       4.000000e+04  3.099000e+01  1.584900e+03  9.573072e+06   \n",
      "\n",
      "                dti   delinq_2yrs  ...  pct_tl_nvr_dlq  percent_bc_gt_75  \\\n",
      "count  1.321847e+06  1.321818e+06  ...    1.251418e+06      1.258823e+06   \n",
      "mean   1.887239e+01  3.295938e-01  ...    9.406750e+01      4.745467e+01   \n",
      "std    7.098519e+01  8.920428e-01  ...    8.790950e+00      3.583138e+01   \n",
      "min   -1.000000e+00  0.000000e+00  ...    0.000000e+00      0.000000e+00   \n",
      "25%    1.204000e+01  0.000000e+00  ...    9.110000e+01      1.670000e+01   \n",
      "50%    1.783000e+01  0.000000e+00  ...    9.760000e+01      5.000000e+01   \n",
      "75%    2.424000e+01  0.000000e+00  ...    1.000000e+02      7.500000e+01   \n",
      "max    9.999000e+03  3.900000e+01  ...    1.000000e+02      1.000000e+02   \n",
      "\n",
      "       pub_rec_bankruptcies     tax_liens  tot_hi_cred_lim  total_bal_ex_mort  \\\n",
      "count          1.320482e+06  1.321742e+06     1.251571e+06       1.271817e+06   \n",
      "mean           1.267870e-01  5.661468e-02     1.736727e+05       5.029927e+04   \n",
      "std            3.726020e-01  4.183959e-01     1.768078e+05       4.779373e+04   \n",
      "min            0.000000e+00  0.000000e+00     0.000000e+00       0.000000e+00   \n",
      "25%            0.000000e+00  0.000000e+00     4.978900e+04       2.143000e+04   \n",
      "50%            0.000000e+00  0.000000e+00     1.123890e+05       3.788800e+04   \n",
      "75%            0.000000e+00  0.000000e+00     2.508545e+05       6.325100e+04   \n",
      "max            1.200000e+01  8.500000e+01     9.999999e+06       2.921551e+06   \n",
      "\n",
      "       total_bc_limit  total_il_high_credit_limit   issue_month    issue_year  \n",
      "count    1.271817e+06                1.251571e+06  1.321847e+06  1.321847e+06  \n",
      "mean     2.148790e+04                4.221178e+04  6.767172e+00  2.014672e+03  \n",
      "std      2.130429e+04                4.330529e+04  3.438023e+00  1.390063e+00  \n",
      "min      0.000000e+00                0.000000e+00  1.000000e+00  2.007000e+03  \n",
      "25%      7.800000e+03                1.482500e+04  4.000000e+00  2.014000e+03  \n",
      "50%      1.500000e+04                3.172800e+04  7.000000e+00  2.015000e+03  \n",
      "75%      2.800000e+04                5.671200e+04  1.000000e+01  2.016000e+03  \n",
      "max      1.105500e+06                2.101913e+06  1.200000e+01  2.016000e+03  \n",
      "\n",
      "[8 rows x 90 columns]\n"
     ]
    }
   ],
   "source": [
    "print(accepted.describe())\n",
    "#print(rejected.describe())\n",
    "#print(accepted.column_name.value_counts())\n",
    "#rejected.column_name.value_counts()"
   ]
  }
 ],
 "metadata": {
  "kernelspec": {
   "display_name": "Python 3",
   "language": "python",
   "name": "python3"
  },
  "language_info": {
   "codemirror_mode": {
    "name": "ipython",
    "version": 3
   },
   "file_extension": ".py",
   "mimetype": "text/x-python",
   "name": "python",
   "nbconvert_exporter": "python",
   "pygments_lexer": "ipython3",
   "version": "3.7.3"
  }
 },
 "nbformat": 4,
 "nbformat_minor": 2
}
